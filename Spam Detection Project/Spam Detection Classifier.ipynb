{
 "cells": [
  {
   "cell_type": "markdown",
   "id": "3f32ba68-6d70-45e6-88e9-65b5ecaa7e6b",
   "metadata": {
    "tags": []
   },
   "source": [
    "## Spam Message Detection Classifier Project"
   ]
  },
  {
   "cell_type": "markdown",
   "id": "2b04ee86-41c7-482f-96ac-43219775f088",
   "metadata": {
    "tags": []
   },
   "source": [
    "### Overview "
   ]
  },
  {
   "cell_type": "markdown",
   "id": "733a3a5d-0ccf-4811-8f71-19f3a73dda8c",
   "metadata": {},
   "source": [
    "1. Data Extraction ✔\n",
    "2. Data cleaning ✔\n",
    "    * dealing with null values\n",
    "    * removing duplicates\n",
    "3. EDA ✔\n",
    "    * creating features such as number of characters, words and sentences to better understand the data\n",
    "4. Text Preprocessing✔\n",
    "    * Convert to lowercase\n",
    "    * Tokenization\n",
    "    * Removing Special Characters and punctuations\n",
    "    * Removing Stop words\n",
    "    * Stemming\n",
    "    * Vectorization (convert text data into numerical feature)\n",
    "        * Using Count Vectorizer\n",
    "        * Using TF-IDF\n",
    "5. Modeling (Model Building) ✔\n",
    "    * Train Test Split\n",
    "    * Naive Bayes\n",
    "        * Gaussian Naive Bayes\n",
    "        * Multinomial Naive Bayes\n",
    "        * Bernoulli Naive Bayes\n",
    "    * Some other Classifiers\n",
    "        * SVC\n",
    "        * KNeighbors\n",
    "        * Random Forest\n",
    "        * XGBoost\n",
    "        * Gradient Boosted Decision Tree\n",
    "        * Decision Tree\n",
    "        * Logistic Regression\n",
    "    * Evaluation and Model Selection \n",
    "    * Trying some Improvements\n",
    "6. Export model and vectorizer for deployment ✔\n",
    "    * Making Predictions on New Messages"
   ]
  },
  {
   "cell_type": "markdown",
   "id": "258d7b4d-1e93-41ba-8030-8450ea62f7a1",
   "metadata": {
    "jp-MarkdownHeadingCollapsed": true,
    "tags": []
   },
   "source": [
    "### 1. Data Extraction"
   ]
  },
  {
   "cell_type": "code",
   "execution_count": 70,
   "id": "5f60ad73-1d58-4092-b097-794ad4286dbb",
   "metadata": {},
   "outputs": [],
   "source": [
    "#importing libraries\n",
    "import pandas as pd\n",
    "import numpy as np\n",
    "import seaborn as sns\n",
    "import matplotlib.pyplot as plt\n",
    "%matplotlib inline\n",
    "\n",
    "import nltk \n",
    "from nltk.corpus import stopwords"
   ]
  },
  {
   "cell_type": "code",
   "execution_count": 5,
   "id": "fb23f50b-0e35-4fc9-b10b-e011f050f826",
   "metadata": {},
   "outputs": [],
   "source": [
    "data = pd.read_csv('spam.csv')"
   ]
  },
  {
   "cell_type": "code",
   "execution_count": 6,
   "id": "43007bc0-5a21-42f3-be96-3db813503da6",
   "metadata": {},
   "outputs": [
    {
     "data": {
      "text/html": [
       "<div>\n",
       "<style scoped>\n",
       "    .dataframe tbody tr th:only-of-type {\n",
       "        vertical-align: middle;\n",
       "    }\n",
       "\n",
       "    .dataframe tbody tr th {\n",
       "        vertical-align: top;\n",
       "    }\n",
       "\n",
       "    .dataframe thead th {\n",
       "        text-align: right;\n",
       "    }\n",
       "</style>\n",
       "<table border=\"1\" class=\"dataframe\">\n",
       "  <thead>\n",
       "    <tr style=\"text-align: right;\">\n",
       "      <th></th>\n",
       "      <th>v1</th>\n",
       "      <th>v2</th>\n",
       "      <th>Unnamed: 2</th>\n",
       "      <th>Unnamed: 3</th>\n",
       "      <th>Unnamed: 4</th>\n",
       "    </tr>\n",
       "  </thead>\n",
       "  <tbody>\n",
       "    <tr>\n",
       "      <th>2052</th>\n",
       "      <td>spam</td>\n",
       "      <td>Call 09094100151 to use ur mins! Calls cast 10...</td>\n",
       "      <td>NaN</td>\n",
       "      <td>NaN</td>\n",
       "      <td>NaN</td>\n",
       "    </tr>\n",
       "    <tr>\n",
       "      <th>3267</th>\n",
       "      <td>ham</td>\n",
       "      <td>Which is why i never wanted to tell you any of...</td>\n",
       "      <td>NaN</td>\n",
       "      <td>NaN</td>\n",
       "      <td>NaN</td>\n",
       "    </tr>\n",
       "    <tr>\n",
       "      <th>495</th>\n",
       "      <td>ham</td>\n",
       "      <td>Got meh... When?</td>\n",
       "      <td>NaN</td>\n",
       "      <td>NaN</td>\n",
       "      <td>NaN</td>\n",
       "    </tr>\n",
       "    <tr>\n",
       "      <th>1731</th>\n",
       "      <td>ham</td>\n",
       "      <td>Lol. Well quality aint bad at all so i aint co...</td>\n",
       "      <td>NaN</td>\n",
       "      <td>NaN</td>\n",
       "      <td>NaN</td>\n",
       "    </tr>\n",
       "    <tr>\n",
       "      <th>1012</th>\n",
       "      <td>ham</td>\n",
       "      <td>I dunno they close oredi not... ÌÏ v ma fan...</td>\n",
       "      <td>NaN</td>\n",
       "      <td>NaN</td>\n",
       "      <td>NaN</td>\n",
       "    </tr>\n",
       "  </tbody>\n",
       "</table>\n",
       "</div>"
      ],
      "text/plain": [
       "        v1                                                 v2 Unnamed: 2  \\\n",
       "2052  spam  Call 09094100151 to use ur mins! Calls cast 10...        NaN   \n",
       "3267   ham  Which is why i never wanted to tell you any of...        NaN   \n",
       "495    ham                                   Got meh... When?        NaN   \n",
       "1731   ham  Lol. Well quality aint bad at all so i aint co...        NaN   \n",
       "1012   ham     I dunno they close oredi not... ÌÏ v ma fan...        NaN   \n",
       "\n",
       "     Unnamed: 3 Unnamed: 4  \n",
       "2052        NaN        NaN  \n",
       "3267        NaN        NaN  \n",
       "495         NaN        NaN  \n",
       "1731        NaN        NaN  \n",
       "1012        NaN        NaN  "
      ]
     },
     "execution_count": 6,
     "metadata": {},
     "output_type": "execute_result"
    }
   ],
   "source": [
    "data.sample(5)"
   ]
  },
  {
   "cell_type": "code",
   "execution_count": 7,
   "id": "89ac20c2-f628-45e3-89b7-c68865dd9ccf",
   "metadata": {},
   "outputs": [
    {
     "data": {
      "text/plain": [
       "(5572, 5)"
      ]
     },
     "execution_count": 7,
     "metadata": {},
     "output_type": "execute_result"
    }
   ],
   "source": [
    "data.shape"
   ]
  },
  {
   "cell_type": "markdown",
   "id": "97e7b1c1-4bd5-4029-925b-4738c3134cea",
   "metadata": {
    "jp-MarkdownHeadingCollapsed": true,
    "tags": []
   },
   "source": [
    "### 2. Data Cleaning"
   ]
  },
  {
   "cell_type": "code",
   "execution_count": 8,
   "id": "da69e664-3437-4c7e-ac71-e6f740089f5e",
   "metadata": {},
   "outputs": [
    {
     "name": "stdout",
     "output_type": "stream",
     "text": [
      "<class 'pandas.core.frame.DataFrame'>\n",
      "RangeIndex: 5572 entries, 0 to 5571\n",
      "Data columns (total 5 columns):\n",
      " #   Column      Non-Null Count  Dtype \n",
      "---  ------      --------------  ----- \n",
      " 0   v1          5572 non-null   object\n",
      " 1   v2          5572 non-null   object\n",
      " 2   Unnamed: 2  50 non-null     object\n",
      " 3   Unnamed: 3  12 non-null     object\n",
      " 4   Unnamed: 4  6 non-null      object\n",
      "dtypes: object(5)\n",
      "memory usage: 217.8+ KB\n"
     ]
    }
   ],
   "source": [
    "data.info()"
   ]
  },
  {
   "cell_type": "code",
   "execution_count": 9,
   "id": "5fb5670f-ff87-4730-88cb-af70a273aecb",
   "metadata": {},
   "outputs": [],
   "source": [
    "#drop last 3 columns as they contain almost no data\n",
    "data.drop(['Unnamed: 2', 'Unnamed: 3', 'Unnamed: 4'], axis = 1, inplace = True)"
   ]
  },
  {
   "cell_type": "code",
   "execution_count": 10,
   "id": "5b83ed70-fe3a-4011-ba3c-00cfa71afb19",
   "metadata": {},
   "outputs": [
    {
     "data": {
      "text/html": [
       "<div>\n",
       "<style scoped>\n",
       "    .dataframe tbody tr th:only-of-type {\n",
       "        vertical-align: middle;\n",
       "    }\n",
       "\n",
       "    .dataframe tbody tr th {\n",
       "        vertical-align: top;\n",
       "    }\n",
       "\n",
       "    .dataframe thead th {\n",
       "        text-align: right;\n",
       "    }\n",
       "</style>\n",
       "<table border=\"1\" class=\"dataframe\">\n",
       "  <thead>\n",
       "    <tr style=\"text-align: right;\">\n",
       "      <th></th>\n",
       "      <th>v1</th>\n",
       "      <th>v2</th>\n",
       "    </tr>\n",
       "  </thead>\n",
       "  <tbody>\n",
       "    <tr>\n",
       "      <th>5333</th>\n",
       "      <td>ham</td>\n",
       "      <td>Neither [in sterm voice] - i'm studying. All f...</td>\n",
       "    </tr>\n",
       "    <tr>\n",
       "      <th>5012</th>\n",
       "      <td>ham</td>\n",
       "      <td>Uncle G, just checking up on you. Do have a re...</td>\n",
       "    </tr>\n",
       "    <tr>\n",
       "      <th>2752</th>\n",
       "      <td>ham</td>\n",
       "      <td>Sat right? Okay thanks...</td>\n",
       "    </tr>\n",
       "    <tr>\n",
       "      <th>899</th>\n",
       "      <td>spam</td>\n",
       "      <td>Your free ringtone is waiting to be collected....</td>\n",
       "    </tr>\n",
       "    <tr>\n",
       "      <th>1770</th>\n",
       "      <td>ham</td>\n",
       "      <td>Dont show yourself. How far. Put new pictures ...</td>\n",
       "    </tr>\n",
       "  </tbody>\n",
       "</table>\n",
       "</div>"
      ],
      "text/plain": [
       "        v1                                                 v2\n",
       "5333   ham  Neither [in sterm voice] - i'm studying. All f...\n",
       "5012   ham  Uncle G, just checking up on you. Do have a re...\n",
       "2752   ham                         Sat right? Okay thanks... \n",
       "899   spam  Your free ringtone is waiting to be collected....\n",
       "1770   ham  Dont show yourself. How far. Put new pictures ..."
      ]
     },
     "execution_count": 10,
     "metadata": {},
     "output_type": "execute_result"
    }
   ],
   "source": [
    "data.sample(5)"
   ]
  },
  {
   "cell_type": "code",
   "execution_count": 11,
   "id": "7521d3cc-8ec9-4e1a-96c1-43498205f035",
   "metadata": {},
   "outputs": [],
   "source": [
    "#right now the names of columns in data are not very desciptive, so we can rename them for better understanding\n",
    "data.rename(columns = {'v1' : 'target', 'v2' : 'text'}, inplace = True)"
   ]
  },
  {
   "cell_type": "code",
   "execution_count": 12,
   "id": "9c4f3ed3-9e8d-44f7-8baf-a9be90db5c28",
   "metadata": {},
   "outputs": [
    {
     "data": {
      "text/html": [
       "<div>\n",
       "<style scoped>\n",
       "    .dataframe tbody tr th:only-of-type {\n",
       "        vertical-align: middle;\n",
       "    }\n",
       "\n",
       "    .dataframe tbody tr th {\n",
       "        vertical-align: top;\n",
       "    }\n",
       "\n",
       "    .dataframe thead th {\n",
       "        text-align: right;\n",
       "    }\n",
       "</style>\n",
       "<table border=\"1\" class=\"dataframe\">\n",
       "  <thead>\n",
       "    <tr style=\"text-align: right;\">\n",
       "      <th></th>\n",
       "      <th>target</th>\n",
       "      <th>text</th>\n",
       "    </tr>\n",
       "  </thead>\n",
       "  <tbody>\n",
       "    <tr>\n",
       "      <th>0</th>\n",
       "      <td>ham</td>\n",
       "      <td>Go until jurong point, crazy.. Available only ...</td>\n",
       "    </tr>\n",
       "    <tr>\n",
       "      <th>1</th>\n",
       "      <td>ham</td>\n",
       "      <td>Ok lar... Joking wif u oni...</td>\n",
       "    </tr>\n",
       "    <tr>\n",
       "      <th>2</th>\n",
       "      <td>spam</td>\n",
       "      <td>Free entry in 2 a wkly comp to win FA Cup fina...</td>\n",
       "    </tr>\n",
       "    <tr>\n",
       "      <th>3</th>\n",
       "      <td>ham</td>\n",
       "      <td>U dun say so early hor... U c already then say...</td>\n",
       "    </tr>\n",
       "    <tr>\n",
       "      <th>4</th>\n",
       "      <td>ham</td>\n",
       "      <td>Nah I don't think he goes to usf, he lives aro...</td>\n",
       "    </tr>\n",
       "  </tbody>\n",
       "</table>\n",
       "</div>"
      ],
      "text/plain": [
       "  target                                               text\n",
       "0    ham  Go until jurong point, crazy.. Available only ...\n",
       "1    ham                      Ok lar... Joking wif u oni...\n",
       "2   spam  Free entry in 2 a wkly comp to win FA Cup fina...\n",
       "3    ham  U dun say so early hor... U c already then say...\n",
       "4    ham  Nah I don't think he goes to usf, he lives aro..."
      ]
     },
     "execution_count": 12,
     "metadata": {},
     "output_type": "execute_result"
    }
   ],
   "source": [
    "data.head()"
   ]
  },
  {
   "cell_type": "code",
   "execution_count": 13,
   "id": "e3d0196e-5f7c-4337-822d-9ee95a2f2891",
   "metadata": {},
   "outputs": [
    {
     "data": {
      "text/plain": [
       "array(['ham', 'spam'], dtype=object)"
      ]
     },
     "execution_count": 13,
     "metadata": {},
     "output_type": "execute_result"
    }
   ],
   "source": [
    "data['target'].unique()"
   ]
  },
  {
   "cell_type": "code",
   "execution_count": 14,
   "id": "67908a0f-c03a-4153-8ecb-4594a2f46313",
   "metadata": {},
   "outputs": [],
   "source": [
    "#we have our tauniquet variable as a categorical (text) variable with 2 classes (spam and ham) and we want to perform the task of binary classification\n",
    "#so we will encode the target variable as numbers\n",
    "\n",
    "from sklearn.preprocessing import LabelEncoder\n",
    "encoder = LabelEncoder()\n",
    "\n",
    "data['target'] = encoder.fit_transform(data['target'])"
   ]
  },
  {
   "cell_type": "code",
   "execution_count": 15,
   "id": "b2efb16b-59d3-4d99-a998-dfb8e69ff5d2",
   "metadata": {},
   "outputs": [
    {
     "data": {
      "text/html": [
       "<div>\n",
       "<style scoped>\n",
       "    .dataframe tbody tr th:only-of-type {\n",
       "        vertical-align: middle;\n",
       "    }\n",
       "\n",
       "    .dataframe tbody tr th {\n",
       "        vertical-align: top;\n",
       "    }\n",
       "\n",
       "    .dataframe thead th {\n",
       "        text-align: right;\n",
       "    }\n",
       "</style>\n",
       "<table border=\"1\" class=\"dataframe\">\n",
       "  <thead>\n",
       "    <tr style=\"text-align: right;\">\n",
       "      <th></th>\n",
       "      <th>target</th>\n",
       "      <th>text</th>\n",
       "    </tr>\n",
       "  </thead>\n",
       "  <tbody>\n",
       "    <tr>\n",
       "      <th>0</th>\n",
       "      <td>0</td>\n",
       "      <td>Go until jurong point, crazy.. Available only ...</td>\n",
       "    </tr>\n",
       "    <tr>\n",
       "      <th>1</th>\n",
       "      <td>0</td>\n",
       "      <td>Ok lar... Joking wif u oni...</td>\n",
       "    </tr>\n",
       "    <tr>\n",
       "      <th>2</th>\n",
       "      <td>1</td>\n",
       "      <td>Free entry in 2 a wkly comp to win FA Cup fina...</td>\n",
       "    </tr>\n",
       "    <tr>\n",
       "      <th>3</th>\n",
       "      <td>0</td>\n",
       "      <td>U dun say so early hor... U c already then say...</td>\n",
       "    </tr>\n",
       "    <tr>\n",
       "      <th>4</th>\n",
       "      <td>0</td>\n",
       "      <td>Nah I don't think he goes to usf, he lives aro...</td>\n",
       "    </tr>\n",
       "  </tbody>\n",
       "</table>\n",
       "</div>"
      ],
      "text/plain": [
       "   target                                               text\n",
       "0       0  Go until jurong point, crazy.. Available only ...\n",
       "1       0                      Ok lar... Joking wif u oni...\n",
       "2       1  Free entry in 2 a wkly comp to win FA Cup fina...\n",
       "3       0  U dun say so early hor... U c already then say...\n",
       "4       0  Nah I don't think he goes to usf, he lives aro..."
      ]
     },
     "execution_count": 15,
     "metadata": {},
     "output_type": "execute_result"
    }
   ],
   "source": [
    "data.head()"
   ]
  },
  {
   "cell_type": "markdown",
   "id": "1b334419-6d77-4647-a5a1-cc85cd91db8d",
   "metadata": {},
   "source": [
    "Now our labels are encoded as numbers (0 = ham) and (1 = spam)"
   ]
  },
  {
   "cell_type": "code",
   "execution_count": 16,
   "id": "22001bee-d8ff-408b-ba80-c10441554361",
   "metadata": {},
   "outputs": [
    {
     "data": {
      "text/plain": [
       "target    0\n",
       "text      0\n",
       "dtype: int64"
      ]
     },
     "execution_count": 16,
     "metadata": {},
     "output_type": "execute_result"
    }
   ],
   "source": [
    "#check for any missing values\n",
    "data.isnull().sum()"
   ]
  },
  {
   "cell_type": "code",
   "execution_count": 17,
   "id": "94ea7beb-e5f8-40fc-8a05-d5320493a78d",
   "metadata": {},
   "outputs": [
    {
     "data": {
      "text/plain": [
       "403"
      ]
     },
     "execution_count": 17,
     "metadata": {},
     "output_type": "execute_result"
    }
   ],
   "source": [
    "#check for duplicate values\n",
    "data.duplicated().sum()"
   ]
  },
  {
   "cell_type": "code",
   "execution_count": 18,
   "id": "d32f801f-be04-41f7-8dd0-95ccb77c9b51",
   "metadata": {},
   "outputs": [],
   "source": [
    "#we need to remove the duplicate records / data\n",
    "data = data.drop_duplicates(keep = 'first')"
   ]
  },
  {
   "cell_type": "code",
   "execution_count": 19,
   "id": "346ce2ec-bb53-4c7e-bbf4-b9232a70c9a6",
   "metadata": {},
   "outputs": [
    {
     "data": {
      "text/plain": [
       "0"
      ]
     },
     "execution_count": 19,
     "metadata": {},
     "output_type": "execute_result"
    }
   ],
   "source": [
    "data.duplicated().sum()"
   ]
  },
  {
   "cell_type": "code",
   "execution_count": 20,
   "id": "2e3e7735-85b9-472f-8c97-24f8ae41a6ca",
   "metadata": {},
   "outputs": [
    {
     "data": {
      "text/plain": [
       "(5169, 2)"
      ]
     },
     "execution_count": 20,
     "metadata": {},
     "output_type": "execute_result"
    }
   ],
   "source": [
    "data.shape"
   ]
  },
  {
   "cell_type": "markdown",
   "id": "e86cb7d5-cf44-4443-b36d-e25b9e491aaf",
   "metadata": {
    "jp-MarkdownHeadingCollapsed": true,
    "tags": []
   },
   "source": [
    "### 3. EDA (Exploratory Data Analysis)"
   ]
  },
  {
   "cell_type": "markdown",
   "id": "2d1dc695-f9c0-4990-8aaa-6d161f2824ff",
   "metadata": {},
   "source": [
    "Understanding our dataset"
   ]
  },
  {
   "cell_type": "markdown",
   "id": "d755b7ac-bcb3-4e0c-a2ec-18dd401c7408",
   "metadata": {},
   "source": [
    "**1. Analyse the target variable / feature**"
   ]
  },
  {
   "cell_type": "code",
   "execution_count": 21,
   "id": "3d4f4147-6890-468e-bac5-92760804a7a6",
   "metadata": {},
   "outputs": [
    {
     "data": {
      "text/plain": [
       "0    4516\n",
       "1     653\n",
       "Name: target, dtype: int64"
      ]
     },
     "execution_count": 21,
     "metadata": {},
     "output_type": "execute_result"
    }
   ],
   "source": [
    "#take a look at the class distribution (spam vs ham) in our dataset\n",
    "data['target'].value_counts()"
   ]
  },
  {
   "cell_type": "code",
   "execution_count": 22,
   "id": "a8776ca5-d40b-4685-9865-e0102b927c74",
   "metadata": {},
   "outputs": [
    {
     "data": {
      "image/png": "[encoded data removed]",
      "text/plain": [
       "<Figure size 640x480 with 1 Axes>"
      ]
     },
     "metadata": {},
     "output_type": "display_data"
    }
   ],
   "source": [
    "#visualize distribution using pie chart\n",
    "plt.pie(data['target'].value_counts(), labels = ['ham', 'spam'], autopct = \"%0.2f\")\n",
    "plt.show()"
   ]
  },
  {
   "cell_type": "markdown",
   "id": "6fdaff83-99fd-45b9-9b45-2cc305c3da68",
   "metadata": {},
   "source": [
    "We can see that our class distribution is highly imbalanced and we need to take special care of that when modeling and evaluating."
   ]
  },
  {
   "cell_type": "markdown",
   "id": "eab45ce4-2828-4256-bbd9-5dac94d02540",
   "metadata": {},
   "source": [
    "**2. Analyse the text data**"
   ]
  },
  {
   "cell_type": "markdown",
   "id": "4c5dafed-330c-4acb-b696-e81705412777",
   "metadata": {},
   "source": [
    "To analyse the text data we will perform some simple Natural Language Processing (NLP) Techniques and use the Natural Language Tool Kit (nltk) Library.\n",
    "\n",
    "In this part we will create 3 new features for each message - number of characters in a message, number of words and number of sentences."
   ]
  },
  {
   "cell_type": "code",
   "execution_count": 23,
   "id": "55269c1a-1654-441e-8672-ff752869e798",
   "metadata": {},
   "outputs": [],
   "source": [
    "#create a feature as the number of characters in a message\n",
    "data['num_characters'] = data['text'].apply(len)"
   ]
  },
  {
   "cell_type": "code",
   "execution_count": 24,
   "id": "7cb58eae-0ab5-47f1-957d-2d4021eedf19",
   "metadata": {},
   "outputs": [
    {
     "data": {
      "text/html": [
       "<div>\n",
       "<style scoped>\n",
       "    .dataframe tbody tr th:only-of-type {\n",
       "        vertical-align: middle;\n",
       "    }\n",
       "\n",
       "    .dataframe tbody tr th {\n",
       "        vertical-align: top;\n",
       "    }\n",
       "\n",
       "    .dataframe thead th {\n",
       "        text-align: right;\n",
       "    }\n",
       "</style>\n",
       "<table border=\"1\" class=\"dataframe\">\n",
       "  <thead>\n",
       "    <tr style=\"text-align: right;\">\n",
       "      <th></th>\n",
       "      <th>target</th>\n",
       "      <th>text</th>\n",
       "      <th>num_characters</th>\n",
       "    </tr>\n",
       "  </thead>\n",
       "  <tbody>\n",
       "    <tr>\n",
       "      <th>0</th>\n",
       "      <td>0</td>\n",
       "      <td>Go until jurong point, crazy.. Available only ...</td>\n",
       "      <td>111</td>\n",
       "    </tr>\n",
       "    <tr>\n",
       "      <th>1</th>\n",
       "      <td>0</td>\n",
       "      <td>Ok lar... Joking wif u oni...</td>\n",
       "      <td>29</td>\n",
       "    </tr>\n",
       "    <tr>\n",
       "      <th>2</th>\n",
       "      <td>1</td>\n",
       "      <td>Free entry in 2 a wkly comp to win FA Cup fina...</td>\n",
       "      <td>155</td>\n",
       "    </tr>\n",
       "    <tr>\n",
       "      <th>3</th>\n",
       "      <td>0</td>\n",
       "      <td>U dun say so early hor... U c already then say...</td>\n",
       "      <td>49</td>\n",
       "    </tr>\n",
       "    <tr>\n",
       "      <th>4</th>\n",
       "      <td>0</td>\n",
       "      <td>Nah I don't think he goes to usf, he lives aro...</td>\n",
       "      <td>61</td>\n",
       "    </tr>\n",
       "  </tbody>\n",
       "</table>\n",
       "</div>"
      ],
      "text/plain": [
       "   target                                               text  num_characters\n",
       "0       0  Go until jurong point, crazy.. Available only ...             111\n",
       "1       0                      Ok lar... Joking wif u oni...              29\n",
       "2       1  Free entry in 2 a wkly comp to win FA Cup fina...             155\n",
       "3       0  U dun say so early hor... U c already then say...              49\n",
       "4       0  Nah I don't think he goes to usf, he lives aro...              61"
      ]
     },
     "execution_count": 24,
     "metadata": {},
     "output_type": "execute_result"
    }
   ],
   "source": [
    "data.head()"
   ]
  },
  {
   "cell_type": "code",
   "execution_count": 25,
   "id": "e78ce8f3-ea08-43fb-b9ca-0511b7af8396",
   "metadata": {},
   "outputs": [
    {
     "data": {
      "text/plain": [
       "0       [Go, until, jurong, point, ,, crazy, .., Avail...\n",
       "1                [Ok, lar, ..., Joking, wif, u, oni, ...]\n",
       "2       [Free, entry, in, 2, a, wkly, comp, to, win, F...\n",
       "3       [U, dun, say, so, early, hor, ..., U, c, alrea...\n",
       "4       [Nah, I, do, n't, think, he, goes, to, usf, ,,...\n",
       "                              ...                        \n",
       "5567    [This, is, the, 2nd, time, we, have, tried, 2,...\n",
       "5568     [Will, Ì_, b, going, to, esplanade, fr, home, ?]\n",
       "5569    [Pity, ,, *, was, in, mood, for, that, ., So, ...\n",
       "5570    [The, guy, did, some, bitching, but, I, acted,...\n",
       "5571                  [Rofl, ., Its, true, to, its, name]\n",
       "Name: text, Length: 5169, dtype: object"
      ]
     },
     "execution_count": 25,
     "metadata": {},
     "output_type": "execute_result"
    }
   ],
   "source": [
    "#create a feature with the number / count of words in message - using nltk word tokenizer (it breaks the string into list of words)\n",
    "data['text'].apply(lambda x : nltk.word_tokenize(x))"
   ]
  },
  {
   "cell_type": "code",
   "execution_count": 26,
   "id": "2f9928fa-1126-44df-8dfc-e136bcb28b9d",
   "metadata": {},
   "outputs": [],
   "source": [
    "#store this as new feature - number of words\n",
    "data['num_words'] = data['text'].apply( lambda x : len(nltk.word_tokenize(x)) )"
   ]
  },
  {
   "cell_type": "code",
   "execution_count": 27,
   "id": "ac407bc6-1e5d-4ad7-8b15-012780bdaf2e",
   "metadata": {},
   "outputs": [
    {
     "data": {
      "text/html": [
       "<div>\n",
       "<style scoped>\n",
       "    .dataframe tbody tr th:only-of-type {\n",
       "        vertical-align: middle;\n",
       "    }\n",
       "\n",
       "    .dataframe tbody tr th {\n",
       "        vertical-align: top;\n",
       "    }\n",
       "\n",
       "    .dataframe thead th {\n",
       "        text-align: right;\n",
       "    }\n",
       "</style>\n",
       "<table border=\"1\" class=\"dataframe\">\n",
       "  <thead>\n",
       "    <tr style=\"text-align: right;\">\n",
       "      <th></th>\n",
       "      <th>target</th>\n",
       "      <th>text</th>\n",
       "      <th>num_characters</th>\n",
       "      <th>num_words</th>\n",
       "    </tr>\n",
       "  </thead>\n",
       "  <tbody>\n",
       "    <tr>\n",
       "      <th>0</th>\n",
       "      <td>0</td>\n",
       "      <td>Go until jurong point, crazy.. Available only ...</td>\n",
       "      <td>111</td>\n",
       "      <td>24</td>\n",
       "    </tr>\n",
       "    <tr>\n",
       "      <th>1</th>\n",
       "      <td>0</td>\n",
       "      <td>Ok lar... Joking wif u oni...</td>\n",
       "      <td>29</td>\n",
       "      <td>8</td>\n",
       "    </tr>\n",
       "    <tr>\n",
       "      <th>2</th>\n",
       "      <td>1</td>\n",
       "      <td>Free entry in 2 a wkly comp to win FA Cup fina...</td>\n",
       "      <td>155</td>\n",
       "      <td>37</td>\n",
       "    </tr>\n",
       "    <tr>\n",
       "      <th>3</th>\n",
       "      <td>0</td>\n",
       "      <td>U dun say so early hor... U c already then say...</td>\n",
       "      <td>49</td>\n",
       "      <td>13</td>\n",
       "    </tr>\n",
       "    <tr>\n",
       "      <th>4</th>\n",
       "      <td>0</td>\n",
       "      <td>Nah I don't think he goes to usf, he lives aro...</td>\n",
       "      <td>61</td>\n",
       "      <td>15</td>\n",
       "    </tr>\n",
       "  </tbody>\n",
       "</table>\n",
       "</div>"
      ],
      "text/plain": [
       "   target                                               text  num_characters  \\\n",
       "0       0  Go until jurong point, crazy.. Available only ...             111   \n",
       "1       0                      Ok lar... Joking wif u oni...              29   \n",
       "2       1  Free entry in 2 a wkly comp to win FA Cup fina...             155   \n",
       "3       0  U dun say so early hor... U c already then say...              49   \n",
       "4       0  Nah I don't think he goes to usf, he lives aro...              61   \n",
       "\n",
       "   num_words  \n",
       "0         24  \n",
       "1          8  \n",
       "2         37  \n",
       "3         13  \n",
       "4         15  "
      ]
     },
     "execution_count": 27,
     "metadata": {},
     "output_type": "execute_result"
    }
   ],
   "source": [
    "data.head()"
   ]
  },
  {
   "cell_type": "code",
   "execution_count": 28,
   "id": "2ac068ea-f68e-4d85-a369-caa34d0675c3",
   "metadata": {},
   "outputs": [
    {
     "data": {
      "text/plain": [
       "0       [Go until jurong point, crazy.., Available onl...\n",
       "1                        [Ok lar..., Joking wif u oni...]\n",
       "2       [Free entry in 2 a wkly comp to win FA Cup fin...\n",
       "3       [U dun say so early hor... U c already then sa...\n",
       "4       [Nah I don't think he goes to usf, he lives ar...\n",
       "                              ...                        \n",
       "5567    [This is the 2nd time we have tried 2 contact ...\n",
       "5568              [Will Ì_ b going to esplanade fr home?]\n",
       "5569    [Pity, * was in mood for that., So...any other...\n",
       "5570    [The guy did some bitching but I acted like i'...\n",
       "5571                        [Rofl., Its true to its name]\n",
       "Name: text, Length: 5169, dtype: object"
      ]
     },
     "execution_count": 28,
     "metadata": {},
     "output_type": "execute_result"
    }
   ],
   "source": [
    "#similar to word tokenizer in nltk, we can use sentence tokenizer (sent_tokenize) to create a list of sentences from text data\n",
    "data['text'].apply(lambda x : nltk.sent_tokenize(x))"
   ]
  },
  {
   "cell_type": "code",
   "execution_count": 29,
   "id": "16cc0805-3031-43b1-a3d0-52de1100dbea",
   "metadata": {},
   "outputs": [],
   "source": [
    "#we can create a new feature as number of sentences in text\n",
    "data['num_sentences'] = data['text'].apply(lambda x : len(nltk.sent_tokenize(x)))"
   ]
  },
  {
   "cell_type": "code",
   "execution_count": 30,
   "id": "857bf958-4822-4211-8e66-da7357346db9",
   "metadata": {},
   "outputs": [
    {
     "data": {
      "text/html": [
       "<div>\n",
       "<style scoped>\n",
       "    .dataframe tbody tr th:only-of-type {\n",
       "        vertical-align: middle;\n",
       "    }\n",
       "\n",
       "    .dataframe tbody tr th {\n",
       "        vertical-align: top;\n",
       "    }\n",
       "\n",
       "    .dataframe thead th {\n",
       "        text-align: right;\n",
       "    }\n",
       "</style>\n",
       "<table border=\"1\" class=\"dataframe\">\n",
       "  <thead>\n",
       "    <tr style=\"text-align: right;\">\n",
       "      <th></th>\n",
       "      <th>target</th>\n",
       "      <th>text</th>\n",
       "      <th>num_characters</th>\n",
       "      <th>num_words</th>\n",
       "      <th>num_sentences</th>\n",
       "    </tr>\n",
       "  </thead>\n",
       "  <tbody>\n",
       "    <tr>\n",
       "      <th>0</th>\n",
       "      <td>0</td>\n",
       "      <td>Go until jurong point, crazy.. Available only ...</td>\n",
       "      <td>111</td>\n",
       "      <td>24</td>\n",
       "      <td>2</td>\n",
       "    </tr>\n",
       "    <tr>\n",
       "      <th>1</th>\n",
       "      <td>0</td>\n",
       "      <td>Ok lar... Joking wif u oni...</td>\n",
       "      <td>29</td>\n",
       "      <td>8</td>\n",
       "      <td>2</td>\n",
       "    </tr>\n",
       "    <tr>\n",
       "      <th>2</th>\n",
       "      <td>1</td>\n",
       "      <td>Free entry in 2 a wkly comp to win FA Cup fina...</td>\n",
       "      <td>155</td>\n",
       "      <td>37</td>\n",
       "      <td>2</td>\n",
       "    </tr>\n",
       "    <tr>\n",
       "      <th>3</th>\n",
       "      <td>0</td>\n",
       "      <td>U dun say so early hor... U c already then say...</td>\n",
       "      <td>49</td>\n",
       "      <td>13</td>\n",
       "      <td>1</td>\n",
       "    </tr>\n",
       "    <tr>\n",
       "      <th>4</th>\n",
       "      <td>0</td>\n",
       "      <td>Nah I don't think he goes to usf, he lives aro...</td>\n",
       "      <td>61</td>\n",
       "      <td>15</td>\n",
       "      <td>1</td>\n",
       "    </tr>\n",
       "  </tbody>\n",
       "</table>\n",
       "</div>"
      ],
      "text/plain": [
       "   target                                               text  num_characters  \\\n",
       "0       0  Go until jurong point, crazy.. Available only ...             111   \n",
       "1       0                      Ok lar... Joking wif u oni...              29   \n",
       "2       1  Free entry in 2 a wkly comp to win FA Cup fina...             155   \n",
       "3       0  U dun say so early hor... U c already then say...              49   \n",
       "4       0  Nah I don't think he goes to usf, he lives aro...              61   \n",
       "\n",
       "   num_words  num_sentences  \n",
       "0         24              2  \n",
       "1          8              2  \n",
       "2         37              2  \n",
       "3         13              1  \n",
       "4         15              1  "
      ]
     },
     "execution_count": 30,
     "metadata": {},
     "output_type": "execute_result"
    }
   ],
   "source": [
    "data.head()"
   ]
  },
  {
   "cell_type": "code",
   "execution_count": 31,
   "id": "6e0cba28-fbc4-4ea6-86d5-5cf020d3fabf",
   "metadata": {},
   "outputs": [
    {
     "data": {
      "text/html": [
       "<div>\n",
       "<style scoped>\n",
       "    .dataframe tbody tr th:only-of-type {\n",
       "        vertical-align: middle;\n",
       "    }\n",
       "\n",
       "    .dataframe tbody tr th {\n",
       "        vertical-align: top;\n",
       "    }\n",
       "\n",
       "    .dataframe thead th {\n",
       "        text-align: right;\n",
       "    }\n",
       "</style>\n",
       "<table border=\"1\" class=\"dataframe\">\n",
       "  <thead>\n",
       "    <tr style=\"text-align: right;\">\n",
       "      <th></th>\n",
       "      <th>num_characters</th>\n",
       "      <th>num_words</th>\n",
       "      <th>num_sentences</th>\n",
       "    </tr>\n",
       "  </thead>\n",
       "  <tbody>\n",
       "    <tr>\n",
       "      <th>count</th>\n",
       "      <td>5169.000000</td>\n",
       "      <td>5169.000000</td>\n",
       "      <td>5169.000000</td>\n",
       "    </tr>\n",
       "    <tr>\n",
       "      <th>mean</th>\n",
       "      <td>78.977945</td>\n",
       "      <td>18.455794</td>\n",
       "      <td>1.965564</td>\n",
       "    </tr>\n",
       "    <tr>\n",
       "      <th>std</th>\n",
       "      <td>58.236293</td>\n",
       "      <td>13.324758</td>\n",
       "      <td>1.448541</td>\n",
       "    </tr>\n",
       "    <tr>\n",
       "      <th>min</th>\n",
       "      <td>2.000000</td>\n",
       "      <td>1.000000</td>\n",
       "      <td>1.000000</td>\n",
       "    </tr>\n",
       "    <tr>\n",
       "      <th>25%</th>\n",
       "      <td>36.000000</td>\n",
       "      <td>9.000000</td>\n",
       "      <td>1.000000</td>\n",
       "    </tr>\n",
       "    <tr>\n",
       "      <th>50%</th>\n",
       "      <td>60.000000</td>\n",
       "      <td>15.000000</td>\n",
       "      <td>1.000000</td>\n",
       "    </tr>\n",
       "    <tr>\n",
       "      <th>75%</th>\n",
       "      <td>117.000000</td>\n",
       "      <td>26.000000</td>\n",
       "      <td>2.000000</td>\n",
       "    </tr>\n",
       "    <tr>\n",
       "      <th>max</th>\n",
       "      <td>910.000000</td>\n",
       "      <td>220.000000</td>\n",
       "      <td>38.000000</td>\n",
       "    </tr>\n",
       "  </tbody>\n",
       "</table>\n",
       "</div>"
      ],
      "text/plain": [
       "       num_characters    num_words  num_sentences\n",
       "count     5169.000000  5169.000000    5169.000000\n",
       "mean        78.977945    18.455794       1.965564\n",
       "std         58.236293    13.324758       1.448541\n",
       "min          2.000000     1.000000       1.000000\n",
       "25%         36.000000     9.000000       1.000000\n",
       "50%         60.000000    15.000000       1.000000\n",
       "75%        117.000000    26.000000       2.000000\n",
       "max        910.000000   220.000000      38.000000"
      ]
     },
     "execution_count": 31,
     "metadata": {},
     "output_type": "execute_result"
    }
   ],
   "source": [
    "#analyzing the stastics of newly created features to understand our text data better\n",
    "data[['num_characters', 'num_words', 'num_sentences']].describe()"
   ]
  },
  {
   "cell_type": "code",
   "execution_count": 32,
   "id": "254db8bd-7f7c-4457-bfd2-ac2150a6839e",
   "metadata": {},
   "outputs": [
    {
     "data": {
      "text/html": [
       "<div>\n",
       "<style scoped>\n",
       "    .dataframe tbody tr th:only-of-type {\n",
       "        vertical-align: middle;\n",
       "    }\n",
       "\n",
       "    .dataframe tbody tr th {\n",
       "        vertical-align: top;\n",
       "    }\n",
       "\n",
       "    .dataframe thead th {\n",
       "        text-align: right;\n",
       "    }\n",
       "</style>\n",
       "<table border=\"1\" class=\"dataframe\">\n",
       "  <thead>\n",
       "    <tr style=\"text-align: right;\">\n",
       "      <th></th>\n",
       "      <th>num_characters</th>\n",
       "      <th>num_words</th>\n",
       "      <th>num_sentences</th>\n",
       "    </tr>\n",
       "  </thead>\n",
       "  <tbody>\n",
       "    <tr>\n",
       "      <th>count</th>\n",
       "      <td>4516.000000</td>\n",
       "      <td>4516.000000</td>\n",
       "      <td>4516.000000</td>\n",
       "    </tr>\n",
       "    <tr>\n",
       "      <th>mean</th>\n",
       "      <td>70.459256</td>\n",
       "      <td>17.123782</td>\n",
       "      <td>1.820195</td>\n",
       "    </tr>\n",
       "    <tr>\n",
       "      <th>std</th>\n",
       "      <td>56.358207</td>\n",
       "      <td>13.493970</td>\n",
       "      <td>1.383657</td>\n",
       "    </tr>\n",
       "    <tr>\n",
       "      <th>min</th>\n",
       "      <td>2.000000</td>\n",
       "      <td>1.000000</td>\n",
       "      <td>1.000000</td>\n",
       "    </tr>\n",
       "    <tr>\n",
       "      <th>25%</th>\n",
       "      <td>34.000000</td>\n",
       "      <td>8.000000</td>\n",
       "      <td>1.000000</td>\n",
       "    </tr>\n",
       "    <tr>\n",
       "      <th>50%</th>\n",
       "      <td>52.000000</td>\n",
       "      <td>13.000000</td>\n",
       "      <td>1.000000</td>\n",
       "    </tr>\n",
       "    <tr>\n",
       "      <th>75%</th>\n",
       "      <td>90.000000</td>\n",
       "      <td>22.000000</td>\n",
       "      <td>2.000000</td>\n",
       "    </tr>\n",
       "    <tr>\n",
       "      <th>max</th>\n",
       "      <td>910.000000</td>\n",
       "      <td>220.000000</td>\n",
       "      <td>38.000000</td>\n",
       "    </tr>\n",
       "  </tbody>\n",
       "</table>\n",
       "</div>"
      ],
      "text/plain": [
       "       num_characters    num_words  num_sentences\n",
       "count     4516.000000  4516.000000    4516.000000\n",
       "mean        70.459256    17.123782       1.820195\n",
       "std         56.358207    13.493970       1.383657\n",
       "min          2.000000     1.000000       1.000000\n",
       "25%         34.000000     8.000000       1.000000\n",
       "50%         52.000000    13.000000       1.000000\n",
       "75%         90.000000    22.000000       2.000000\n",
       "max        910.000000   220.000000      38.000000"
      ]
     },
     "execution_count": 32,
     "metadata": {},
     "output_type": "execute_result"
    }
   ],
   "source": [
    "#considering the data in HAM messages seperately\n",
    "data[data['target'] == 0][['num_characters', 'num_words', 'num_sentences']].describe()"
   ]
  },
  {
   "cell_type": "code",
   "execution_count": 33,
   "id": "1576e6a8-7549-4f56-96f5-32cf710a76a6",
   "metadata": {},
   "outputs": [
    {
     "data": {
      "text/html": [
       "<div>\n",
       "<style scoped>\n",
       "    .dataframe tbody tr th:only-of-type {\n",
       "        vertical-align: middle;\n",
       "    }\n",
       "\n",
       "    .dataframe tbody tr th {\n",
       "        vertical-align: top;\n",
       "    }\n",
       "\n",
       "    .dataframe thead th {\n",
       "        text-align: right;\n",
       "    }\n",
       "</style>\n",
       "<table border=\"1\" class=\"dataframe\">\n",
       "  <thead>\n",
       "    <tr style=\"text-align: right;\">\n",
       "      <th></th>\n",
       "      <th>num_characters</th>\n",
       "      <th>num_words</th>\n",
       "      <th>num_sentences</th>\n",
       "    </tr>\n",
       "  </thead>\n",
       "  <tbody>\n",
       "    <tr>\n",
       "      <th>count</th>\n",
       "      <td>653.000000</td>\n",
       "      <td>653.000000</td>\n",
       "      <td>653.000000</td>\n",
       "    </tr>\n",
       "    <tr>\n",
       "      <th>mean</th>\n",
       "      <td>137.891271</td>\n",
       "      <td>27.667688</td>\n",
       "      <td>2.970904</td>\n",
       "    </tr>\n",
       "    <tr>\n",
       "      <th>std</th>\n",
       "      <td>30.137753</td>\n",
       "      <td>7.008418</td>\n",
       "      <td>1.488425</td>\n",
       "    </tr>\n",
       "    <tr>\n",
       "      <th>min</th>\n",
       "      <td>13.000000</td>\n",
       "      <td>2.000000</td>\n",
       "      <td>1.000000</td>\n",
       "    </tr>\n",
       "    <tr>\n",
       "      <th>25%</th>\n",
       "      <td>132.000000</td>\n",
       "      <td>25.000000</td>\n",
       "      <td>2.000000</td>\n",
       "    </tr>\n",
       "    <tr>\n",
       "      <th>50%</th>\n",
       "      <td>149.000000</td>\n",
       "      <td>29.000000</td>\n",
       "      <td>3.000000</td>\n",
       "    </tr>\n",
       "    <tr>\n",
       "      <th>75%</th>\n",
       "      <td>157.000000</td>\n",
       "      <td>32.000000</td>\n",
       "      <td>4.000000</td>\n",
       "    </tr>\n",
       "    <tr>\n",
       "      <th>max</th>\n",
       "      <td>224.000000</td>\n",
       "      <td>46.000000</td>\n",
       "      <td>9.000000</td>\n",
       "    </tr>\n",
       "  </tbody>\n",
       "</table>\n",
       "</div>"
      ],
      "text/plain": [
       "       num_characters   num_words  num_sentences\n",
       "count      653.000000  653.000000     653.000000\n",
       "mean       137.891271   27.667688       2.970904\n",
       "std         30.137753    7.008418       1.488425\n",
       "min         13.000000    2.000000       1.000000\n",
       "25%        132.000000   25.000000       2.000000\n",
       "50%        149.000000   29.000000       3.000000\n",
       "75%        157.000000   32.000000       4.000000\n",
       "max        224.000000   46.000000       9.000000"
      ]
     },
     "execution_count": 33,
     "metadata": {},
     "output_type": "execute_result"
    }
   ],
   "source": [
    "#considering the data in SPAM messages seperately\n",
    "data[data['target'] == 1][['num_characters', 'num_words', 'num_sentences']].describe()"
   ]
  },
  {
   "cell_type": "markdown",
   "id": "3bdea9b6-8663-4c5e-a3cf-76cc1b466b36",
   "metadata": {},
   "source": [
    "from the statistics above we can observe that the SPAM messages are usually longer than HAM messages."
   ]
  },
  {
   "cell_type": "code",
   "execution_count": 34,
   "id": "da382809-a60f-426f-b484-7a68bd3bd41e",
   "metadata": {},
   "outputs": [
    {
     "data": {
      "text/plain": [
       "<Axes: xlabel='num_characters', ylabel='Count'>"
      ]
     },
     "execution_count": 34,
     "metadata": {},
     "output_type": "execute_result"
    },
    {
     "data": {
      "image/png": "[encoded data removed]",
      "text/plain": [
       "<Figure size 1200x600 with 1 Axes>"
      ]
     },
     "metadata": {},
     "output_type": "display_data"
    }
   ],
   "source": [
    "plt.figure(figsize = (12, 6))\n",
    "\n",
    "#histogram for HAM messages\n",
    "sns.histplot(data[data['target'] == 0]['num_characters'])\n",
    "\n",
    "#histogram for SPAM messages\n",
    "sns.histplot(data[data['target'] == 1]['num_characters'], color = 'red')"
   ]
  },
  {
   "cell_type": "markdown",
   "id": "9fa87238-9662-4cef-8958-21548544dc85",
   "metadata": {},
   "source": [
    "the Spam messages (red) are usually made up of more characters than Ham messages"
   ]
  },
  {
   "cell_type": "code",
   "execution_count": 35,
   "id": "6bcfefa0-f6a3-4781-8401-89d5baf28fc2",
   "metadata": {},
   "outputs": [
    {
     "data": {
      "text/plain": [
       "<Axes: xlabel='num_words', ylabel='Count'>"
      ]
     },
     "execution_count": 35,
     "metadata": {},
     "output_type": "execute_result"
    },
    {
     "data": {
      "image/png": "[encoded data removed]",
      "text/plain": [
       "<Figure size 1200x600 with 1 Axes>"
      ]
     },
     "metadata": {},
     "output_type": "display_data"
    }
   ],
   "source": [
    "plt.figure(figsize = (12, 6))\n",
    "\n",
    "#histogram for HAM messages\n",
    "sns.histplot(data[data['target'] == 0]['num_words'])\n",
    "\n",
    "#histogram for SPAM messages\n",
    "sns.histplot(data[data['target'] == 1]['num_words'], color = 'red')"
   ]
  },
  {
   "cell_type": "markdown",
   "id": "07177fca-1771-4210-9bdd-a4db3ecb3a28",
   "metadata": {},
   "source": [
    "**Analyze the relationship between the numerical features (number of words, characters and sentences) of text**"
   ]
  },
  {
   "cell_type": "code",
   "execution_count": 36,
   "id": "f1c5f646-2722-469e-adc9-f3ecefaf1ead",
   "metadata": {},
   "outputs": [
    {
     "data": {
      "text/plain": [
       "<seaborn.axisgrid.PairGrid at 0x269aadbd290>"
      ]
     },
     "execution_count": 36,
     "metadata": {},
     "output_type": "execute_result"
    },
    {
     "data": {
      "image/png": "[encoded data removed]",
      "text/plain": [
       "<Figure size 808.875x750 with 12 Axes>"
      ]
     },
     "metadata": {},
     "output_type": "display_data"
    }
   ],
   "source": [
    "sns.pairplot(data, hue = 'target')"
   ]
  },
  {
   "cell_type": "markdown",
   "id": "78993988-0932-4195-ac3f-4e110b5713b0",
   "metadata": {},
   "source": [
    "The data seems to have somewhat linear relationship and there are also a few clear outliers which we will have to deal with."
   ]
  },
  {
   "cell_type": "code",
   "execution_count": 37,
   "id": "b2915fab-a110-44eb-9d78-3a66963c2a02",
   "metadata": {},
   "outputs": [
    {
     "data": {
      "text/plain": [
       "<Axes: >"
      ]
     },
     "execution_count": 37,
     "metadata": {},
     "output_type": "execute_result"
    },
    {
     "data": {
      "image/png": "[encoded data removed]",
      "text/plain": [
       "<Figure size 640x480 with 2 Axes>"
      ]
     },
     "metadata": {},
     "output_type": "display_data"
    }
   ],
   "source": [
    "sns.heatmap(data[['target', 'num_characters', 'num_words', 'num_sentences']].corr(), annot = True)"
   ]
  },
  {
   "cell_type": "markdown",
   "id": "821d76ff-ae6e-4e4f-81bc-38cad8bef66a",
   "metadata": {},
   "source": [
    "features 'num_characters', 'num_words' and 'num_sentences' are highly collinear, so we will just use the 'num_characters' feature as it also has the highest correlation with target."
   ]
  },
  {
   "cell_type": "markdown",
   "id": "0d6ff231-cd22-4550-8615-a341443f6eb4",
   "metadata": {
    "jp-MarkdownHeadingCollapsed": true,
    "tags": []
   },
   "source": [
    "### 4. Data / Text Preprocessing"
   ]
  },
  {
   "cell_type": "markdown",
   "id": "4ffb5c9e-df20-4ba2-9cce-46a45737417f",
   "metadata": {},
   "source": [
    "* Convert to lowercase\n",
    "* Tokenization\n",
    "* Removing Special Characters and punctuations\n",
    "* Removing Stop words\n",
    "* Stemming\n",
    "* Vectorization (convert text data into numerical feature)"
   ]
  },
  {
   "cell_type": "code",
   "execution_count": 82,
   "id": "f519430e-def0-413d-a112-0a1ce0de28e8",
   "metadata": {},
   "outputs": [],
   "source": [
    "from nltk.stem.porter import PorterStemmer\n",
    "\n",
    "#function to perform all the preprocessing steps on text data\n",
    "def transform_text(text):\n",
    "    #convert text into lower case\n",
    "    text = text.lower()\n",
    "    \n",
    "    #create word tokens from text string\n",
    "    text = nltk.word_tokenize(text)\n",
    "    \n",
    "    #removing special characters and punctuations\n",
    "    res1 = []\n",
    "    for word in text:\n",
    "        if word.isalnum():\n",
    "            res1.append(word)\n",
    "            \n",
    "    #removing stop words\n",
    "    res2 = []\n",
    "    for word in res1:\n",
    "        if word not in stopwords.words('english'):\n",
    "            res2.append(word)\n",
    "    \n",
    "    #stemming - extracting base words \n",
    "    ps = PorterStemmer()\n",
    "    \n",
    "    res3 = []\n",
    "    for word in res2:\n",
    "        res3.append(ps.stem(word))\n",
    "    \n",
    "    #convert the word list back to string\n",
    "    text = \" \".join(res3)\n",
    "    \n",
    "    return text"
   ]
  },
  {
   "cell_type": "code",
   "execution_count": 81,
   "id": "3eb32e00-14d7-4883-8525-f6c0c2a37bb6",
   "metadata": {},
   "outputs": [
    {
     "data": {
      "text/plain": [
       "'hello name aaditya bansal like draw artistlif 100 adiaturb'"
      ]
     },
     "execution_count": 81,
     "metadata": {},
     "output_type": "execute_result"
    }
   ],
   "source": [
    "#example usage\n",
    "transform_text(\"Hello, My name is Aaditya Bansal and I like drawing. #artistlife 100% !! @adiaturb, How are you?\")"
   ]
  },
  {
   "cell_type": "code",
   "execution_count": 83,
   "id": "24b30937-0687-4650-a3b5-6942d87de340",
   "metadata": {},
   "outputs": [],
   "source": [
    "data['transformed_text'] = data['text'].apply(transform_text)"
   ]
  },
  {
   "cell_type": "code",
   "execution_count": 84,
   "id": "72fa36b2-95dd-4df8-9436-3cf29a56963b",
   "metadata": {},
   "outputs": [
    {
     "data": {
      "text/html": [
       "<div>\n",
       "<style scoped>\n",
       "    .dataframe tbody tr th:only-of-type {\n",
       "        vertical-align: middle;\n",
       "    }\n",
       "\n",
       "    .dataframe tbody tr th {\n",
       "        vertical-align: top;\n",
       "    }\n",
       "\n",
       "    .dataframe thead th {\n",
       "        text-align: right;\n",
       "    }\n",
       "</style>\n",
       "<table border=\"1\" class=\"dataframe\">\n",
       "  <thead>\n",
       "    <tr style=\"text-align: right;\">\n",
       "      <th></th>\n",
       "      <th>target</th>\n",
       "      <th>text</th>\n",
       "      <th>num_characters</th>\n",
       "      <th>num_words</th>\n",
       "      <th>num_sentences</th>\n",
       "      <th>transformed_text</th>\n",
       "    </tr>\n",
       "  </thead>\n",
       "  <tbody>\n",
       "    <tr>\n",
       "      <th>0</th>\n",
       "      <td>0</td>\n",
       "      <td>Go until jurong point, crazy.. Available only ...</td>\n",
       "      <td>111</td>\n",
       "      <td>24</td>\n",
       "      <td>2</td>\n",
       "      <td>go jurong point crazi avail bugi n great world...</td>\n",
       "    </tr>\n",
       "    <tr>\n",
       "      <th>1</th>\n",
       "      <td>0</td>\n",
       "      <td>Ok lar... Joking wif u oni...</td>\n",
       "      <td>29</td>\n",
       "      <td>8</td>\n",
       "      <td>2</td>\n",
       "      <td>ok lar joke wif u oni</td>\n",
       "    </tr>\n",
       "    <tr>\n",
       "      <th>2</th>\n",
       "      <td>1</td>\n",
       "      <td>Free entry in 2 a wkly comp to win FA Cup fina...</td>\n",
       "      <td>155</td>\n",
       "      <td>37</td>\n",
       "      <td>2</td>\n",
       "      <td>free entri 2 wkli comp win fa cup final tkt 21...</td>\n",
       "    </tr>\n",
       "    <tr>\n",
       "      <th>3</th>\n",
       "      <td>0</td>\n",
       "      <td>U dun say so early hor... U c already then say...</td>\n",
       "      <td>49</td>\n",
       "      <td>13</td>\n",
       "      <td>1</td>\n",
       "      <td>u dun say earli hor u c alreadi say</td>\n",
       "    </tr>\n",
       "    <tr>\n",
       "      <th>4</th>\n",
       "      <td>0</td>\n",
       "      <td>Nah I don't think he goes to usf, he lives aro...</td>\n",
       "      <td>61</td>\n",
       "      <td>15</td>\n",
       "      <td>1</td>\n",
       "      <td>nah think goe usf live around though</td>\n",
       "    </tr>\n",
       "  </tbody>\n",
       "</table>\n",
       "</div>"
      ],
      "text/plain": [
       "   target                                               text  num_characters  \\\n",
       "0       0  Go until jurong point, crazy.. Available only ...             111   \n",
       "1       0                      Ok lar... Joking wif u oni...              29   \n",
       "2       1  Free entry in 2 a wkly comp to win FA Cup fina...             155   \n",
       "3       0  U dun say so early hor... U c already then say...              49   \n",
       "4       0  Nah I don't think he goes to usf, he lives aro...              61   \n",
       "\n",
       "   num_words  num_sentences                                   transformed_text  \n",
       "0         24              2  go jurong point crazi avail bugi n great world...  \n",
       "1          8              2                              ok lar joke wif u oni  \n",
       "2         37              2  free entri 2 wkli comp win fa cup final tkt 21...  \n",
       "3         13              1                u dun say earli hor u c alreadi say  \n",
       "4         15              1               nah think goe usf live around though  "
      ]
     },
     "execution_count": 84,
     "metadata": {},
     "output_type": "execute_result"
    }
   ],
   "source": [
    "data.head()"
   ]
  },
  {
   "cell_type": "markdown",
   "id": "022a23ce-5e75-4601-8bca-62b80c6d5cba",
   "metadata": {},
   "source": [
    "**Top words used in SPAM and HAM messages**"
   ]
  },
  {
   "cell_type": "markdown",
   "id": "6489364a-4e79-4db0-9460-855808332021",
   "metadata": {},
   "source": [
    "**for SPAM**"
   ]
  },
  {
   "cell_type": "code",
   "execution_count": 100,
   "id": "eee32477-24e3-4afb-aea6-d22a5faedad1",
   "metadata": {},
   "outputs": [],
   "source": [
    "#create a list of words in SPAM messages\n",
    "spam_corpus = []\n",
    "for message in data[data['target'] == 1]['transformed_text'].tolist():\n",
    "    for word in message.split():\n",
    "        spam_corpus.append(word)"
   ]
  },
  {
   "cell_type": "code",
   "execution_count": 102,
   "id": "d117d71b-58e2-40dd-9a83-c2ce84fda3f0",
   "metadata": {},
   "outputs": [
    {
     "data": {
      "text/plain": [
       "9939"
      ]
     },
     "execution_count": 102,
     "metadata": {},
     "output_type": "execute_result"
    }
   ],
   "source": [
    "len(spam_corpus)"
   ]
  },
  {
   "cell_type": "code",
   "execution_count": 107,
   "id": "90ba1ddd-a1fa-4890-838b-212a2ec51b24",
   "metadata": {},
   "outputs": [],
   "source": [
    "from collections import Counter"
   ]
  },
  {
   "cell_type": "code",
   "execution_count": 110,
   "id": "6db50414-969e-49b5-9827-df8b65e73f32",
   "metadata": {},
   "outputs": [],
   "source": [
    "#extract the top 30 words\n",
    "#counter creates a dictonary of words with there counts available\n",
    "top_spam_word_count = pd.DataFrame(Counter(spam_corpus).most_common(30), columns = ['word', 'count'])"
   ]
  },
  {
   "cell_type": "code",
   "execution_count": 119,
   "id": "8e2e6d32-fc96-4f67-b521-4fad8da781e4",
   "metadata": {},
   "outputs": [
    {
     "data": {
      "image/png": "[encoded data removed]",
      "text/plain": [
       "<Figure size 640x480 with 1 Axes>"
      ]
     },
     "metadata": {},
     "output_type": "display_data"
    }
   ],
   "source": [
    "sns.barplot(data = top_spam_word_count, x = 'word', y = 'count')\n",
    "plt.xticks(rotation = 'vertical')\n",
    "plt.title('Most used words in SPAM messages')\n",
    "plt.show()"
   ]
  },
  {
   "cell_type": "markdown",
   "id": "656c5c36-e27f-41b0-83f8-96d4da54920a",
   "metadata": {},
   "source": [
    "**for HAM (not-SPAM)**"
   ]
  },
  {
   "cell_type": "code",
   "execution_count": 120,
   "id": "4842d532-ae0f-4c43-9f5a-b61fc439d887",
   "metadata": {},
   "outputs": [],
   "source": [
    "#create a list of words in SPAM messages\n",
    "ham_corpus = []\n",
    "for message in data[data['target'] == 0]['transformed_text'].tolist():\n",
    "    for word in message.split():\n",
    "        ham_corpus.append(word)"
   ]
  },
  {
   "cell_type": "code",
   "execution_count": 121,
   "id": "aab918f6-d41c-4e64-9e3d-79a74888e552",
   "metadata": {},
   "outputs": [
    {
     "data": {
      "text/plain": [
       "35404"
      ]
     },
     "execution_count": 121,
     "metadata": {},
     "output_type": "execute_result"
    }
   ],
   "source": [
    "len(ham_corpus)"
   ]
  },
  {
   "cell_type": "code",
   "execution_count": 122,
   "id": "48c85221-679e-4fb8-8dde-d6b68df116ad",
   "metadata": {},
   "outputs": [
    {
     "data": {
      "image/png": "[encoded data removed]",
      "text/plain": [
       "<Figure size 640x480 with 1 Axes>"
      ]
     },
     "metadata": {},
     "output_type": "display_data"
    }
   ],
   "source": [
    "#extract the top 30 words\n",
    "#counter creates a dictonary of words with there counts available\n",
    "top_ham_word_count = pd.DataFrame(Counter(ham_corpus).most_common(30), columns = ['word', 'count'])\n",
    "\n",
    "sns.barplot(data = top_ham_word_count, x = 'word', y = 'count')\n",
    "plt.xticks(rotation = 'vertical')\n",
    "plt.title('Most used words in HAM messages')\n",
    "plt.show()"
   ]
  },
  {
   "cell_type": "markdown",
   "id": "65364d96-2f51-4a15-a8ab-6002e92d3e1b",
   "metadata": {
    "tags": []
   },
   "source": [
    "---\n",
    "#### **Vectorization - convert text into numerical representation**\n",
    "\n",
    "Extract features from the preprocessed data that could be used to train the machine learning model using techniques such as bag of words, term frequency-inverse document frequency (TF-IDF), and word embeddings."
   ]
  },
  {
   "cell_type": "code",
   "execution_count": 146,
   "id": "b553e64a-c3cd-472d-bcef-d849a08b8b04",
   "metadata": {},
   "outputs": [],
   "source": [
    "from sklearn.feature_extraction.text import CountVectorizer, TfidfVectorizer"
   ]
  },
  {
   "cell_type": "markdown",
   "id": "c5308389-cd33-42eb-9a9a-0a1c69a5c65c",
   "metadata": {},
   "source": [
    "---\n",
    "**Using Count Vectorizer (simple bag of words representation)**"
   ]
  },
  {
   "cell_type": "code",
   "execution_count": 148,
   "id": "f679b060-a52f-4263-8cc5-a18746c5adc3",
   "metadata": {},
   "outputs": [
    {
     "data": {
      "text/plain": [
       "(5169, 6708)"
      ]
     },
     "execution_count": 148,
     "metadata": {},
     "output_type": "execute_result"
    }
   ],
   "source": [
    "cv = CountVectorizer()\n",
    "\n",
    "#converting sparse array returned after transformation into dense array\n",
    "X = cv.fit_transform(data['transformed_text']).toarray()\n",
    "\n",
    "X.shape"
   ]
  },
  {
   "cell_type": "markdown",
   "id": "d4007e84-8463-4c88-8003-e122ea5b3b7f",
   "metadata": {},
   "source": [
    "---\n",
    "**Using TF-IDF**"
   ]
  },
  {
   "cell_type": "code",
   "execution_count": 192,
   "id": "ac4e4a4e-d804-4047-ad61-1b81c3e5a997",
   "metadata": {},
   "outputs": [
    {
     "data": {
      "text/plain": [
       "(5169, 3000)"
      ]
     },
     "execution_count": 192,
     "metadata": {},
     "output_type": "execute_result"
    }
   ],
   "source": [
    "tfidf = TfidfVectorizer(max_features = 3000)\n",
    "\n",
    "X = tfidf.fit_transform(data['transformed_text']).toarray()\n",
    "\n",
    "X.shape"
   ]
  },
  {
   "cell_type": "markdown",
   "id": "de8aa798-6aa8-4298-91ed-e4ae984c14ee",
   "metadata": {},
   "source": [
    "---\n",
    "**Extracting Target value from Dataset**"
   ]
  },
  {
   "cell_type": "code",
   "execution_count": 193,
   "id": "fa069736-8ab1-4123-be5d-d5d2cc58d1dc",
   "metadata": {},
   "outputs": [],
   "source": [
    "y = data['target'].values"
   ]
  },
  {
   "cell_type": "code",
   "execution_count": 194,
   "id": "62b09644-044a-4e4c-af92-bcb83e93a538",
   "metadata": {},
   "outputs": [
    {
     "data": {
      "text/plain": [
       "array([0, 0, 1, ..., 0, 0, 0])"
      ]
     },
     "execution_count": 194,
     "metadata": {},
     "output_type": "execute_result"
    }
   ],
   "source": [
    "y"
   ]
  },
  {
   "cell_type": "code",
   "execution_count": 135,
   "id": "df625457-250d-468b-a1f0-8f4177a2648c",
   "metadata": {},
   "outputs": [
    {
     "data": {
      "text/plain": [
       "(5169,)"
      ]
     },
     "execution_count": 135,
     "metadata": {},
     "output_type": "execute_result"
    }
   ],
   "source": [
    "y.shape"
   ]
  },
  {
   "cell_type": "markdown",
   "id": "b999a756-538d-4ce8-8ef2-f4a81db99137",
   "metadata": {
    "jp-MarkdownHeadingCollapsed": true,
    "tags": []
   },
   "source": [
    "### 5. Modeling (Model Building)"
   ]
  },
  {
   "cell_type": "markdown",
   "id": "ecb493fe-b74a-4282-beeb-1cd088303153",
   "metadata": {},
   "source": [
    "**Spliting Data into Train and Test set**"
   ]
  },
  {
   "cell_type": "code",
   "execution_count": 195,
   "id": "cd030969-f27c-4400-8997-b2ec516d8dfa",
   "metadata": {},
   "outputs": [],
   "source": [
    "from sklearn.model_selection import train_test_split\n",
    "from sklearn.naive_bayes import GaussianNB, MultinomialNB, BernoulliNB\n",
    "from sklearn.metrics import accuracy_score, confusion_matrix, precision_score, recall_score, f1_score"
   ]
  },
  {
   "cell_type": "code",
   "execution_count": 196,
   "id": "4f9dfc59-05b8-45ec-b381-0b544ccc8c3a",
   "metadata": {},
   "outputs": [],
   "source": [
    "X_train, X_test, y_train, y_test = train_test_split(X, y, test_size = 0.2, random_state = 2)"
   ]
  },
  {
   "cell_type": "markdown",
   "id": "bb9fa081-949b-4645-8aa0-8566b33864c4",
   "metadata": {
    "tags": []
   },
   "source": [
    "---\n",
    "#### **Naive Bayes**"
   ]
  },
  {
   "cell_type": "code",
   "execution_count": 197,
   "id": "b5e5b248-d83e-476d-96d0-01ebacb97424",
   "metadata": {},
   "outputs": [],
   "source": [
    "#defining instances of differnent Naive Bayes Model Classes\n",
    "gnb = GaussianNB()\n",
    "mnb = MultinomialNB()\n",
    "bnb = BernoulliNB()"
   ]
  },
  {
   "cell_type": "code",
   "execution_count": 198,
   "id": "7b55ae08-7b17-469a-99a4-72a193130321",
   "metadata": {},
   "outputs": [],
   "source": [
    "def print_result(y_actual, y_predicted):\n",
    "    print(\"Accuracy Score : \")\n",
    "    print(accuracy_score(y_actual, y_predicted))\n",
    "    print()\n",
    "    \n",
    "    print(\"Confusion Matrix : \")\n",
    "    print(confusion_matrix(y_actual, y_predicted))\n",
    "    print()\n",
    "    \n",
    "    print(\"Precision Score : \")\n",
    "    print(precision_score(y_actual, y_predicted))\n",
    "    print()\n",
    "    \n",
    "    print(\"Recall Score : \")\n",
    "    print(recall_score(y_actual, y_predicted))\n",
    "    print()\n",
    "    \n",
    "    print(\"F1 Score : \")\n",
    "    print(f1_score(y_actual, y_predicted))\n",
    "    print()"
   ]
  },
  {
   "cell_type": "code",
   "execution_count": 165,
   "id": "b3cc52a6-c9b6-4b88-8ebf-4adfe7b1f5f0",
   "metadata": {},
   "outputs": [
    {
     "name": "stdout",
     "output_type": "stream",
     "text": [
      "Accuracy Score : \n",
      "0.8694390715667312\n",
      "\n",
      "Confusion Matrix : \n",
      "[[788 108]\n",
      " [ 27 111]]\n",
      "\n",
      "Precision Score : \n",
      "0.5068493150684932\n",
      "\n",
      "Recall Score : \n",
      "0.8043478260869565\n",
      "\n",
      "F1 Score : \n",
      "0.6218487394957983\n",
      "\n"
     ]
    }
   ],
   "source": [
    "#Gausian Naive Bayes\n",
    "\n",
    "gnb.fit(X_train, y_train)\n",
    "y_pred_gnb = gnb.predict(X_test)\n",
    "\n",
    "print_result(y_test, y_pred_gnb)"
   ]
  },
  {
   "cell_type": "code",
   "execution_count": 166,
   "id": "5e0d808c-ccf6-42a6-98cd-95991f2d2f8f",
   "metadata": {},
   "outputs": [
    {
     "name": "stdout",
     "output_type": "stream",
     "text": [
      "Accuracy Score : \n",
      "0.9709864603481625\n",
      "\n",
      "Confusion Matrix : \n",
      "[[896   0]\n",
      " [ 30 108]]\n",
      "\n",
      "Precision Score : \n",
      "1.0\n",
      "\n",
      "Recall Score : \n",
      "0.782608695652174\n",
      "\n",
      "F1 Score : \n",
      "0.878048780487805\n",
      "\n"
     ]
    }
   ],
   "source": [
    "#Multinomial Naive Bayes\n",
    "\n",
    "mnb.fit(X_train, y_train)\n",
    "y_pred_mnb = mnb.predict(X_test)\n",
    "\n",
    "print_result(y_test, y_pred_mnb)"
   ]
  },
  {
   "cell_type": "code",
   "execution_count": 199,
   "id": "bd24bda4-7244-46ed-b696-459268a37334",
   "metadata": {},
   "outputs": [
    {
     "name": "stdout",
     "output_type": "stream",
     "text": [
      "Accuracy Score : \n",
      "0.9835589941972921\n",
      "\n",
      "Confusion Matrix : \n",
      "[[895   1]\n",
      " [ 16 122]]\n",
      "\n",
      "Precision Score : \n",
      "0.991869918699187\n",
      "\n",
      "Recall Score : \n",
      "0.8840579710144928\n",
      "\n",
      "F1 Score : \n",
      "0.9348659003831418\n",
      "\n"
     ]
    }
   ],
   "source": [
    "#Bernoulli Naive Bayes\n",
    "\n",
    "bnb.fit(X_train, y_train)\n",
    "y_pred_bnb = bnb.predict(X_test)\n",
    "\n",
    "print_result(y_test, y_pred_bnb)"
   ]
  },
  {
   "cell_type": "markdown",
   "id": "bb2b1c43-1ccf-4d0c-b3b1-109237212750",
   "metadata": {},
   "source": [
    "---\n",
    "**Model Selection** \n",
    "\n",
    "Tf-Idf vectorizer with 3000 features performs better than count vectorizer.\n",
    "\n",
    "Among the Models above **Bernoulli's Naive Bayes** have the highest f1 score which means it does not classify many normal message as a SPAM message and it correctly identifies SPAMs and HAMs, so we will select that to move furthur, because the class distribution is highly imbalanced so accuracy is not a good metric to measure the performance."
   ]
  },
  {
   "cell_type": "markdown",
   "id": "6d128c87-ad00-44c0-a96d-bbee7edf6fd0",
   "metadata": {
    "tags": []
   },
   "source": [
    "--- \n",
    "#### **Trying some other modeling techniques**"
   ]
  },
  {
   "cell_type": "code",
   "execution_count": 171,
   "id": "c3647525-d6fb-4b5e-ab94-22e2a02f1ad1",
   "metadata": {},
   "outputs": [],
   "source": [
    "from sklearn.linear_model import LogisticRegression\n",
    "from sklearn.svm import SVC\n",
    "from sklearn.tree import DecisionTreeClassifier\n",
    "from sklearn.ensemble import RandomForestClassifier, GradientBoostingClassifier\n",
    "from xgboost import XGBClassifier\n",
    "from sklearn.neighbors import KNeighborsClassifier"
   ]
  },
  {
   "cell_type": "code",
   "execution_count": 172,
   "id": "2c0befe2-34ed-4733-907b-e1300a19693b",
   "metadata": {},
   "outputs": [],
   "source": [
    "svc = SVC(kernel = 'sigmoid')\n",
    "knc = KNeighborsClassifier()\n",
    "mnb = MultinomialNB()\n",
    "bnb = BernoulliNB()\n",
    "rfc = RandomForestClassifier(random_state = 2)\n",
    "xgb = XGBClassifier(random_state = 2)\n",
    "gbdt = GradientBoostingClassifier(random_state = 2)\n",
    "dtc = DecisionTreeClassifier(max_depth = 5)\n",
    "lrc = LogisticRegression()"
   ]
  },
  {
   "cell_type": "code",
   "execution_count": 173,
   "id": "9fac8b5f-a23c-4d4b-a10c-aa240598e373",
   "metadata": {},
   "outputs": [],
   "source": [
    "classifiers = {\n",
    "    'SVC' : svc,\n",
    "    'KNeighbors' : knc,\n",
    "    'Multinomial Naive Bayes' : mnb,\n",
    "    'Bernoulli Naive Bayes' : bnb,\n",
    "    'Random Forest' : rfc,\n",
    "    'XGBoost' : xgb,\n",
    "    'Gradient Boosted Decision Tree' : gbdt,\n",
    "    'Decision Tree' : dtc,\n",
    "    'Logistic Regression' : lrc\n",
    "}"
   ]
  },
  {
   "cell_type": "code",
   "execution_count": 175,
   "id": "d5f4e0da-2d0d-4f26-bb01-d836a514c6a6",
   "metadata": {},
   "outputs": [],
   "source": [
    "#function to train the classifier and return the evaluation metrics (accuracy, precision, recall, f1-score)\n",
    "def train_classifier(clf, X_train, y_train, X_test, y_test):\n",
    "    \n",
    "    clf.fit(X_train, y_train)\n",
    "    y_pred = clf.predict(X_test)\n",
    "    \n",
    "    accuracy = accuracy_score(y_test, y_pred)\n",
    "    precision = precision_score(y_test, y_pred)\n",
    "    recall = recall_score(y_test, y_pred)\n",
    "    f1 = f1_score(y_test, y_pred)\n",
    "    \n",
    "    return accuracy, precision, recall, f1"
   ]
  },
  {
   "cell_type": "markdown",
   "id": "3d1baab4-9db5-455c-a0da-24bf5c4195a3",
   "metadata": {},
   "source": [
    "Example use"
   ]
  },
  {
   "cell_type": "code",
   "execution_count": 176,
   "id": "074e8b4f-f394-486b-ab97-566c96e0b0d2",
   "metadata": {},
   "outputs": [
    {
     "data": {
      "text/plain": [
       "(0.9758220502901354,\n",
       " 0.9747899159663865,\n",
       " 0.8405797101449275,\n",
       " 0.9027237354085604)"
      ]
     },
     "execution_count": 176,
     "metadata": {},
     "output_type": "execute_result"
    }
   ],
   "source": [
    "train_classifier(svc, X_train, y_train, X_test, y_test)"
   ]
  },
  {
   "cell_type": "code",
   "execution_count": 177,
   "id": "dfcc4c5e-a5d1-4b60-8070-cad0baa4d234",
   "metadata": {},
   "outputs": [],
   "source": [
    "classifier_models = []\n",
    "accuracy_scores = []\n",
    "precision_scores = []\n",
    "recall_scores = []\n",
    "f1_scores = []\n",
    "\n",
    "for name, clf in classifiers.items():\n",
    "    \n",
    "    accuracy, precision, recall, f1 = train_classifier(clf, X_train, y_train, X_test, y_test)\n",
    "    \n",
    "    classifier_models.append(name)\n",
    "    accuracy_scores.append(accuracy)\n",
    "    precision_scores.append(precision)\n",
    "    recall_scores.append(recall)\n",
    "    f1_scores.append(f1)"
   ]
  },
  {
   "cell_type": "code",
   "execution_count": 179,
   "id": "20e93b60-222d-400e-b86b-2fe609c61ad4",
   "metadata": {},
   "outputs": [],
   "source": [
    "evaluation_scores = pd.DataFrame(classifier_models, columns = ['Classifier'])\n",
    "evaluation_scores['Accuracy'] = accuracy_scores\n",
    "evaluation_scores['Precision'] = precision_scores\n",
    "evaluation_scores['Recall'] = recall_scores\n",
    "evaluation_scores['F1 Score'] = f1_scores"
   ]
  },
  {
   "cell_type": "code",
   "execution_count": 182,
   "id": "4f962d67-ae02-4a46-b196-8bd767efe789",
   "metadata": {},
   "outputs": [
    {
     "data": {
      "text/html": [
       "<div>\n",
       "<style scoped>\n",
       "    .dataframe tbody tr th:only-of-type {\n",
       "        vertical-align: middle;\n",
       "    }\n",
       "\n",
       "    .dataframe tbody tr th {\n",
       "        vertical-align: top;\n",
       "    }\n",
       "\n",
       "    .dataframe thead th {\n",
       "        text-align: right;\n",
       "    }\n",
       "</style>\n",
       "<table border=\"1\" class=\"dataframe\">\n",
       "  <thead>\n",
       "    <tr style=\"text-align: right;\">\n",
       "      <th></th>\n",
       "      <th>Classifier</th>\n",
       "      <th>Accuracy</th>\n",
       "      <th>Precision</th>\n",
       "      <th>Recall</th>\n",
       "      <th>F1 Score</th>\n",
       "    </tr>\n",
       "  </thead>\n",
       "  <tbody>\n",
       "    <tr>\n",
       "      <th>3</th>\n",
       "      <td>Bernoulli Naive Bayes</td>\n",
       "      <td>0.983559</td>\n",
       "      <td>0.991870</td>\n",
       "      <td>0.884058</td>\n",
       "      <td>0.934866</td>\n",
       "    </tr>\n",
       "    <tr>\n",
       "      <th>0</th>\n",
       "      <td>SVC</td>\n",
       "      <td>0.975822</td>\n",
       "      <td>0.974790</td>\n",
       "      <td>0.840580</td>\n",
       "      <td>0.902724</td>\n",
       "    </tr>\n",
       "    <tr>\n",
       "      <th>4</th>\n",
       "      <td>Random Forest</td>\n",
       "      <td>0.975822</td>\n",
       "      <td>0.982906</td>\n",
       "      <td>0.833333</td>\n",
       "      <td>0.901961</td>\n",
       "    </tr>\n",
       "    <tr>\n",
       "      <th>5</th>\n",
       "      <td>XGBoost</td>\n",
       "      <td>0.971954</td>\n",
       "      <td>0.936000</td>\n",
       "      <td>0.847826</td>\n",
       "      <td>0.889734</td>\n",
       "    </tr>\n",
       "    <tr>\n",
       "      <th>2</th>\n",
       "      <td>Multinomial Naive Bayes</td>\n",
       "      <td>0.970986</td>\n",
       "      <td>1.000000</td>\n",
       "      <td>0.782609</td>\n",
       "      <td>0.878049</td>\n",
       "    </tr>\n",
       "    <tr>\n",
       "      <th>8</th>\n",
       "      <td>Logistic Regression</td>\n",
       "      <td>0.956480</td>\n",
       "      <td>0.979381</td>\n",
       "      <td>0.688406</td>\n",
       "      <td>0.808511</td>\n",
       "    </tr>\n",
       "    <tr>\n",
       "      <th>6</th>\n",
       "      <td>Gradient Boosted Decision Tree</td>\n",
       "      <td>0.953578</td>\n",
       "      <td>0.924528</td>\n",
       "      <td>0.710145</td>\n",
       "      <td>0.803279</td>\n",
       "    </tr>\n",
       "    <tr>\n",
       "      <th>7</th>\n",
       "      <td>Decision Tree</td>\n",
       "      <td>0.932302</td>\n",
       "      <td>0.833333</td>\n",
       "      <td>0.615942</td>\n",
       "      <td>0.708333</td>\n",
       "    </tr>\n",
       "    <tr>\n",
       "      <th>1</th>\n",
       "      <td>KNeighbors</td>\n",
       "      <td>0.905222</td>\n",
       "      <td>1.000000</td>\n",
       "      <td>0.289855</td>\n",
       "      <td>0.449438</td>\n",
       "    </tr>\n",
       "  </tbody>\n",
       "</table>\n",
       "</div>"
      ],
      "text/plain": [
       "                       Classifier  Accuracy  Precision    Recall  F1 Score\n",
       "3           Bernoulli Naive Bayes  0.983559   0.991870  0.884058  0.934866\n",
       "0                             SVC  0.975822   0.974790  0.840580  0.902724\n",
       "4                   Random Forest  0.975822   0.982906  0.833333  0.901961\n",
       "5                         XGBoost  0.971954   0.936000  0.847826  0.889734\n",
       "2         Multinomial Naive Bayes  0.970986   1.000000  0.782609  0.878049\n",
       "8             Logistic Regression  0.956480   0.979381  0.688406  0.808511\n",
       "6  Gradient Boosted Decision Tree  0.953578   0.924528  0.710145  0.803279\n",
       "7                   Decision Tree  0.932302   0.833333  0.615942  0.708333\n",
       "1                      KNeighbors  0.905222   1.000000  0.289855  0.449438"
      ]
     },
     "execution_count": 182,
     "metadata": {},
     "output_type": "execute_result"
    }
   ],
   "source": [
    "evaluation_scores.sort_values('F1 Score', ascending = False)"
   ]
  },
  {
   "cell_type": "markdown",
   "id": "60602bd9-87ad-4f94-ae60-2e0c5ab40e44",
   "metadata": {},
   "source": [
    "**Model Selection**\n",
    "\n",
    "From the results above we can observe that **Bernoulli Naive Bayes** has the highest F1 Score and other metrics are also indicating good performance, so we can select it as our final model."
   ]
  },
  {
   "cell_type": "markdown",
   "id": "ef2ecde6-8861-4be2-a997-c2e5163716ac",
   "metadata": {},
   "source": [
    "#### **Check if adding the Number of character feature provides any improvement in performance**"
   ]
  },
  {
   "cell_type": "code",
   "execution_count": 183,
   "id": "78303162-fe75-4ec4-92c9-9b5173ee2325",
   "metadata": {},
   "outputs": [
    {
     "data": {
      "text/plain": [
       "array([[0., 0., 0., ..., 0., 0., 0.],\n",
       "       [0., 0., 0., ..., 0., 0., 0.],\n",
       "       [0., 0., 0., ..., 0., 0., 0.],\n",
       "       ...,\n",
       "       [0., 0., 0., ..., 0., 0., 0.],\n",
       "       [0., 0., 0., ..., 0., 0., 0.],\n",
       "       [0., 0., 0., ..., 0., 0., 0.]])"
      ]
     },
     "execution_count": 183,
     "metadata": {},
     "output_type": "execute_result"
    }
   ],
   "source": [
    "X"
   ]
  },
  {
   "cell_type": "code",
   "execution_count": 184,
   "id": "9853b269-44d5-4b73-a842-75a4e9ee43e4",
   "metadata": {},
   "outputs": [
    {
     "data": {
      "text/plain": [
       "0       111\n",
       "1        29\n",
       "2       155\n",
       "3        49\n",
       "4        61\n",
       "       ... \n",
       "5567    161\n",
       "5568     37\n",
       "5569     57\n",
       "5570    125\n",
       "5571     26\n",
       "Name: num_characters, Length: 5169, dtype: int64"
      ]
     },
     "execution_count": 184,
     "metadata": {},
     "output_type": "execute_result"
    }
   ],
   "source": [
    "data['num_characters']"
   ]
  },
  {
   "cell_type": "code",
   "execution_count": 188,
   "id": "829f7e0e-5a34-490a-b45a-791b6b8bc808",
   "metadata": {},
   "outputs": [],
   "source": [
    "X_exp = np.hstack((X, data['num_characters'].to_numpy().reshape(-1, 1)))"
   ]
  },
  {
   "cell_type": "code",
   "execution_count": 189,
   "id": "c7d14aee-a67f-4ae2-bc80-426ff151df53",
   "metadata": {},
   "outputs": [
    {
     "data": {
      "text/plain": [
       "array([[  0.,   0.,   0., ...,   0.,   0., 111.],\n",
       "       [  0.,   0.,   0., ...,   0.,   0.,  29.],\n",
       "       [  0.,   0.,   0., ...,   0.,   0., 155.],\n",
       "       ...,\n",
       "       [  0.,   0.,   0., ...,   0.,   0.,  57.],\n",
       "       [  0.,   0.,   0., ...,   0.,   0., 125.],\n",
       "       [  0.,   0.,   0., ...,   0.,   0.,  26.]])"
      ]
     },
     "execution_count": 189,
     "metadata": {},
     "output_type": "execute_result"
    }
   ],
   "source": [
    "X_exp"
   ]
  },
  {
   "cell_type": "code",
   "execution_count": 191,
   "id": "5b87290b-f944-4479-aca1-59a76f5804cc",
   "metadata": {},
   "outputs": [
    {
     "name": "stdout",
     "output_type": "stream",
     "text": [
      "For Classifier :  SVC\n",
      "Accuracy :  0.7775628626692457\n",
      "Precision :  0.057692307692307696\n",
      "Recall :  0.043478260869565216\n",
      "F1 Score :  0.049586776859504134\n",
      "\n",
      "For Classifier :  KNeighbors\n",
      "Accuracy :  0.9342359767891683\n",
      "Precision :  0.8301886792452831\n",
      "Recall :  0.6376811594202898\n",
      "F1 Score :  0.7213114754098361\n",
      "\n",
      "For Classifier :  Multinomial Naive Bayes\n",
      "Accuracy :  0.9410058027079303\n",
      "Precision :  1.0\n",
      "Recall :  0.5579710144927537\n",
      "F1 Score :  0.7162790697674419\n",
      "\n",
      "For Classifier :  Bernoulli Naive Bayes\n",
      "Accuracy :  0.9835589941972921\n",
      "Precision :  0.991869918699187\n",
      "Recall :  0.8840579710144928\n",
      "F1 Score :  0.9348659003831418\n",
      "\n",
      "For Classifier :  Random Forest\n",
      "Accuracy :  0.9700193423597679\n",
      "Precision :  0.9734513274336283\n",
      "Recall :  0.7971014492753623\n",
      "F1 Score :  0.8764940239043825\n",
      "\n",
      "For Classifier :  XGBoost\n",
      "Accuracy :  0.97678916827853\n",
      "Precision :  0.9453125\n",
      "Recall :  0.8768115942028986\n",
      "F1 Score :  0.9097744360902256\n",
      "\n",
      "For Classifier :  Gradient Boosted Decision Tree\n",
      "Accuracy :  0.9584139264990329\n",
      "Precision :  0.9357798165137615\n",
      "Recall :  0.7391304347826086\n",
      "F1 Score :  0.8259109311740891\n",
      "\n",
      "For Classifier :  Decision Tree\n",
      "Accuracy :  0.9458413926499033\n",
      "Precision :  0.8867924528301887\n",
      "Recall :  0.6811594202898551\n",
      "F1 Score :  0.7704918032786885\n",
      "\n",
      "For Classifier :  Logistic Regression\n",
      "Accuracy :  0.9671179883945842\n",
      "Precision :  0.9905660377358491\n",
      "Recall :  0.7608695652173914\n",
      "F1 Score :  0.860655737704918\n",
      "\n"
     ]
    },
    {
     "name": "stderr",
     "output_type": "stream",
     "text": [
      "C:\\Users\\Acer\\AppData\\Local\\Programs\\Python\\Python311\\Lib\\site-packages\\sklearn\\linear_model\\_logistic.py:458: ConvergenceWarning: lbfgs failed to converge (status=1):\n",
      "STOP: TOTAL NO. of ITERATIONS REACHED LIMIT.\n",
      "\n",
      "Increase the number of iterations (max_iter) or scale the data as shown in:\n",
      "    https://scikit-learn.org/stable/modules/preprocessing.html\n",
      "Please also refer to the documentation for alternative solver options:\n",
      "    https://scikit-learn.org/stable/modules/linear_model.html#logistic-regression\n",
      "  n_iter_i = _check_optimize_result(\n"
     ]
    }
   ],
   "source": [
    "X_train_exp, X_test_exp, y_train_exp, y_test_exp = train_test_split(X_exp, y, test_size = 0.2, random_state = 2)\n",
    "\n",
    "for name, clf in classifiers.items():\n",
    "    \n",
    "    accuracy, precision, recall, f1 = train_classifier(clf, X_train_exp, y_train_exp, X_test_exp, y_test_exp)\n",
    "    \n",
    "    print(\"For Classifier : \", name)\n",
    "    print(\"Accuracy : \", accuracy)\n",
    "    print(\"Precision : \", precision)\n",
    "    print(\"Recall : \", recall)\n",
    "    print(\"F1 Score : \", f1)\n",
    "    print()"
   ]
  },
  {
   "cell_type": "markdown",
   "id": "1d758e76-cbf7-42b7-a9e1-b00eb690f70a",
   "metadata": {},
   "source": [
    "Adding the extra feature does not make a huge difference in performance so we can move forward without it"
   ]
  },
  {
   "cell_type": "markdown",
   "id": "4db6b66b-e224-4739-9f8f-597af1b21270",
   "metadata": {
    "jp-MarkdownHeadingCollapsed": true,
    "tags": []
   },
   "source": [
    "### 6. Export Model and Vectorizer for Deployement"
   ]
  },
  {
   "cell_type": "markdown",
   "id": "e93db7c7-7535-4515-bf67-b754f55ebd90",
   "metadata": {},
   "source": [
    "To make predictions on the new text messages we need to perform the following steps:\n",
    "* perform preprocessing on text data\n",
    "* vectorize the text\n",
    "* apply model to make prediction"
   ]
  },
  {
   "cell_type": "markdown",
   "id": "22968430-c011-494b-8276-57d74a00704b",
   "metadata": {},
   "source": [
    "We need to use the following function to perform preprocessing steps:  \n",
    "```\n",
    "import nltk\n",
    "from nltk.corpus import stopwords\n",
    "from nltk.stem.porter import PorterStemmer\n",
    "\n",
    "#function to perform all the preprocessing steps on text data\n",
    "def transform_text(text):\n",
    "    #convert text into lower case\n",
    "    text = text.lower()\n",
    "    \n",
    "    #create word tokens from text string\n",
    "    text = nltk.word_tokenize(text)\n",
    "    \n",
    "    #removing special characters and punctuations\n",
    "    res1 = []\n",
    "    for word in text:\n",
    "        if word.isalnum():\n",
    "            res1.append(word)\n",
    "            \n",
    "    #removing stop words\n",
    "    res2 = []\n",
    "    for word in res1:\n",
    "        if word not in stopwords.words('english'):\n",
    "            res2.append(word)\n",
    "    \n",
    "    #stemming - extracting base words \n",
    "    ps = PorterStemmer()\n",
    "    \n",
    "    res3 = []\n",
    "    for word in res2:\n",
    "        res3.append(ps.stem(word))\n",
    "    \n",
    "    #convert the word list back to string\n",
    "    text = \" \".join(res3)\n",
    "    \n",
    "    return text\n",
    "```\n",
    "\n",
    "then use the tfidf vectorizer \n",
    "\n",
    "and then apply Beroulli Classifier to make predictions"
   ]
  },
  {
   "cell_type": "code",
   "execution_count": 200,
   "id": "615dc9ae-73b8-419f-8542-dde7a91ea5b2",
   "metadata": {},
   "outputs": [],
   "source": [
    "import pickle\n",
    "\n",
    "#create a pickle (byte) file to save the vectorizer object for later use \n",
    "pickle.dump(tfidf, open('vectorizer.pkl', 'wb'))\n",
    "\n",
    "#save the Beroulli Naive Bayes Classifier Model Object as pickle file\n",
    "pickle.dump(bnb, open('classification_model.pkl', 'wb'))"
   ]
  },
  {
   "cell_type": "markdown",
   "id": "76d115a6-d7b8-48e2-92c9-4e94fa7f66e4",
   "metadata": {},
   "source": [
    "---\n",
    "**Making Predictions on new messages**"
   ]
  },
  {
   "cell_type": "markdown",
   "id": "a80535b9-e0f4-40de-8b91-11a5eb6d0b04",
   "metadata": {},
   "source": [
    "**Example 1** - trying a normal (not-spam) ham message"
   ]
  },
  {
   "cell_type": "code",
   "execution_count": 204,
   "id": "101c7d8d-f0ea-49b6-9303-5faae8b42ffc",
   "metadata": {},
   "outputs": [],
   "source": [
    "new_text = 'Hello, I am Aaditya Bansal, I heared that you are learning Machine Learning these days, let me know if you need any help.'"
   ]
  },
  {
   "cell_type": "code",
   "execution_count": 205,
   "id": "eaaa8ea5-0cb5-43e8-a09f-9a3f7f81cd56",
   "metadata": {},
   "outputs": [
    {
     "data": {
      "text/plain": [
       "'hello aaditya bansal hear learn machin learn day let know need help'"
      ]
     },
     "execution_count": 205,
     "metadata": {},
     "output_type": "execute_result"
    }
   ],
   "source": [
    "transform_text(new_text)"
   ]
  },
  {
   "cell_type": "code",
   "execution_count": 210,
   "id": "f09b47a5-14ae-408d-80ca-b746978d1ea3",
   "metadata": {},
   "outputs": [],
   "source": [
    "new_text_vector = tfidf.transform([transform_text(new_text)]).toarray()"
   ]
  },
  {
   "cell_type": "code",
   "execution_count": 212,
   "id": "0309c8b3-aace-43b3-828e-cf6e49a7e793",
   "metadata": {},
   "outputs": [
    {
     "data": {
      "text/plain": [
       "0"
      ]
     },
     "execution_count": 212,
     "metadata": {},
     "output_type": "execute_result"
    }
   ],
   "source": [
    "bnb.predict(new_text_vector)[0]"
   ]
  },
  {
   "cell_type": "markdown",
   "id": "9d2ef2ea-5d15-4787-b2de-130c53aabc3d",
   "metadata": {},
   "source": [
    "It correctly predicted our message as not spam"
   ]
  },
  {
   "cell_type": "markdown",
   "id": "deb00300-3ee1-4c9b-9756-301cac03e1d3",
   "metadata": {},
   "source": [
    "**Example 2** - trying a spam message"
   ]
  },
  {
   "cell_type": "code",
   "execution_count": 213,
   "id": "5432a8a8-534c-486a-851d-efb19f908f7d",
   "metadata": {},
   "outputs": [],
   "source": [
    "new_text2 = 'Congratulations dear customer, you have just won a grand price of 50000 dollars, call or message to the following number to recieve your price.'"
   ]
  },
  {
   "cell_type": "code",
   "execution_count": 214,
   "id": "a617731d-2741-4477-96f0-f3d26828fba6",
   "metadata": {},
   "outputs": [
    {
     "data": {
      "text/plain": [
       "'congratul dear custom grand price 50000 dollar call messag follow number reciev price'"
      ]
     },
     "execution_count": 214,
     "metadata": {},
     "output_type": "execute_result"
    }
   ],
   "source": [
    "transform_text(new_text2)"
   ]
  },
  {
   "cell_type": "code",
   "execution_count": 215,
   "id": "2d2d4ae9-f5e7-4c8e-905d-07d065b2a712",
   "metadata": {},
   "outputs": [],
   "source": [
    "new_text_vector2 = tfidf.transform([transform_text(new_text2)]).toarray()"
   ]
  },
  {
   "cell_type": "code",
   "execution_count": 216,
   "id": "6d59648c-4f60-48cf-967a-953adaae1dfa",
   "metadata": {},
   "outputs": [
    {
     "data": {
      "text/plain": [
       "1"
      ]
     },
     "execution_count": 216,
     "metadata": {},
     "output_type": "execute_result"
    }
   ],
   "source": [
    "bnb.predict(new_text_vector2)[0]"
   ]
  },
  {
   "cell_type": "markdown",
   "id": "b04b331c-7638-49d4-9e57-b47cf25d1e76",
   "metadata": {},
   "source": [
    "It correctly predicted the message as SPAM"
   ]
  }
 ],
 "metadata": {
  "kernelspec": {
   "display_name": "Python 3 (ipykernel)",
   "language": "python",
   "name": "python3"
  },
  "language_info": {
   "codemirror_mode": {
    "name": "ipython",
    "version": 3
   },
   "file_extension": ".py",
   "mimetype": "text/x-python",
   "name": "python",
   "nbconvert_exporter": "python",
   "pygments_lexer": "ipython3",
   "version": "3.11.1"
  }
 },
 "nbformat": 4,
 "nbformat_minor": 5
}
