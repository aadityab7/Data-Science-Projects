{
 "cells": [
  {
   "cell_type": "markdown",
   "id": "20d8e400-3964-4efd-bdd9-e66763466aea",
   "metadata": {
    "tags": []
   },
   "source": [
    "**Overview**\n",
    "- VADER Model from NLTK\n",
    "- RoBERTa Pretrained Model from Hugging face 🤗"
   ]
  },
  {
   "cell_type": "markdown",
   "id": "f6d6034d-c6b1-46f5-ad10-071195cbe899",
   "metadata": {
    "tags": []
   },
   "source": [
    "## Import Libraries and set configurations"
   ]
  },
  {
   "cell_type": "code",
   "execution_count": 1,
   "id": "8c3a2627-0f3d-4101-8654-e5fa484d915a",
   "metadata": {},
   "outputs": [],
   "source": [
    "#storing and manipulating data\n",
    "import pandas as pd\n",
    "import numpy as np\n",
    "\n",
    "#plotting\n",
    "from matplotlib import pyplot as plt\n",
    "import seaborn as sns\n",
    "from tqdm.notebook import tqdm\n",
    "\n",
    "#natural language tool kit\n",
    "import nltk\n",
    "from nltk.sentiment import SentimentIntensityAnalyzer"
   ]
  },
  {
   "cell_type": "code",
   "execution_count": 27,
   "id": "3e87de31-16b2-4069-b1a3-c7a38ce0758d",
   "metadata": {},
   "outputs": [],
   "source": [
    "class CFG:\n",
    "    load_complete_dataset = False\n",
    "    install_dependencies = False"
   ]
  },
  {
   "cell_type": "markdown",
   "id": "99072186-3b68-473d-abd2-c011f9b3bbe3",
   "metadata": {
    "jp-MarkdownHeadingCollapsed": true,
    "tags": []
   },
   "source": [
    "## Installs"
   ]
  },
  {
   "cell_type": "code",
   "execution_count": 3,
   "id": "5b17a936-0220-422a-992d-0ceaa0ba79d8",
   "metadata": {},
   "outputs": [],
   "source": [
    "if CFG.install_dependencies:\n",
    "    nltk.download('maxent_ne_chunker')\n",
    "    nltk.download('words')\n",
    "    nltk.download('vader_lexicon')"
   ]
  },
  {
   "cell_type": "markdown",
   "id": "c50274ec-e835-462f-8a41-e208dfb9c3de",
   "metadata": {
    "jp-MarkdownHeadingCollapsed": true,
    "tags": []
   },
   "source": [
    "## Load / Read Data"
   ]
  },
  {
   "cell_type": "code",
   "execution_count": 4,
   "id": "23f59942-221b-49c2-b8c2-8c69c17e7ee4",
   "metadata": {},
   "outputs": [
    {
     "name": "stdout",
     "output_type": "stream",
     "text": [
      "(568454, 3)\n"
     ]
    },
    {
     "data": {
      "text/html": [
       "<div>\n",
       "<style scoped>\n",
       "    .dataframe tbody tr th:only-of-type {\n",
       "        vertical-align: middle;\n",
       "    }\n",
       "\n",
       "    .dataframe tbody tr th {\n",
       "        vertical-align: top;\n",
       "    }\n",
       "\n",
       "    .dataframe thead th {\n",
       "        text-align: right;\n",
       "    }\n",
       "</style>\n",
       "<table border=\"1\" class=\"dataframe\">\n",
       "  <thead>\n",
       "    <tr style=\"text-align: right;\">\n",
       "      <th></th>\n",
       "      <th>Score</th>\n",
       "      <th>Summary</th>\n",
       "      <th>Text</th>\n",
       "    </tr>\n",
       "  </thead>\n",
       "  <tbody>\n",
       "    <tr>\n",
       "      <th>0</th>\n",
       "      <td>5</td>\n",
       "      <td>Good Quality Dog Food</td>\n",
       "      <td>I have bought several of the Vitality canned d...</td>\n",
       "    </tr>\n",
       "    <tr>\n",
       "      <th>1</th>\n",
       "      <td>1</td>\n",
       "      <td>Not as Advertised</td>\n",
       "      <td>Product arrived labeled as Jumbo Salted Peanut...</td>\n",
       "    </tr>\n",
       "    <tr>\n",
       "      <th>2</th>\n",
       "      <td>4</td>\n",
       "      <td>\"Delight\" says it all</td>\n",
       "      <td>This is a confection that has been around a fe...</td>\n",
       "    </tr>\n",
       "    <tr>\n",
       "      <th>3</th>\n",
       "      <td>2</td>\n",
       "      <td>Cough Medicine</td>\n",
       "      <td>If you are looking for the secret ingredient i...</td>\n",
       "    </tr>\n",
       "    <tr>\n",
       "      <th>4</th>\n",
       "      <td>5</td>\n",
       "      <td>Great taffy</td>\n",
       "      <td>Great taffy at a great price.  There was a wid...</td>\n",
       "    </tr>\n",
       "  </tbody>\n",
       "</table>\n",
       "</div>"
      ],
      "text/plain": [
       "   Score                Summary  \\\n",
       "0      5  Good Quality Dog Food   \n",
       "1      1      Not as Advertised   \n",
       "2      4  \"Delight\" says it all   \n",
       "3      2         Cough Medicine   \n",
       "4      5            Great taffy   \n",
       "\n",
       "                                                Text  \n",
       "0  I have bought several of the Vitality canned d...  \n",
       "1  Product arrived labeled as Jumbo Salted Peanut...  \n",
       "2  This is a confection that has been around a fe...  \n",
       "3  If you are looking for the secret ingredient i...  \n",
       "4  Great taffy at a great price.  There was a wid...  "
      ]
     },
     "metadata": {},
     "output_type": "display_data"
    }
   ],
   "source": [
    "if CFG.load_complete_dataset:\n",
    "    df = pd.read_csv('dataset/Reviews.csv', usecols=['Score', 'Summary', 'Text'])\n",
    "    print(df.shape) \n",
    "    display(df.head())"
   ]
  },
  {
   "cell_type": "code",
   "execution_count": 5,
   "id": "95a2f829-701b-4ff1-bfe7-c82faedc992f",
   "metadata": {},
   "outputs": [],
   "source": [
    "if CFG.load_complete_dataset:\n",
    "    #complete dataset has over half a million reviews \n",
    "    #the overall dataset is too large so we will downsample the data to 500 examples for analysis\n",
    "    df = df.sample(500)\n",
    "    \n",
    "    #combine the summary / heading and text description\n",
    "    df['review_text'] = df['Summary'] + ' ' +  df['Text']\n",
    "\n",
    "    #we can also remove the previous original columns\n",
    "    df.drop(['Summary', 'Text'], axis = 1, inplace = True)\n",
    "    \n",
    "    df = df.reset_index()\n",
    "    df.drop(['index'], axis = 1, inplace=True)\n",
    "    \n",
    "    #and save the new data into csv\n",
    "    df.to_csv('amazon_reviews_dataset_500.csv', index = False)\n",
    "else:\n",
    "    df = pd.read_csv('amazon_reviews_dataset_500.csv')"
   ]
  },
  {
   "cell_type": "code",
   "execution_count": 7,
   "id": "84895f21-e292-4df3-b39d-5a48869b26c2",
   "metadata": {},
   "outputs": [
    {
     "data": {
      "text/html": [
       "<div>\n",
       "<style scoped>\n",
       "    .dataframe tbody tr th:only-of-type {\n",
       "        vertical-align: middle;\n",
       "    }\n",
       "\n",
       "    .dataframe tbody tr th {\n",
       "        vertical-align: top;\n",
       "    }\n",
       "\n",
       "    .dataframe thead th {\n",
       "        text-align: right;\n",
       "    }\n",
       "</style>\n",
       "<table border=\"1\" class=\"dataframe\">\n",
       "  <thead>\n",
       "    <tr style=\"text-align: right;\">\n",
       "      <th></th>\n",
       "      <th>Score</th>\n",
       "      <th>review_text</th>\n",
       "    </tr>\n",
       "  </thead>\n",
       "  <tbody>\n",
       "    <tr>\n",
       "      <th>0</th>\n",
       "      <td>1</td>\n",
       "      <td>Sprayed orange grease all over the inside of t...</td>\n",
       "    </tr>\n",
       "    <tr>\n",
       "      <th>1</th>\n",
       "      <td>3</td>\n",
       "      <td>Had higher expectations It is a naturally swee...</td>\n",
       "    </tr>\n",
       "    <tr>\n",
       "      <th>2</th>\n",
       "      <td>5</td>\n",
       "      <td>Everything is as it should be I ordered these ...</td>\n",
       "    </tr>\n",
       "    <tr>\n",
       "      <th>3</th>\n",
       "      <td>5</td>\n",
       "      <td>So Happy I found this; Product is Fabulous I d...</td>\n",
       "    </tr>\n",
       "    <tr>\n",
       "      <th>4</th>\n",
       "      <td>5</td>\n",
       "      <td>Great tea, very satisfying Nice mellow tea for...</td>\n",
       "    </tr>\n",
       "  </tbody>\n",
       "</table>\n",
       "</div>"
      ],
      "text/plain": [
       "   Score                                        review_text\n",
       "0      1  Sprayed orange grease all over the inside of t...\n",
       "1      3  Had higher expectations It is a naturally swee...\n",
       "2      5  Everything is as it should be I ordered these ...\n",
       "3      5  So Happy I found this; Product is Fabulous I d...\n",
       "4      5  Great tea, very satisfying Nice mellow tea for..."
      ]
     },
     "execution_count": 7,
     "metadata": {},
     "output_type": "execute_result"
    }
   ],
   "source": [
    "df.head()"
   ]
  },
  {
   "cell_type": "markdown",
   "id": "7a840ee9-132a-4d17-ba7f-79ffef0923b0",
   "metadata": {
    "jp-MarkdownHeadingCollapsed": true,
    "tags": []
   },
   "source": [
    "## EDA"
   ]
  },
  {
   "cell_type": "code",
   "execution_count": 8,
   "id": "3447e4df-462a-4845-92c8-e68408cc51ab",
   "metadata": {},
   "outputs": [
    {
     "data": {
      "image/png": "[encoded data removed]",
      "text/plain": [
       "<Figure size 1000x500 with 1 Axes>"
      ]
     },
     "metadata": {},
     "output_type": "display_data"
    }
   ],
   "source": [
    "fig, ax = plt.subplots(figsize = (10, 5))\n",
    "ax = df['Score'].value_counts().sort_index().plot(kind = 'bar')\n",
    "ax.set_xlabel('Review Stars')\n",
    "plt.title('count of reviews by stars')\n",
    "plt.show()"
   ]
  },
  {
   "cell_type": "markdown",
   "id": "e9f8d9fe-fc43-47fd-a14c-fdb7bee7a0c7",
   "metadata": {},
   "source": [
    "The overall distribution of reviews seems to be more positive and then there is a slight spike in the 1 star negetive reviews, so data is mostly very polar."
   ]
  },
  {
   "cell_type": "markdown",
   "id": "e3e00b47-d535-4191-956f-078bd23d3d39",
   "metadata": {
    "jp-MarkdownHeadingCollapsed": true,
    "tags": []
   },
   "source": [
    "## Basic NLTK"
   ]
  },
  {
   "cell_type": "code",
   "execution_count": 19,
   "id": "ac83ff74-6ab5-4362-ae01-6270a8743f27",
   "metadata": {},
   "outputs": [
    {
     "name": "stdout",
     "output_type": "stream",
     "text": [
      "Great Price, Not what I was hoping for though. There's the original Tang. There's the fruition Tang that was around from 2008 to 2010, which had extra vitamins (B,D,A, etc.) and replaced half the sugar with zero calorie sweeteners. But tang has gone back to a flavor more similar to the original with full sugar content. I was hoping for the fruition version, which other reviewers received.\n"
     ]
    }
   ],
   "source": [
    "example = df['review_text'][50]\n",
    "print(example)"
   ]
  },
  {
   "cell_type": "code",
   "execution_count": 20,
   "id": "5bd65311-6a1e-4db3-bb3f-043d00cdc274",
   "metadata": {},
   "outputs": [
    {
     "data": {
      "text/plain": [
       "['Great', 'Price', ',', 'Not', 'what', 'I', 'was', 'hoping']"
      ]
     },
     "execution_count": 20,
     "metadata": {},
     "output_type": "execute_result"
    }
   ],
   "source": [
    "#use the nltk's word tokenizer to smartly split the sentence into tokens \n",
    "#which can be used to understand the language by the computer\n",
    "tokens = nltk.word_tokenize(example)\n",
    "tokens[:8]"
   ]
  },
  {
   "cell_type": "code",
   "execution_count": 21,
   "id": "2df70dae-842c-43c4-93af-6fe7a7b97c84",
   "metadata": {},
   "outputs": [
    {
     "data": {
      "text/plain": [
       "[('Great', 'NNP'),\n",
       " ('Price', 'NNP'),\n",
       " (',', ','),\n",
       " ('Not', 'RB'),\n",
       " ('what', 'WP'),\n",
       " ('I', 'PRP'),\n",
       " ('was', 'VBD'),\n",
       " ('hoping', 'VBG'),\n",
       " ('for', 'IN'),\n",
       " ('though', 'IN')]"
      ]
     },
     "execution_count": 21,
     "metadata": {},
     "output_type": "execute_result"
    }
   ],
   "source": [
    "#find the part of speech for each of the token words with nltk\n",
    "#each word will get a part of speech value associated with them \n",
    "#and they are represented with codes like NN is for singular nouns\n",
    "tagged = nltk.pos_tag(tokens)\n",
    "tagged[:10]"
   ]
  },
  {
   "cell_type": "code",
   "execution_count": 22,
   "id": "f0a988aa-623e-41c6-a600-20d7d64835de",
   "metadata": {
    "scrolled": true,
    "tags": []
   },
   "outputs": [
    {
     "name": "stdout",
     "output_type": "stream",
     "text": [
      "(S\n",
      "  (GPE Great/NNP)\n",
      "  Price/NNP\n",
      "  ,/,\n",
      "  Not/RB\n",
      "  what/WP\n",
      "  I/PRP\n",
      "  was/VBD\n",
      "  hoping/VBG\n",
      "  for/IN\n",
      "  though/IN\n",
      "  ./.\n",
      "  There/EX\n",
      "  's/VBZ\n",
      "  the/DT\n",
      "  original/JJ\n",
      "  (PERSON Tang/NNP)\n",
      "  ./.\n",
      "  There/EX\n",
      "  's/VBZ\n",
      "  the/DT\n",
      "  fruition/NN\n",
      "  (PERSON Tang/NNP)\n",
      "  that/WDT\n",
      "  was/VBD\n",
      "  around/IN\n",
      "  from/IN\n",
      "  2008/CD\n",
      "  to/TO\n",
      "  2010/CD\n",
      "  ,/,\n",
      "  which/WDT\n",
      "  had/VBD\n",
      "  extra/JJ\n",
      "  vitamins/NNS\n",
      "  (/(\n",
      "  B/NNP\n",
      "  ,/,\n",
      "  (GPE D/NNP)\n",
      "  ,/,\n",
      "  A/NNP\n",
      "  ,/,\n",
      "  etc/FW\n",
      "  ./.\n",
      "  )/)\n",
      "  and/CC\n",
      "  replaced/VBD\n",
      "  half/PDT\n",
      "  the/DT\n",
      "  sugar/NN\n",
      "  with/IN\n",
      "  zero/CD\n",
      "  calorie/NN\n",
      "  sweeteners/NNS\n",
      "  ./.\n",
      "  But/CC\n",
      "  tang/NN\n",
      "  has/VBZ\n",
      "  gone/VBN\n",
      "  back/RB\n",
      "  to/TO\n",
      "  a/DT\n",
      "  flavor/NN\n",
      "  more/JJR\n",
      "  similar/JJ\n",
      "  to/TO\n",
      "  the/DT\n",
      "  original/JJ\n",
      "  with/IN\n",
      "  full/JJ\n",
      "  sugar/NN\n",
      "  content/NN\n",
      "  ./.\n",
      "  I/PRP\n",
      "  was/VBD\n",
      "  hoping/VBG\n",
      "  for/IN\n",
      "  the/DT\n",
      "  fruition/NN\n",
      "  version/NN\n",
      "  ,/,\n",
      "  which/WDT\n",
      "  other/JJ\n",
      "  reviewers/NNS\n",
      "  received/VBD\n",
      "  ./.)\n"
     ]
    }
   ],
   "source": [
    "#we can group these tagged values into chunks of tags entities\n",
    "entities = nltk.chunk.ne_chunk(tagged)\n",
    "entities.pprint()"
   ]
  },
  {
   "cell_type": "markdown",
   "id": "a6d55ab0-a606-4152-bff4-20c0ad7bf098",
   "metadata": {
    "jp-MarkdownHeadingCollapsed": true,
    "tags": []
   },
   "source": [
    "## VADER Sentiment Scoring "
   ]
  },
  {
   "cell_type": "markdown",
   "id": "e33a7e35-4a42-49e5-81e1-0437719bc042",
   "metadata": {},
   "source": [
    "**VADER:** Valence Aware Dictonary and sEntiment Reasoner\n",
    "\n",
    "We'll use NLTK's `SentimentInetensityAnalyzer` to get the negetive (neg), neutral (neu) and positive (pos) scores for the text.\n",
    "\n",
    "**Approach:**\n",
    "- Uses a \"bag of words\" approach\n",
    "- Stop words are removed - words like (is, the, am, etc.)\n",
    "- each word is scored and combined to a total score to get a overall sentiment score of text.\n",
    "\n",
    "**Limitations:** \n",
    "- does not account for relationships between words, which is an important part of human speech."
   ]
  },
  {
   "cell_type": "code",
   "execution_count": 23,
   "id": "04c21f0a-b114-4e35-bbcc-d307e66d8efe",
   "metadata": {},
   "outputs": [],
   "source": [
    "sia = SentimentIntensityAnalyzer()"
   ]
  },
  {
   "cell_type": "code",
   "execution_count": 24,
   "id": "11406b01-0c0d-45c4-8360-56d0ae072357",
   "metadata": {},
   "outputs": [
    {
     "data": {
      "text/plain": [
       "{'neg': 0.0, 'neu': 0.389, 'pos': 0.611, 'compound': 0.9272}"
      ]
     },
     "execution_count": 24,
     "metadata": {},
     "output_type": "execute_result"
    }
   ],
   "source": [
    "#example of using sentiment analyzer on a positive sentence\n",
    "sia.polarity_scores('I am so happy! Today is such a great day and I love ML.')"
   ]
  },
  {
   "cell_type": "code",
   "execution_count": 25,
   "id": "556836a6-08dc-474f-a261-faf84c3d061b",
   "metadata": {},
   "outputs": [
    {
     "data": {
      "text/plain": [
       "{'neg': 0.451, 'neu': 0.549, 'pos': 0.0, 'compound': -0.8491}"
      ]
     },
     "execution_count": 25,
     "metadata": {},
     "output_type": "execute_result"
    }
   ],
   "source": [
    "#on the other hand sentiment analyzer on a negetive example\n",
    "sia.polarity_scores('This is the worst thing ever, I would never buy something this bad.')"
   ]
  },
  {
   "cell_type": "code",
   "execution_count": 26,
   "id": "a8f33b76-2b9b-4ffe-a151-f5da5c942fba",
   "metadata": {},
   "outputs": [
    {
     "data": {
      "text/plain": [
       "{'neg': 0.237, 'neu': 0.385, 'pos': 0.378, 'compound': 0.2942}"
      ]
     },
     "execution_count": 26,
     "metadata": {},
     "output_type": "execute_result"
    }
   ],
   "source": [
    "#It can also work well on some confusing sentences - to give a overall slightly positive rating for this sentence.\n",
    "sia.polarity_scores('hey, I hate you, just kidding you know I love you!')"
   ]
  },
  {
   "cell_type": "markdown",
   "id": "1f114e53-7abc-42bf-8d2f-3beb481b99f6",
   "metadata": {},
   "source": [
    "**Observations:** \\\n",
    "We are successfully able to identify the overall sentiment of the text with compound score which varies between 1 (for positive) and -1 (for negetive).\n",
    "\n",
    "Now we can try to apply this to our reviews dataset."
   ]
  },
  {
   "cell_type": "code",
   "execution_count": 33,
   "id": "4e4cc2dc-5c0a-458b-972c-28a31dba01a0",
   "metadata": {},
   "outputs": [],
   "source": [
    "#Run Polarity Score on the entire dataset\n",
    "res = {}\n",
    "for idx, row in df.iterrows():\n",
    "    text = row['review_text']\n",
    "    res[idx] = sia.polarity_scores(text)"
   ]
  },
  {
   "cell_type": "code",
   "execution_count": 38,
   "id": "7df5335f-9467-4d25-96f1-2cc167d1b3eb",
   "metadata": {},
   "outputs": [
    {
     "data": {
      "text/html": [
       "<div>\n",
       "<style scoped>\n",
       "    .dataframe tbody tr th:only-of-type {\n",
       "        vertical-align: middle;\n",
       "    }\n",
       "\n",
       "    .dataframe tbody tr th {\n",
       "        vertical-align: top;\n",
       "    }\n",
       "\n",
       "    .dataframe thead th {\n",
       "        text-align: right;\n",
       "    }\n",
       "</style>\n",
       "<table border=\"1\" class=\"dataframe\">\n",
       "  <thead>\n",
       "    <tr style=\"text-align: right;\">\n",
       "      <th></th>\n",
       "      <th>neg</th>\n",
       "      <th>neu</th>\n",
       "      <th>pos</th>\n",
       "      <th>compound</th>\n",
       "      <th>Score</th>\n",
       "      <th>review_text</th>\n",
       "    </tr>\n",
       "  </thead>\n",
       "  <tbody>\n",
       "    <tr>\n",
       "      <th>0</th>\n",
       "      <td>0.070</td>\n",
       "      <td>0.800</td>\n",
       "      <td>0.130</td>\n",
       "      <td>0.8422</td>\n",
       "      <td>1</td>\n",
       "      <td>Sprayed orange grease all over the inside of t...</td>\n",
       "    </tr>\n",
       "    <tr>\n",
       "      <th>1</th>\n",
       "      <td>0.082</td>\n",
       "      <td>0.727</td>\n",
       "      <td>0.192</td>\n",
       "      <td>0.7655</td>\n",
       "      <td>3</td>\n",
       "      <td>Had higher expectations It is a naturally swee...</td>\n",
       "    </tr>\n",
       "    <tr>\n",
       "      <th>2</th>\n",
       "      <td>0.025</td>\n",
       "      <td>0.807</td>\n",
       "      <td>0.168</td>\n",
       "      <td>0.9238</td>\n",
       "      <td>5</td>\n",
       "      <td>Everything is as it should be I ordered these ...</td>\n",
       "    </tr>\n",
       "    <tr>\n",
       "      <th>3</th>\n",
       "      <td>0.092</td>\n",
       "      <td>0.693</td>\n",
       "      <td>0.214</td>\n",
       "      <td>0.9061</td>\n",
       "      <td>5</td>\n",
       "      <td>So Happy I found this; Product is Fabulous I d...</td>\n",
       "    </tr>\n",
       "    <tr>\n",
       "      <th>4</th>\n",
       "      <td>0.000</td>\n",
       "      <td>0.497</td>\n",
       "      <td>0.503</td>\n",
       "      <td>0.9692</td>\n",
       "      <td>5</td>\n",
       "      <td>Great tea, very satisfying Nice mellow tea for...</td>\n",
       "    </tr>\n",
       "  </tbody>\n",
       "</table>\n",
       "</div>"
      ],
      "text/plain": [
       "     neg    neu    pos  compound  Score  \\\n",
       "0  0.070  0.800  0.130    0.8422      1   \n",
       "1  0.082  0.727  0.192    0.7655      3   \n",
       "2  0.025  0.807  0.168    0.9238      5   \n",
       "3  0.092  0.693  0.214    0.9061      5   \n",
       "4  0.000  0.497  0.503    0.9692      5   \n",
       "\n",
       "                                         review_text  \n",
       "0  Sprayed orange grease all over the inside of t...  \n",
       "1  Had higher expectations It is a naturally swee...  \n",
       "2  Everything is as it should be I ordered these ...  \n",
       "3  So Happy I found this; Product is Fabulous I d...  \n",
       "4  Great tea, very satisfying Nice mellow tea for...  "
      ]
     },
     "execution_count": 38,
     "metadata": {},
     "output_type": "execute_result"
    }
   ],
   "source": [
    "vaders = pd.DataFrame(res).T\n",
    "vaders = vaders.merge(df, how = 'left', right_index=True, left_index=True)\n",
    "vaders.head()"
   ]
  },
  {
   "cell_type": "markdown",
   "id": "b91ab6bf-5cbf-4942-8717-ec1830c33cf5",
   "metadata": {},
   "source": [
    "**How to measure effectiveness?**\n",
    "\n",
    "One way to see if our model is working as expected or not, is to check an assumption.\n",
    "\n",
    "We can assume that what our model classifies as more positive has higher star review \\\n",
    "and the reviews predicted to be more negetive have a lower star review associated with them.\n",
    "\n",
    "If this is true then, we can rely on text sentiment analysis to tell us how our users feel about products overall."
   ]
  },
  {
   "cell_type": "code",
   "execution_count": 40,
   "id": "735a8398-d747-471f-b120-cd8b5f1138e5",
   "metadata": {},
   "outputs": [
    {
     "data": {
      "image/png": "[encoded data removed]",
      "text/plain": [
       "<Figure size 640x480 with 1 Axes>"
      ]
     },
     "metadata": {},
     "output_type": "display_data"
    }
   ],
   "source": [
    "# Plot Vaders results\n",
    "sns.barplot(data=vaders, x='Score', y='compound')\n",
    "plt.title('Compound Score with respect to Amazon star reviews')\n",
    "plt.show()"
   ]
  },
  {
   "cell_type": "markdown",
   "id": "9f723046-dc94-4731-b97a-3300aaf8e52f",
   "metadata": {},
   "source": [
    "**Observation:** \n",
    "We can see that the assumptions seems to be right as higher star reviews have a high compound score associated with them."
   ]
  },
  {
   "cell_type": "markdown",
   "id": "dc5b81c6-f587-40e2-a73d-21604318fe7d",
   "metadata": {},
   "source": [
    "**Taking a look at each component of sentiment analysis (pos, neu and neg) with respect to star reviews**"
   ]
  },
  {
   "cell_type": "code",
   "execution_count": 46,
   "id": "8287987a-24f2-49e2-b9d5-ee0a2636ced9",
   "metadata": {},
   "outputs": [
    {
     "data": {
      "image/png": "[encoded data removed]",
      "text/plain": [
       "<Figure size 3000x1000 with 3 Axes>"
      ]
     },
     "metadata": {},
     "output_type": "display_data"
    }
   ],
   "source": [
    "fig, axs = plt.subplots(1, 3, figsize=(30, 10))\n",
    "sns.barplot(data=vaders, x='Score', y='pos', ax=axs[0])\n",
    "sns.barplot(data=vaders, x='Score', y='neu', ax=axs[1])\n",
    "sns.barplot(data=vaders, x='Score', y='neg', ax=axs[2])\n",
    "axs[0].set_title(\"Positive\")\n",
    "axs[1].set_title(\"Neutral\")\n",
    "axs[2].set_title(\"Negative\")\n",
    "plt.show()"
   ]
  },
  {
   "cell_type": "markdown",
   "id": "252fd628-3616-4f54-8ba0-c3993ed06b56",
   "metadata": {},
   "source": [
    "**Observations:**\n",
    "- postivity score is higher as star reviews are higher star reviews\n",
    "- neural scores do not vary much accross different star reviews\n",
    "- negativity score decreases with higher star reviews\n",
    "\n",
    "**So we can conclude that our sentiment analysis score does relate to the star reviews given by the users**"
   ]
  },
  {
   "cell_type": "markdown",
   "id": "cfad6f6b-5755-4e44-8823-bb6f644de5e5",
   "metadata": {},
   "source": [
    "**Limitations**\n",
    "\n",
    "This way of analyzing text with vader does not consider the relationship between the words and the context in which they are used, so we can improve upon that using the state of the art Transformer based BERT models which can understand and learn context and make better prediction of overall sentiment."
   ]
  },
  {
   "cell_type": "markdown",
   "id": "735434d5-1fd7-4ffb-8b31-a48ccd6b2169",
   "metadata": {
    "tags": []
   },
   "source": [
    "## RoBERTa Pretrained Model"
   ]
  },
  {
   "cell_type": "markdown",
   "id": "804c9cff-362d-4d91-b072-e26f3dff3331",
   "metadata": {},
   "source": [
    "- Use a model trained on large corpus of data (with hundred Millions+ examples) \n",
    "- Transformer model accounts for the words bit also their context related to other words.\n",
    "    - like for sentences which have negative words in it but it actually is just sarcastic.\n",
    "    - or ironic sentences with positive words but overall negative sentiment."
   ]
  },
  {
   "cell_type": "code",
   "execution_count": 54,
   "id": "88b36104-f8a4-4ed8-81bf-e6088066d28b",
   "metadata": {},
   "outputs": [
    {
     "name": "stdout",
     "output_type": "stream",
     "text": [
      "Note: you may need to restart the kernel to use updated packages.Collecting transformers\n",
      "  Using cached transformers-4.30.1-py3-none-any.whl (7.2 MB)\n",
      "Requirement already satisfied: filelock in c:\\users\\acer\\appdata\\local\\programs\\python\\python311\\lib\\site-packages (from transformers) (3.9.0)\n",
      "Collecting huggingface-hub<1.0,>=0.14.1\n",
      "  Using cached huggingface_hub-0.15.1-py3-none-any.whl (236 kB)\n",
      "Requirement already satisfied: numpy>=1.17 in c:\\users\\acer\\appdata\\local\\programs\\python\\python311\\lib\\site-packages (from transformers) (1.24.2)\n",
      "Requirement already satisfied: packaging>=20.0 in c:\\users\\acer\\appdata\\local\\programs\\python\\python311\\lib\\site-packages (from transformers) (22.0)\n",
      "Requirement already satisfied: pyyaml>=5.1 in c:\\users\\acer\\appdata\\local\\programs\\python\\python311\\lib\\site-packages (from transformers) (6.0)\n",
      "Requirement already satisfied: regex!=2019.12.17 in c:\\users\\acer\\appdata\\local\\programs\\python\\python311\\lib\\site-packages (from transformers) (2022.10.31)\n",
      "Requirement already satisfied: requests in c:\\users\\acer\\appdata\\local\\programs\\python\\python311\\lib\\site-packages (from transformers) (2.28.1)\n",
      "Collecting tokenizers!=0.11.3,<0.14,>=0.11.1\n",
      "  Using cached tokenizers-0.13.3-cp311-cp311-win_amd64.whl (3.5 MB)\n",
      "Collecting safetensors>=0.3.1\n",
      "  Using cached safetensors-0.3.1-cp311-cp311-win_amd64.whl (263 kB)\n",
      "Requirement already satisfied: tqdm>=4.27 in c:\\users\\acer\\appdata\\local\\programs\\python\\python311\\lib\\site-packages (from transformers) (4.64.1)\n",
      "Collecting fsspec\n",
      "  Using cached fsspec-2023.6.0-py3-none-any.whl (163 kB)\n",
      "Collecting typing-extensions>=3.7.4.3\n",
      "  Using cached typing_extensions-4.6.3-py3-none-any.whl (31 kB)\n",
      "Requirement already satisfied: colorama in c:\\users\\acer\\appdata\\local\\programs\\python\\python311\\lib\\site-packages (from tqdm>=4.27->transformers) (0.4.6)\n",
      "Requirement already satisfied: charset-normalizer<3,>=2 in c:\\users\\acer\\appdata\\local\\programs\\python\\python311\\lib\\site-packages (from requests->transformers) (2.1.1)\n",
      "Requirement already satisfied: idna<4,>=2.5 in c:\\users\\acer\\appdata\\local\\programs\\python\\python311\\lib\\site-packages (from requests->transformers) (3.4)\n",
      "Requirement already satisfied: urllib3<1.27,>=1.21.1 in c:\\users\\acer\\appdata\\local\\programs\\python\\python311\\lib\\site-packages (from requests->transformers) (1.26.13)\n",
      "Requirement already satisfied: certifi>=2017.4.17 in c:\\users\\acer\\appdata\\local\\programs\\python\\python311\\lib\\site-packages (from requests->transformers) (2022.12.7)\n",
      "Installing collected packages: tokenizers, safetensors, typing-extensions, fsspec, huggingface-hub, transformers\n",
      "Successfully installed fsspec-2023.6.0 huggingface-hub-0.15.1 safetensors-0.3.1 tokenizers-0.13.3 transformers-4.30.1 typing-extensions-4.6.3\n",
      "\n"
     ]
    },
    {
     "name": "stderr",
     "output_type": "stream",
     "text": [
      "\n",
      "[notice] A new release of pip is available: 23.0.1 -> 23.1.2\n",
      "[notice] To update, run: C:\\Users\\Acer\\AppData\\Local\\Programs\\Python\\Python311\\python.exe -m pip install --upgrade pip\n"
     ]
    }
   ],
   "source": [
    "%pip install transformers"
   ]
  },
  {
   "cell_type": "code",
   "execution_count": 55,
   "id": "c5fce2c7-baf3-4518-8066-65ac51334e6d",
   "metadata": {},
   "outputs": [
    {
     "name": "stderr",
     "output_type": "stream",
     "text": [
      "C:\\Users\\Acer\\AppData\\Local\\Programs\\Python\\Python311\\Lib\\site-packages\\tqdm\\auto.py:22: TqdmWarning: IProgress not found. Please update jupyter and ipywidgets. See https://ipywidgets.readthedocs.io/en/stable/user_install.html\n",
      "  from .autonotebook import tqdm as notebook_tqdm\n",
      "None of PyTorch, TensorFlow >= 2.0, or Flax have been found. Models won't be available and only tokenizers, configuration and file/data utilities can be used.\n"
     ]
    }
   ],
   "source": [
    "from transformers import AutoTokenizer, AutoModelForSequenceClassification\n",
    "from scipy.special import softmax"
   ]
  },
  {
   "cell_type": "code",
   "execution_count": 56,
   "id": "e55a1afb-b5e3-48c6-8754-36ad71fd0fea",
   "metadata": {},
   "outputs": [
    {
     "name": "stdout",
     "output_type": "stream",
     "text": [
      "Package            Version\n",
      "------------------ --------\n",
      "asttokens          2.2.1\n",
      "backcall           0.2.0\n",
      "certifi            2023.5.7\n",
      "charset-normalizer 3.1.0\n",
      "colorama           0.4.6\n",
      "comm               0.1.3\n",
      "debugpy            1.6.7\n",
      "decorator          5.1.1\n",
      "executing          1.2.0\n",
      "filelock           3.12.1\n",
      "fsspec             2023.6.0\n",
      "huggingface-hub    0.15.1\n",
      "idna               3.4\n",
      "ipykernel          6.23.1\n",
      "ipython            8.14.0\n",
      "ipywidgets         8.0.6\n",
      "jedi               0.18.2\n",
      "jupyter_client     8.2.0\n",
      "jupyter_core       5.3.0\n",
      "jupyterlab-widgets 3.0.7\n",
      "matplotlib-inline  0.1.6\n",
      "nest-asyncio       1.5.6\n",
      "numpy              1.24.3\n",
      "packaging          23.1\n",
      "parso              0.8.3\n",
      "pickleshare        0.7.5\n",
      "pip                22.3.1\n",
      "platformdirs       3.5.3\n",
      "prompt-toolkit     3.0.38\n",
      "psutil             5.9.5\n",
      "pure-eval          0.2.2\n",
      "Pygments           2.15.1\n",
      "python-dateutil    2.8.2\n",
      "pywin32            306\n",
      "PyYAML             6.0\n",
      "pyzmq              25.1.0\n",
      "regex              2023.6.3\n",
      "requests           2.31.0\n",
      "safetensors        0.3.1\n",
      "setuptools         65.5.0\n",
      "six                1.16.0\n",
      "stack-data         0.6.2\n",
      "tokenizers         0.13.3\n",
      "tornado            6.3.2\n",
      "tqdm               4.65.0\n",
      "traitlets          5.9.0\n",
      "transformers       4.30.1\n",
      "typing_extensions  4.6.3\n",
      "urllib3            2.0.3\n",
      "wcwidth            0.2.6\n",
      "widgetsnbextension 4.0.7\n"
     ]
    },
    {
     "name": "stderr",
     "output_type": "stream",
     "text": [
      "\n",
      "[notice] A new release of pip available: 22.3.1 -> 23.1.2\n",
      "[notice] To update, run: python.exe -m pip install --upgrade pip\n"
     ]
    }
   ],
   "source": [
    "!pip list"
   ]
  },
  {
   "cell_type": "code",
   "execution_count": null,
   "id": "1a543c41-4ad7-4a2b-8526-f1bf728e5a42",
   "metadata": {},
   "outputs": [],
   "source": [
    "Model_name = f\"cardiffnlp/twitter-roberta-base\""
   ]
  }
 ],
 "metadata": {
  "kernelspec": {
   "display_name": "Python 3 (ipykernel)",
   "language": "python",
   "name": "python3"
  },
  "language_info": {
   "codemirror_mode": {
    "name": "ipython",
    "version": 3
   },
   "file_extension": ".py",
   "mimetype": "text/x-python",
   "name": "python",
   "nbconvert_exporter": "python",
   "pygments_lexer": "ipython3",
   "version": "3.11.1"
  }
 },
 "nbformat": 4,
 "nbformat_minor": 5
}
