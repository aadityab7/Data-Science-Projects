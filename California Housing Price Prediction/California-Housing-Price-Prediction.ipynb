{
  "nbformat": 4,
  "nbformat_minor": 0,
  "metadata": {
    "colab": {
      "provenance": [],
      "collapsed_sections": [
        "0bnYtVMl5Lri",
        "nlL0k3pO4XM9",
        "hJb_1cMg5eCo",
        "kzexflx_6QUw",
        "7cnoPXyS61jG",
        "bGtCEhK3FIZ1",
        "m2U76ywm_cdR",
        "Dq6Y5BRwAsEN",
        "1pjIo1PMD9tn",
        "gnD75sLQODpj",
        "41bF5kcXaV4f",
        "UIm3ODYOOctT",
        "TYop3UfkOsRJ",
        "o2OUtlyfQrEf",
        "GfZChjImRzN_",
        "isK6y1neKY3T",
        "Xb2T_cA_lMhx",
        "8jYmCG4rlIs4",
        "GRT14Mg9gbm-",
        "4MR44bGfsEwA",
        "YFj84JT7Vzo6",
        "NOeV2gc-jYHx",
        "eHf-Wu_YjEM8",
        "o_h7EaSlnn8v",
        "S5g6cIZ6f6tV",
        "4m6yE7RBRMiP",
        "XH718tOBRf4O",
        "scuAmJZ9ZnIA",
        "V5cG825oXASP",
        "Bwvw0eOaikKE",
        "zmLlCtD3lRRx",
        "o29bb8VRqCe4",
        "5lkrCICqrhIG",
        "IKde2tR0xib9",
        "2U5mfGNS2LuE",
        "DQ-R-NOz9cTv",
        "2jk5ind1JZlq",
        "9n67YekN7ZHE"
      ]
    },
    "kernelspec": {
      "name": "python3",
      "display_name": "Python 3"
    },
    "language_info": {
      "name": "python"
    }
  },
  "cells": [
    {
      "cell_type": "markdown",
      "source": [
        "## ***Housing Price Prediction***"
      ],
      "metadata": {
        "id": "iq6694VTuvkW"
      }
    },
    {
      "cell_type": "markdown",
      "source": [
        "### **Overview**"
      ],
      "metadata": {
        "id": "0bnYtVMl5Lri"
      }
    },
    {
      "cell_type": "markdown",
      "source": [
        "This Project Notebook covers all the necessary steps to complete the Machine Learning Task of Predicting the Housing Prices on California Housing Dataset available on scikit-learn.\n",
        "\n",
        "---\n",
        "\n",
        "We will perform the following steps for successfully creating a model for house price prediction:\n",
        "\n",
        "\n",
        "---\n",
        "\n",
        "[**1. Data Extraction**](#scrollTo=nlL0k3pO4XM9&line=1&uniqifier=1)\n",
        "\n",
        "\n",
        "* [Import libraries](#scrollTo=hJb_1cMg5eCo&line=1&uniqifier=1ps://)\n",
        "* [Import Dataset from scikit-learn](#scrollTo=kzexflx_6QUw&line=2&uniqifier=1)\n",
        "* [Understanding the given Description of Data and the problem Statement](#scrollTo=7cnoPXyS61jG&line=2&uniqifier=1)\n",
        "* [Take a look at different Inputs and details available with dataset](#scrollTo=nNt1_Vt1_RnY&line=2&uniqifier=1)\n",
        "* [Storing the obtained dataset into a Pandas Dataframe](#scrollTo=bGtCEhK3FIZ1&line=3&uniqifier=1)\n",
        "\n",
        "\n",
        "---\n",
        "\n",
        "\n",
        "[**2. EDA (Exploratory Data Analysis) and Visualization**](#scrollTo=m2U76ywm_cdR)\n",
        "\n",
        "* [Getting a closer Look at obtained Data](#scrollTo=Dq6Y5BRwAsEN)\n",
        "* [Exploring different Statistics of the Data (Summary and Distributions)](#scrollTo=1pjIo1PMD9tn)\n",
        "* [Looking at Correlations (between indiviual features and between Input features and Target)](#scrollTo=gnD75sLQODpj)\n",
        "* [Geospacial Data / Coordinates - Longitude and Lattitude features](#scrollTo=41bF5kcXaV4f)\n",
        "\n",
        "---\n",
        "\n",
        "[**3. Preprocessing**](#scrollTo=UIm3ODYOOctT)\n",
        "* [Dealing with Duplicate and Null (NaN) values](#scrollTo=TYop3UfkOsRJ&uniqifier=1)\n",
        "* [Dealing with Categorical features (e.g. Dummy coding)](#scrollTo=o2OUtlyfQrEf&uniqifier=1)\n",
        "* [Dealing with Outlier values](#scrollTo=GfZChjImRzN_&uniqifier=1)\n",
        "    * [Visualization (Box-Plots)](#scrollTo=isK6y1neKY3T&uniqifier=1)\n",
        "    * [Using IQR](#scrollTo=Xb2T_cA_lMhx&uniqifier=1)\n",
        "    * [Using Z-Score](#scrollTo=8jYmCG4rlIs4&uniqifier=1)\n",
        "* [Seperating Target and Input Features](#scrollTo=GRT14Mg9gbm-)\n",
        "* [Target feature Normalization (Plots and Tests)](#scrollTo=4MR44bGfsEwA&uniqifier=1)\n",
        "* [Splitting Dataset into train and test sets](#scrollTo=NOeV2gc-jYHx)\n",
        "* [Feature Scaling (Feature Transformation)](#scrollTo=eHf-Wu_YjEM8)\n",
        "\n",
        "\n",
        "---\n",
        "\n",
        "\n",
        "[**4. Modeling**](#scrollTo=o_h7EaSlnn8v)\n",
        "\n",
        "* [Specifying Evaluation Metric R squared (using Cross-Validation)](#scrollTo=S5g6cIZ6f6tV)\n",
        "* [Model Training - trying multiple models and hyperparameters:](#scrollTo=4m6yE7RBRMiP)\n",
        "    * [Linear Regression](#scrollTo=XH718tOBRf4O)\n",
        "    * [Polynomial Regression](#scrollTo=scuAmJZ9ZnIA)\n",
        "    * [Ridge Regression](#scrollTo=V5cG825oXASP)\n",
        "    * [Decision Trees Regressor](#scrollTo=Bwvw0eOaikKE)\n",
        "    * [Random Forests Regressor](#scrollTo=zmLlCtD3lRRx)\n",
        "    * [Gradient Boosted Regressor](#scrollTo=o29bb8VRqCe4)\n",
        "    * [eXtreme Gradient Boosting (XGBoost) Regressor](#scrollTo=5lkrCICqrhIG)\n",
        "    * [Support Vector Regressor](#scrollTo=4yZoPwG0u0Wm)\n",
        "* [Model Selection (by comparing evaluation metrics)](#scrollTo=IKde2tR0xib9)\n",
        "* [Learn Feature Importance and Relations]()\n",
        "* [Prediction](#scrollTo=DQ-R-NOz9cTv)\n",
        "\n",
        "---\n",
        "\n",
        "[**5. Deployment**](#scrollTo=2jk5ind1JZlq)\n",
        "\n",
        "* [Exporting the trained model to be used for later predictions. (by storing model object as byte file - Pickling)](#scrollTo=9n67YekN7ZHE)"
      ],
      "metadata": {
        "id": "Gfl0tAoy266f"
      }
    },
    {
      "cell_type": "markdown",
      "source": [
        "---\n",
        "### **1. Data Extraction**"
      ],
      "metadata": {
        "id": "nlL0k3pO4XM9"
      }
    },
    {
      "cell_type": "markdown",
      "source": [
        "##### **Importing all Libraries needed for extracting and representing (visualizing) data** "
      ],
      "metadata": {
        "id": "hJb_1cMg5eCo"
      }
    },
    {
      "cell_type": "code",
      "execution_count": 49,
      "metadata": {
        "id": "ecqG6r7ZuPqF"
      },
      "outputs": [],
      "source": [
        "#IMPORTING LIBRARIES\n",
        "\n",
        "import pandas as pd\n",
        "import numpy as np\n",
        "import seaborn as sns\n",
        "import matplotlib.pyplot as plt\n",
        "%matplotlib inline\n",
        "\n",
        "#PICKLE TO STORE THE FITTED (TRAINED) OBJECTS AS BYTE FILES TO BE USED LATER \n",
        "\n",
        "import pickle"
      ]
    },
    {
      "cell_type": "markdown",
      "source": [
        "---\n",
        "\n",
        "##### **Importing / Loading the California Housing Price Data from scikit-learn (sklearn)**"
      ],
      "metadata": {
        "id": "kzexflx_6QUw"
      }
    },
    {
      "cell_type": "markdown",
      "source": [
        "using the parameter as_frame = True, returns the data in the form of Pandas Dataframe"
      ],
      "metadata": {
        "id": "URRgX7wELPtx"
      }
    },
    {
      "cell_type": "code",
      "source": [
        "#IMPORTING DATA\n",
        "\n",
        "from sklearn.datasets import fetch_california_housing  \n",
        "cal_housing_dataset = fetch_california_housing(as_frame = True)"
      ],
      "metadata": {
        "id": "a61_FlBP6ftV"
      },
      "execution_count": 50,
      "outputs": []
    },
    {
      "cell_type": "markdown",
      "source": [
        "---\n",
        "\n",
        "##### **Understanding the given Description of Data and the problem Statement.**\n"
      ],
      "metadata": {
        "id": "7cnoPXyS61jG"
      }
    },
    {
      "cell_type": "markdown",
      "source": [
        "Using sklearn to import a dataset we obtain a Bunch object which is similar to a dictonary which contains information about the dataset and the actual data that we can use\n",
        "\n",
        "> we can access the available keys in the Bunch Object using keys() function\n"
      ],
      "metadata": {
        "id": "VCHqxEoJLU-o"
      }
    },
    {
      "cell_type": "code",
      "source": [
        "#LIST OF KEYS AVAILABLE WITH DATASET BUNCH OBJECT\n",
        "\n",
        "cal_housing_dataset.keys()"
      ],
      "metadata": {
        "colab": {
          "base_uri": "https://localhost:8080/"
        },
        "id": "lGGQ5hoO7dge",
        "outputId": "58180dcd-3684-47c4-a91f-91493e7bdb6d"
      },
      "execution_count": 51,
      "outputs": [
        {
          "output_type": "execute_result",
          "data": {
            "text/plain": [
              "dict_keys(['data', 'target', 'frame', 'target_names', 'feature_names', 'DESCR'])"
            ]
          },
          "metadata": {},
          "execution_count": 51
        }
      ]
    },
    {
      "cell_type": "markdown",
      "source": [
        "We have the following keys available in the Bunch (data) obtained from sklearn \n",
        "\n",
        "*   data - It contains data rows, each row corresponding to the 8 input feature values.\n",
        "*   target - It contains target data rows, each value corresponds to the average house value in units of 100,000 US Dollars.\n",
        "*   frame - Only present when as_frame = True. Pandas DataFrame with data and target.\n",
        "*   target_names - Name of the target feature.\n",
        "*   feature_names - Array of ordered feature names used in the dataset.\n",
        "*   DESCR - Description of the California housing dataset. This is important to understand the meaning of features that will be used to predict the housing Prices.\n",
        "\n"
      ],
      "metadata": {
        "id": "AGWtpgpw8LSE"
      }
    },
    {
      "cell_type": "markdown",
      "source": [
        "---\n",
        "\n",
        "##### **Take a look at different Inputs and details available with dataset**"
      ],
      "metadata": {
        "id": "nNt1_Vt1_RnY"
      }
    },
    {
      "cell_type": "markdown",
      "source": [
        "We can take a look at the information avaliable in the DESCR key to get a understanding of the data such as what is shape of our dataset and learn what are different features available that we can use for predicting house prices."
      ],
      "metadata": {
        "id": "7DQaO1aYLYpP"
      }
    },
    {
      "cell_type": "code",
      "source": [
        "#DESCRIPTION OF DATASET\n",
        "\n",
        "print(cal_housing_dataset.DESCR)"
      ],
      "metadata": {
        "colab": {
          "base_uri": "https://localhost:8080/"
        },
        "id": "l1mK8PMv_p1N",
        "outputId": "07e287fd-1368-4a1c-f3f7-e9a88b814bad"
      },
      "execution_count": 52,
      "outputs": [
        {
          "output_type": "stream",
          "name": "stdout",
          "text": [
            ".. _california_housing_dataset:\n",
            "\n",
            "California Housing dataset\n",
            "--------------------------\n",
            "\n",
            "**Data Set Characteristics:**\n",
            "\n",
            "    :Number of Instances: 20640\n",
            "\n",
            "    :Number of Attributes: 8 numeric, predictive attributes and the target\n",
            "\n",
            "    :Attribute Information:\n",
            "        - MedInc        median income in block group\n",
            "        - HouseAge      median house age in block group\n",
            "        - AveRooms      average number of rooms per household\n",
            "        - AveBedrms     average number of bedrooms per household\n",
            "        - Population    block group population\n",
            "        - AveOccup      average number of household members\n",
            "        - Latitude      block group latitude\n",
            "        - Longitude     block group longitude\n",
            "\n",
            "    :Missing Attribute Values: None\n",
            "\n",
            "This dataset was obtained from the StatLib repository.\n",
            "https://www.dcc.fc.up.pt/~ltorgo/Regression/cal_housing.html\n",
            "\n",
            "The target variable is the median house value for California districts,\n",
            "expressed in hundreds of thousands of dollars ($100,000).\n",
            "\n",
            "This dataset was derived from the 1990 U.S. census, using one row per census\n",
            "block group. A block group is the smallest geographical unit for which the U.S.\n",
            "Census Bureau publishes sample data (a block group typically has a population\n",
            "of 600 to 3,000 people).\n",
            "\n",
            "An household is a group of people residing within a home. Since the average\n",
            "number of rooms and bedrooms in this dataset are provided per household, these\n",
            "columns may take surpinsingly large values for block groups with few households\n",
            "and many empty houses, such as vacation resorts.\n",
            "\n",
            "It can be downloaded/loaded using the\n",
            ":func:`sklearn.datasets.fetch_california_housing` function.\n",
            "\n",
            ".. topic:: References\n",
            "\n",
            "    - Pace, R. Kelley and Ronald Barry, Sparse Spatial Autoregressions,\n",
            "      Statistics and Probability Letters, 33 (1997) 291-297\n",
            "\n"
          ]
        }
      ]
    },
    {
      "cell_type": "markdown",
      "source": [
        "Using the dataset description above we can see that we have 20640 housing data points (records) and each of the housing record contains information about the houses of the block in the form of 8 input features: \n",
        "\n",
        "* MedInc,  HouseAge, AveRooms, AveBedrms, Population, AveOccup, Latitude and Longitude\n",
        "\n",
        "This information about the block in which house is located can be used to create a model that can predict what should be the price of a new house with different set of characteristics. "
      ],
      "metadata": {
        "id": "AsDEcK1iAh7u"
      }
    },
    {
      "cell_type": "markdown",
      "source": [
        "We can also seperatly get a list of all the input features and the target feature available."
      ],
      "metadata": {
        "id": "FsmL2vwqCMEm"
      }
    },
    {
      "cell_type": "code",
      "source": [
        "#PREDICTIVE (INPUT) FEATURES AVAILABLE \n",
        "\n",
        "print(cal_housing_dataset.feature_names)"
      ],
      "metadata": {
        "colab": {
          "base_uri": "https://localhost:8080/"
        },
        "id": "CZriyVP0AZeG",
        "outputId": "4dc91541-504d-4d9c-c6e4-2e366942d20d"
      },
      "execution_count": 53,
      "outputs": [
        {
          "output_type": "stream",
          "name": "stdout",
          "text": [
            "['MedInc', 'HouseAge', 'AveRooms', 'AveBedrms', 'Population', 'AveOccup', 'Latitude', 'Longitude']\n"
          ]
        }
      ]
    },
    {
      "cell_type": "code",
      "source": [
        "#TARGET (OUTPUT) FEATURE\n",
        "\n",
        "print(cal_housing_dataset.target_names)"
      ],
      "metadata": {
        "colab": {
          "base_uri": "https://localhost:8080/"
        },
        "id": "ddh4Q-8SChFO",
        "outputId": "a0a233d9-086d-41d7-b9c1-9df1ca9e8d22"
      },
      "execution_count": 54,
      "outputs": [
        {
          "output_type": "stream",
          "name": "stdout",
          "text": [
            "['MedHouseVal']\n"
          ]
        }
      ]
    },
    {
      "cell_type": "markdown",
      "source": [
        "the data key of the 'Bunch' object contains the input feature data values for the housing records."
      ],
      "metadata": {
        "id": "3eIcvcshDarn"
      }
    },
    {
      "cell_type": "code",
      "source": [
        "#DATA AVAILABLE CORRESPONDING TO INPUT FEATURES FOR EACH HOUSING RECORD\n",
        "\n",
        "print(cal_housing_dataset.data)"
      ],
      "metadata": {
        "colab": {
          "base_uri": "https://localhost:8080/"
        },
        "id": "AHXohxXRDYZt",
        "outputId": "3fe0708d-9369-4928-a061-ab39b08dfdc9"
      },
      "execution_count": 55,
      "outputs": [
        {
          "output_type": "stream",
          "name": "stdout",
          "text": [
            "       MedInc  HouseAge  AveRooms  AveBedrms  Population  AveOccup  Latitude  \\\n",
            "0      8.3252      41.0  6.984127   1.023810       322.0  2.555556     37.88   \n",
            "1      8.3014      21.0  6.238137   0.971880      2401.0  2.109842     37.86   \n",
            "2      7.2574      52.0  8.288136   1.073446       496.0  2.802260     37.85   \n",
            "3      5.6431      52.0  5.817352   1.073059       558.0  2.547945     37.85   \n",
            "4      3.8462      52.0  6.281853   1.081081       565.0  2.181467     37.85   \n",
            "...       ...       ...       ...        ...         ...       ...       ...   \n",
            "20635  1.5603      25.0  5.045455   1.133333       845.0  2.560606     39.48   \n",
            "20636  2.5568      18.0  6.114035   1.315789       356.0  3.122807     39.49   \n",
            "20637  1.7000      17.0  5.205543   1.120092      1007.0  2.325635     39.43   \n",
            "20638  1.8672      18.0  5.329513   1.171920       741.0  2.123209     39.43   \n",
            "20639  2.3886      16.0  5.254717   1.162264      1387.0  2.616981     39.37   \n",
            "\n",
            "       Longitude  \n",
            "0        -122.23  \n",
            "1        -122.22  \n",
            "2        -122.24  \n",
            "3        -122.25  \n",
            "4        -122.25  \n",
            "...          ...  \n",
            "20635    -121.09  \n",
            "20636    -121.21  \n",
            "20637    -121.22  \n",
            "20638    -121.32  \n",
            "20639    -121.24  \n",
            "\n",
            "[20640 rows x 8 columns]\n"
          ]
        }
      ]
    },
    {
      "cell_type": "markdown",
      "source": [
        "We also have the coorsponding housing price for each of the records."
      ],
      "metadata": {
        "id": "45ZC77O7EPPy"
      }
    },
    {
      "cell_type": "code",
      "source": [
        "#RESULTING TARGET / OUTPUT FEATURE VALUES AVAILABLE\n",
        "\n",
        "print(cal_housing_dataset.target)"
      ],
      "metadata": {
        "colab": {
          "base_uri": "https://localhost:8080/"
        },
        "id": "ubzOLTUdD9e-",
        "outputId": "bc624b09-0536-472c-f69e-87df8a7ec8ff"
      },
      "execution_count": 56,
      "outputs": [
        {
          "output_type": "stream",
          "name": "stdout",
          "text": [
            "0        4.526\n",
            "1        3.585\n",
            "2        3.521\n",
            "3        3.413\n",
            "4        3.422\n",
            "         ...  \n",
            "20635    0.781\n",
            "20636    0.771\n",
            "20637    0.923\n",
            "20638    0.847\n",
            "20639    0.894\n",
            "Name: MedHouseVal, Length: 20640, dtype: float64\n"
          ]
        }
      ]
    },
    {
      "cell_type": "markdown",
      "source": [
        "We can see the complete dataset (input features and targets) using the frame key of our dataset object which stores the complete housing dataset (all records and features) as a Pandas DataFrame because we imported our data using the parameter as_frame = True."
      ],
      "metadata": {
        "id": "opn4xNN_EhIE"
      }
    },
    {
      "cell_type": "code",
      "source": [
        "#THE COMPLETE DATASET AVAILABLE FOR USE \n",
        "\n",
        "cal_housing_dataset.frame"
      ],
      "metadata": {
        "colab": {
          "base_uri": "https://localhost:8080/",
          "height": 423
        },
        "id": "a6T08AQNENN7",
        "outputId": "30ba3939-91c6-4182-a4e5-ddabfa712ea0"
      },
      "execution_count": 57,
      "outputs": [
        {
          "output_type": "execute_result",
          "data": {
            "text/plain": [
              "       MedInc  HouseAge  AveRooms  AveBedrms  Population  AveOccup  Latitude  \\\n",
              "0      8.3252      41.0  6.984127   1.023810       322.0  2.555556     37.88   \n",
              "1      8.3014      21.0  6.238137   0.971880      2401.0  2.109842     37.86   \n",
              "2      7.2574      52.0  8.288136   1.073446       496.0  2.802260     37.85   \n",
              "3      5.6431      52.0  5.817352   1.073059       558.0  2.547945     37.85   \n",
              "4      3.8462      52.0  6.281853   1.081081       565.0  2.181467     37.85   \n",
              "...       ...       ...       ...        ...         ...       ...       ...   \n",
              "20635  1.5603      25.0  5.045455   1.133333       845.0  2.560606     39.48   \n",
              "20636  2.5568      18.0  6.114035   1.315789       356.0  3.122807     39.49   \n",
              "20637  1.7000      17.0  5.205543   1.120092      1007.0  2.325635     39.43   \n",
              "20638  1.8672      18.0  5.329513   1.171920       741.0  2.123209     39.43   \n",
              "20639  2.3886      16.0  5.254717   1.162264      1387.0  2.616981     39.37   \n",
              "\n",
              "       Longitude  MedHouseVal  \n",
              "0        -122.23        4.526  \n",
              "1        -122.22        3.585  \n",
              "2        -122.24        3.521  \n",
              "3        -122.25        3.413  \n",
              "4        -122.25        3.422  \n",
              "...          ...          ...  \n",
              "20635    -121.09        0.781  \n",
              "20636    -121.21        0.771  \n",
              "20637    -121.22        0.923  \n",
              "20638    -121.32        0.847  \n",
              "20639    -121.24        0.894  \n",
              "\n",
              "[20640 rows x 9 columns]"
            ],
            "text/html": [
              "\n",
              "  <div id=\"df-d364bc75-16e2-4055-8ec8-4e96ddfa95ce\">\n",
              "    <div class=\"colab-df-container\">\n",
              "      <div>\n",
              "<style scoped>\n",
              "    .dataframe tbody tr th:only-of-type {\n",
              "        vertical-align: middle;\n",
              "    }\n",
              "\n",
              "    .dataframe tbody tr th {\n",
              "        vertical-align: top;\n",
              "    }\n",
              "\n",
              "    .dataframe thead th {\n",
              "        text-align: right;\n",
              "    }\n",
              "</style>\n",
              "<table border=\"1\" class=\"dataframe\">\n",
              "  <thead>\n",
              "    <tr style=\"text-align: right;\">\n",
              "      <th></th>\n",
              "      <th>MedInc</th>\n",
              "      <th>HouseAge</th>\n",
              "      <th>AveRooms</th>\n",
              "      <th>AveBedrms</th>\n",
              "      <th>Population</th>\n",
              "      <th>AveOccup</th>\n",
              "      <th>Latitude</th>\n",
              "      <th>Longitude</th>\n",
              "      <th>MedHouseVal</th>\n",
              "    </tr>\n",
              "  </thead>\n",
              "  <tbody>\n",
              "    <tr>\n",
              "      <th>0</th>\n",
              "      <td>8.3252</td>\n",
              "      <td>41.0</td>\n",
              "      <td>6.984127</td>\n",
              "      <td>1.023810</td>\n",
              "      <td>322.0</td>\n",
              "      <td>2.555556</td>\n",
              "      <td>37.88</td>\n",
              "      <td>-122.23</td>\n",
              "      <td>4.526</td>\n",
              "    </tr>\n",
              "    <tr>\n",
              "      <th>1</th>\n",
              "      <td>8.3014</td>\n",
              "      <td>21.0</td>\n",
              "      <td>6.238137</td>\n",
              "      <td>0.971880</td>\n",
              "      <td>2401.0</td>\n",
              "      <td>2.109842</td>\n",
              "      <td>37.86</td>\n",
              "      <td>-122.22</td>\n",
              "      <td>3.585</td>\n",
              "    </tr>\n",
              "    <tr>\n",
              "      <th>2</th>\n",
              "      <td>7.2574</td>\n",
              "      <td>52.0</td>\n",
              "      <td>8.288136</td>\n",
              "      <td>1.073446</td>\n",
              "      <td>496.0</td>\n",
              "      <td>2.802260</td>\n",
              "      <td>37.85</td>\n",
              "      <td>-122.24</td>\n",
              "      <td>3.521</td>\n",
              "    </tr>\n",
              "    <tr>\n",
              "      <th>3</th>\n",
              "      <td>5.6431</td>\n",
              "      <td>52.0</td>\n",
              "      <td>5.817352</td>\n",
              "      <td>1.073059</td>\n",
              "      <td>558.0</td>\n",
              "      <td>2.547945</td>\n",
              "      <td>37.85</td>\n",
              "      <td>-122.25</td>\n",
              "      <td>3.413</td>\n",
              "    </tr>\n",
              "    <tr>\n",
              "      <th>4</th>\n",
              "      <td>3.8462</td>\n",
              "      <td>52.0</td>\n",
              "      <td>6.281853</td>\n",
              "      <td>1.081081</td>\n",
              "      <td>565.0</td>\n",
              "      <td>2.181467</td>\n",
              "      <td>37.85</td>\n",
              "      <td>-122.25</td>\n",
              "      <td>3.422</td>\n",
              "    </tr>\n",
              "    <tr>\n",
              "      <th>...</th>\n",
              "      <td>...</td>\n",
              "      <td>...</td>\n",
              "      <td>...</td>\n",
              "      <td>...</td>\n",
              "      <td>...</td>\n",
              "      <td>...</td>\n",
              "      <td>...</td>\n",
              "      <td>...</td>\n",
              "      <td>...</td>\n",
              "    </tr>\n",
              "    <tr>\n",
              "      <th>20635</th>\n",
              "      <td>1.5603</td>\n",
              "      <td>25.0</td>\n",
              "      <td>5.045455</td>\n",
              "      <td>1.133333</td>\n",
              "      <td>845.0</td>\n",
              "      <td>2.560606</td>\n",
              "      <td>39.48</td>\n",
              "      <td>-121.09</td>\n",
              "      <td>0.781</td>\n",
              "    </tr>\n",
              "    <tr>\n",
              "      <th>20636</th>\n",
              "      <td>2.5568</td>\n",
              "      <td>18.0</td>\n",
              "      <td>6.114035</td>\n",
              "      <td>1.315789</td>\n",
              "      <td>356.0</td>\n",
              "      <td>3.122807</td>\n",
              "      <td>39.49</td>\n",
              "      <td>-121.21</td>\n",
              "      <td>0.771</td>\n",
              "    </tr>\n",
              "    <tr>\n",
              "      <th>20637</th>\n",
              "      <td>1.7000</td>\n",
              "      <td>17.0</td>\n",
              "      <td>5.205543</td>\n",
              "      <td>1.120092</td>\n",
              "      <td>1007.0</td>\n",
              "      <td>2.325635</td>\n",
              "      <td>39.43</td>\n",
              "      <td>-121.22</td>\n",
              "      <td>0.923</td>\n",
              "    </tr>\n",
              "    <tr>\n",
              "      <th>20638</th>\n",
              "      <td>1.8672</td>\n",
              "      <td>18.0</td>\n",
              "      <td>5.329513</td>\n",
              "      <td>1.171920</td>\n",
              "      <td>741.0</td>\n",
              "      <td>2.123209</td>\n",
              "      <td>39.43</td>\n",
              "      <td>-121.32</td>\n",
              "      <td>0.847</td>\n",
              "    </tr>\n",
              "    <tr>\n",
              "      <th>20639</th>\n",
              "      <td>2.3886</td>\n",
              "      <td>16.0</td>\n",
              "      <td>5.254717</td>\n",
              "      <td>1.162264</td>\n",
              "      <td>1387.0</td>\n",
              "      <td>2.616981</td>\n",
              "      <td>39.37</td>\n",
              "      <td>-121.24</td>\n",
              "      <td>0.894</td>\n",
              "    </tr>\n",
              "  </tbody>\n",
              "</table>\n",
              "<p>20640 rows × 9 columns</p>\n",
              "</div>\n",
              "      <button class=\"colab-df-convert\" onclick=\"convertToInteractive('df-d364bc75-16e2-4055-8ec8-4e96ddfa95ce')\"\n",
              "              title=\"Convert this dataframe to an interactive table.\"\n",
              "              style=\"display:none;\">\n",
              "        \n",
              "  <svg xmlns=\"http://www.w3.org/2000/svg\" height=\"24px\"viewBox=\"0 0 24 24\"\n",
              "       width=\"24px\">\n",
              "    <path d=\"M0 0h24v24H0V0z\" fill=\"none\"/>\n",
              "    <path d=\"M18.56 5.44l.94 2.06.94-2.06 2.06-.94-2.06-.94-.94-2.06-.94 2.06-2.06.94zm-11 1L8.5 8.5l.94-2.06 2.06-.94-2.06-.94L8.5 2.5l-.94 2.06-2.06.94zm10 10l.94 2.06.94-2.06 2.06-.94-2.06-.94-.94-2.06-.94 2.06-2.06.94z\"/><path d=\"M17.41 7.96l-1.37-1.37c-.4-.4-.92-.59-1.43-.59-.52 0-1.04.2-1.43.59L10.3 9.45l-7.72 7.72c-.78.78-.78 2.05 0 2.83L4 21.41c.39.39.9.59 1.41.59.51 0 1.02-.2 1.41-.59l7.78-7.78 2.81-2.81c.8-.78.8-2.07 0-2.86zM5.41 20L4 18.59l7.72-7.72 1.47 1.35L5.41 20z\"/>\n",
              "  </svg>\n",
              "      </button>\n",
              "      \n",
              "  <style>\n",
              "    .colab-df-container {\n",
              "      display:flex;\n",
              "      flex-wrap:wrap;\n",
              "      gap: 12px;\n",
              "    }\n",
              "\n",
              "    .colab-df-convert {\n",
              "      background-color: #E8F0FE;\n",
              "      border: none;\n",
              "      border-radius: 50%;\n",
              "      cursor: pointer;\n",
              "      display: none;\n",
              "      fill: #1967D2;\n",
              "      height: 32px;\n",
              "      padding: 0 0 0 0;\n",
              "      width: 32px;\n",
              "    }\n",
              "\n",
              "    .colab-df-convert:hover {\n",
              "      background-color: #E2EBFA;\n",
              "      box-shadow: 0px 1px 2px rgba(60, 64, 67, 0.3), 0px 1px 3px 1px rgba(60, 64, 67, 0.15);\n",
              "      fill: #174EA6;\n",
              "    }\n",
              "\n",
              "    [theme=dark] .colab-df-convert {\n",
              "      background-color: #3B4455;\n",
              "      fill: #D2E3FC;\n",
              "    }\n",
              "\n",
              "    [theme=dark] .colab-df-convert:hover {\n",
              "      background-color: #434B5C;\n",
              "      box-shadow: 0px 1px 3px 1px rgba(0, 0, 0, 0.15);\n",
              "      filter: drop-shadow(0px 1px 2px rgba(0, 0, 0, 0.3));\n",
              "      fill: #FFFFFF;\n",
              "    }\n",
              "  </style>\n",
              "\n",
              "      <script>\n",
              "        const buttonEl =\n",
              "          document.querySelector('#df-d364bc75-16e2-4055-8ec8-4e96ddfa95ce button.colab-df-convert');\n",
              "        buttonEl.style.display =\n",
              "          google.colab.kernel.accessAllowed ? 'block' : 'none';\n",
              "\n",
              "        async function convertToInteractive(key) {\n",
              "          const element = document.querySelector('#df-d364bc75-16e2-4055-8ec8-4e96ddfa95ce');\n",
              "          const dataTable =\n",
              "            await google.colab.kernel.invokeFunction('convertToInteractive',\n",
              "                                                     [key], {});\n",
              "          if (!dataTable) return;\n",
              "\n",
              "          const docLinkHtml = 'Like what you see? Visit the ' +\n",
              "            '<a target=\"_blank\" href=https://colab.research.google.com/notebooks/data_table.ipynb>data table notebook</a>'\n",
              "            + ' to learn more about interactive tables.';\n",
              "          element.innerHTML = '';\n",
              "          dataTable['output_type'] = 'display_data';\n",
              "          await google.colab.output.renderOutput(dataTable, element);\n",
              "          const docLink = document.createElement('div');\n",
              "          docLink.innerHTML = docLinkHtml;\n",
              "          element.appendChild(docLink);\n",
              "        }\n",
              "      </script>\n",
              "    </div>\n",
              "  </div>\n",
              "  "
            ]
          },
          "metadata": {},
          "execution_count": 57
        }
      ]
    },
    {
      "cell_type": "markdown",
      "source": [
        "---\n",
        "\n",
        "##### **We can store our cal_housing_dataset.frame in a seperate new pandas variable (as a DataFrame) for easy reference later on.**"
      ],
      "metadata": {
        "id": "bGtCEhK3FIZ1"
      }
    },
    {
      "cell_type": "code",
      "source": [
        "#STORING THE HOUSING DATA IN A SEPERATE PANDAS DATAFRAME VARIABLE\n",
        "\n",
        "dataset = cal_housing_dataset.frame"
      ],
      "metadata": {
        "id": "3f_7X0TBFCgG"
      },
      "execution_count": 58,
      "outputs": []
    },
    {
      "cell_type": "markdown",
      "source": [
        "We can view the top 5 rows of the dataset using .head() method of dataframe."
      ],
      "metadata": {
        "id": "wZIIIQrVF_Vv"
      }
    },
    {
      "cell_type": "code",
      "source": [
        "#VIEW TOP 5 ROWS OF DATASET\n",
        "\n",
        "dataset.head()"
      ],
      "metadata": {
        "colab": {
          "base_uri": "https://localhost:8080/",
          "height": 0
        },
        "id": "9xWSdBK6G33D",
        "outputId": "e580001e-6409-4e05-a244-3cd5a45af688"
      },
      "execution_count": 59,
      "outputs": [
        {
          "output_type": "execute_result",
          "data": {
            "text/plain": [
              "   MedInc  HouseAge  AveRooms  AveBedrms  Population  AveOccup  Latitude  \\\n",
              "0  8.3252      41.0  6.984127   1.023810       322.0  2.555556     37.88   \n",
              "1  8.3014      21.0  6.238137   0.971880      2401.0  2.109842     37.86   \n",
              "2  7.2574      52.0  8.288136   1.073446       496.0  2.802260     37.85   \n",
              "3  5.6431      52.0  5.817352   1.073059       558.0  2.547945     37.85   \n",
              "4  3.8462      52.0  6.281853   1.081081       565.0  2.181467     37.85   \n",
              "\n",
              "   Longitude  MedHouseVal  \n",
              "0    -122.23        4.526  \n",
              "1    -122.22        3.585  \n",
              "2    -122.24        3.521  \n",
              "3    -122.25        3.413  \n",
              "4    -122.25        3.422  "
            ],
            "text/html": [
              "\n",
              "  <div id=\"df-4264d13d-2423-435d-8f7e-8aad86d64152\">\n",
              "    <div class=\"colab-df-container\">\n",
              "      <div>\n",
              "<style scoped>\n",
              "    .dataframe tbody tr th:only-of-type {\n",
              "        vertical-align: middle;\n",
              "    }\n",
              "\n",
              "    .dataframe tbody tr th {\n",
              "        vertical-align: top;\n",
              "    }\n",
              "\n",
              "    .dataframe thead th {\n",
              "        text-align: right;\n",
              "    }\n",
              "</style>\n",
              "<table border=\"1\" class=\"dataframe\">\n",
              "  <thead>\n",
              "    <tr style=\"text-align: right;\">\n",
              "      <th></th>\n",
              "      <th>MedInc</th>\n",
              "      <th>HouseAge</th>\n",
              "      <th>AveRooms</th>\n",
              "      <th>AveBedrms</th>\n",
              "      <th>Population</th>\n",
              "      <th>AveOccup</th>\n",
              "      <th>Latitude</th>\n",
              "      <th>Longitude</th>\n",
              "      <th>MedHouseVal</th>\n",
              "    </tr>\n",
              "  </thead>\n",
              "  <tbody>\n",
              "    <tr>\n",
              "      <th>0</th>\n",
              "      <td>8.3252</td>\n",
              "      <td>41.0</td>\n",
              "      <td>6.984127</td>\n",
              "      <td>1.023810</td>\n",
              "      <td>322.0</td>\n",
              "      <td>2.555556</td>\n",
              "      <td>37.88</td>\n",
              "      <td>-122.23</td>\n",
              "      <td>4.526</td>\n",
              "    </tr>\n",
              "    <tr>\n",
              "      <th>1</th>\n",
              "      <td>8.3014</td>\n",
              "      <td>21.0</td>\n",
              "      <td>6.238137</td>\n",
              "      <td>0.971880</td>\n",
              "      <td>2401.0</td>\n",
              "      <td>2.109842</td>\n",
              "      <td>37.86</td>\n",
              "      <td>-122.22</td>\n",
              "      <td>3.585</td>\n",
              "    </tr>\n",
              "    <tr>\n",
              "      <th>2</th>\n",
              "      <td>7.2574</td>\n",
              "      <td>52.0</td>\n",
              "      <td>8.288136</td>\n",
              "      <td>1.073446</td>\n",
              "      <td>496.0</td>\n",
              "      <td>2.802260</td>\n",
              "      <td>37.85</td>\n",
              "      <td>-122.24</td>\n",
              "      <td>3.521</td>\n",
              "    </tr>\n",
              "    <tr>\n",
              "      <th>3</th>\n",
              "      <td>5.6431</td>\n",
              "      <td>52.0</td>\n",
              "      <td>5.817352</td>\n",
              "      <td>1.073059</td>\n",
              "      <td>558.0</td>\n",
              "      <td>2.547945</td>\n",
              "      <td>37.85</td>\n",
              "      <td>-122.25</td>\n",
              "      <td>3.413</td>\n",
              "    </tr>\n",
              "    <tr>\n",
              "      <th>4</th>\n",
              "      <td>3.8462</td>\n",
              "      <td>52.0</td>\n",
              "      <td>6.281853</td>\n",
              "      <td>1.081081</td>\n",
              "      <td>565.0</td>\n",
              "      <td>2.181467</td>\n",
              "      <td>37.85</td>\n",
              "      <td>-122.25</td>\n",
              "      <td>3.422</td>\n",
              "    </tr>\n",
              "  </tbody>\n",
              "</table>\n",
              "</div>\n",
              "      <button class=\"colab-df-convert\" onclick=\"convertToInteractive('df-4264d13d-2423-435d-8f7e-8aad86d64152')\"\n",
              "              title=\"Convert this dataframe to an interactive table.\"\n",
              "              style=\"display:none;\">\n",
              "        \n",
              "  <svg xmlns=\"http://www.w3.org/2000/svg\" height=\"24px\"viewBox=\"0 0 24 24\"\n",
              "       width=\"24px\">\n",
              "    <path d=\"M0 0h24v24H0V0z\" fill=\"none\"/>\n",
              "    <path d=\"M18.56 5.44l.94 2.06.94-2.06 2.06-.94-2.06-.94-.94-2.06-.94 2.06-2.06.94zm-11 1L8.5 8.5l.94-2.06 2.06-.94-2.06-.94L8.5 2.5l-.94 2.06-2.06.94zm10 10l.94 2.06.94-2.06 2.06-.94-2.06-.94-.94-2.06-.94 2.06-2.06.94z\"/><path d=\"M17.41 7.96l-1.37-1.37c-.4-.4-.92-.59-1.43-.59-.52 0-1.04.2-1.43.59L10.3 9.45l-7.72 7.72c-.78.78-.78 2.05 0 2.83L4 21.41c.39.39.9.59 1.41.59.51 0 1.02-.2 1.41-.59l7.78-7.78 2.81-2.81c.8-.78.8-2.07 0-2.86zM5.41 20L4 18.59l7.72-7.72 1.47 1.35L5.41 20z\"/>\n",
              "  </svg>\n",
              "      </button>\n",
              "      \n",
              "  <style>\n",
              "    .colab-df-container {\n",
              "      display:flex;\n",
              "      flex-wrap:wrap;\n",
              "      gap: 12px;\n",
              "    }\n",
              "\n",
              "    .colab-df-convert {\n",
              "      background-color: #E8F0FE;\n",
              "      border: none;\n",
              "      border-radius: 50%;\n",
              "      cursor: pointer;\n",
              "      display: none;\n",
              "      fill: #1967D2;\n",
              "      height: 32px;\n",
              "      padding: 0 0 0 0;\n",
              "      width: 32px;\n",
              "    }\n",
              "\n",
              "    .colab-df-convert:hover {\n",
              "      background-color: #E2EBFA;\n",
              "      box-shadow: 0px 1px 2px rgba(60, 64, 67, 0.3), 0px 1px 3px 1px rgba(60, 64, 67, 0.15);\n",
              "      fill: #174EA6;\n",
              "    }\n",
              "\n",
              "    [theme=dark] .colab-df-convert {\n",
              "      background-color: #3B4455;\n",
              "      fill: #D2E3FC;\n",
              "    }\n",
              "\n",
              "    [theme=dark] .colab-df-convert:hover {\n",
              "      background-color: #434B5C;\n",
              "      box-shadow: 0px 1px 3px 1px rgba(0, 0, 0, 0.15);\n",
              "      filter: drop-shadow(0px 1px 2px rgba(0, 0, 0, 0.3));\n",
              "      fill: #FFFFFF;\n",
              "    }\n",
              "  </style>\n",
              "\n",
              "      <script>\n",
              "        const buttonEl =\n",
              "          document.querySelector('#df-4264d13d-2423-435d-8f7e-8aad86d64152 button.colab-df-convert');\n",
              "        buttonEl.style.display =\n",
              "          google.colab.kernel.accessAllowed ? 'block' : 'none';\n",
              "\n",
              "        async function convertToInteractive(key) {\n",
              "          const element = document.querySelector('#df-4264d13d-2423-435d-8f7e-8aad86d64152');\n",
              "          const dataTable =\n",
              "            await google.colab.kernel.invokeFunction('convertToInteractive',\n",
              "                                                     [key], {});\n",
              "          if (!dataTable) return;\n",
              "\n",
              "          const docLinkHtml = 'Like what you see? Visit the ' +\n",
              "            '<a target=\"_blank\" href=https://colab.research.google.com/notebooks/data_table.ipynb>data table notebook</a>'\n",
              "            + ' to learn more about interactive tables.';\n",
              "          element.innerHTML = '';\n",
              "          dataTable['output_type'] = 'display_data';\n",
              "          await google.colab.output.renderOutput(dataTable, element);\n",
              "          const docLink = document.createElement('div');\n",
              "          docLink.innerHTML = docLinkHtml;\n",
              "          element.appendChild(docLink);\n",
              "        }\n",
              "      </script>\n",
              "    </div>\n",
              "  </div>\n",
              "  "
            ]
          },
          "metadata": {},
          "execution_count": 59
        }
      ]
    },
    {
      "cell_type": "markdown",
      "source": [
        "---\n",
        "### **2. EDA (Exploratory Data Analysis) and Visualization**"
      ],
      "metadata": {
        "id": "m2U76ywm_cdR"
      }
    },
    {
      "cell_type": "markdown",
      "source": [
        "Before working with any kind of data it is important to understand it. A crucial step to achive this is the Exploratory Data Analysis (EDA): a combination of visualizations and statistical analysis (univariate, bivariate and multivariate) that helps us to better understand the data we are working with and to gain insight into their relationships. \n",
        "\n",
        "So, let's explore our target variable and how the other features influence it."
      ],
      "metadata": {
        "id": "xKPH6NTmAWoK"
      }
    },
    {
      "cell_type": "markdown",
      "source": [
        "---\n",
        "##### **Taking a closer Look at obtained Data**"
      ],
      "metadata": {
        "id": "Dq6Y5BRwAsEN"
      }
    },
    {
      "cell_type": "markdown",
      "source": [
        "we can see the overall details and information about the dataset obtained and individual feature columns using the pandas functions: \n",
        "* info() - to give a overview of type of data available.\n",
        "* describe() - to get a statistical summary of available features."
      ],
      "metadata": {
        "id": "JLyIlU7kBGLj"
      }
    },
    {
      "cell_type": "code",
      "source": [
        "#USING info() TO GET OVERVIEW OF INFORMATION / STRUCTURE OF FEATURE DATA \n",
        "\n",
        "dataset.info()"
      ],
      "metadata": {
        "colab": {
          "base_uri": "https://localhost:8080/"
        },
        "id": "_qGeyEgGBw_R",
        "outputId": "5697afb8-5f79-412a-cbbb-1f885a0065d1"
      },
      "execution_count": null,
      "outputs": [
        {
          "output_type": "stream",
          "name": "stdout",
          "text": [
            "<class 'pandas.core.frame.DataFrame'>\n",
            "RangeIndex: 20640 entries, 0 to 20639\n",
            "Data columns (total 9 columns):\n",
            " #   Column       Non-Null Count  Dtype  \n",
            "---  ------       --------------  -----  \n",
            " 0   MedInc       20640 non-null  float64\n",
            " 1   HouseAge     20640 non-null  float64\n",
            " 2   AveRooms     20640 non-null  float64\n",
            " 3   AveBedrms    20640 non-null  float64\n",
            " 4   Population   20640 non-null  float64\n",
            " 5   AveOccup     20640 non-null  float64\n",
            " 6   Latitude     20640 non-null  float64\n",
            " 7   Longitude    20640 non-null  float64\n",
            " 8   MedHouseVal  20640 non-null  float64\n",
            "dtypes: float64(9)\n",
            "memory usage: 1.4 MB\n"
          ]
        }
      ]
    },
    {
      "cell_type": "markdown",
      "source": [
        "From the quick summary (overview) of dataset above - we can see that all of our features are numerical (real / floating) type and none of the features have any missing values in dataset."
      ],
      "metadata": {
        "id": "accvmb3DCK7g"
      }
    },
    {
      "cell_type": "markdown",
      "source": [
        "---\n",
        "##### **Exploring different Statistics of the Data (Summary and Distributions)**"
      ],
      "metadata": {
        "id": "1pjIo1PMD9tn"
      }
    },
    {
      "cell_type": "markdown",
      "source": [
        "Among our features we also have Latitude and Longitude (Geospatial features - coordinates) which we can try to specially analyze later.\n",
        "\n",
        "So, right now we will focus on the rest of the features."
      ],
      "metadata": {
        "id": "GqrqXwYwOk5X"
      }
    },
    {
      "cell_type": "code",
      "source": [
        "#LIST OF FEATURES IN DATASET EXCLUDING Lattitude AND Longitude\n",
        "\n",
        "features_for_EDA = [\"MedInc\", \"HouseAge\", \"AveRooms\", \"AveBedrms\", \"Population\", \"AveOccup\", \"MedHouseVal\"]"
      ],
      "metadata": {
        "id": "MPZ_aNvLPHWq"
      },
      "execution_count": null,
      "outputs": []
    },
    {
      "cell_type": "code",
      "source": [
        "#SUMMARIZING STATISTICS OF THE DATASET\n",
        "\n",
        "dataset[features_for_EDA].describe()"
      ],
      "metadata": {
        "colab": {
          "base_uri": "https://localhost:8080/",
          "height": 300
        },
        "id": "jMehls19CI07",
        "outputId": "5d7cfc11-ac3e-45cb-d6aa-ed71261cf6ad"
      },
      "execution_count": null,
      "outputs": [
        {
          "output_type": "execute_result",
          "data": {
            "text/plain": [
              "             MedInc      HouseAge      AveRooms     AveBedrms    Population  \\\n",
              "count  20640.000000  20640.000000  20640.000000  20640.000000  20640.000000   \n",
              "mean       3.870671     28.639486      5.429000      1.096675   1425.476744   \n",
              "std        1.899822     12.585558      2.474173      0.473911   1132.462122   \n",
              "min        0.499900      1.000000      0.846154      0.333333      3.000000   \n",
              "25%        2.563400     18.000000      4.440716      1.006079    787.000000   \n",
              "50%        3.534800     29.000000      5.229129      1.048780   1166.000000   \n",
              "75%        4.743250     37.000000      6.052381      1.099526   1725.000000   \n",
              "max       15.000100     52.000000    141.909091     34.066667  35682.000000   \n",
              "\n",
              "           AveOccup   MedHouseVal  \n",
              "count  20640.000000  20640.000000  \n",
              "mean       3.070655      2.068558  \n",
              "std       10.386050      1.153956  \n",
              "min        0.692308      0.149990  \n",
              "25%        2.429741      1.196000  \n",
              "50%        2.818116      1.797000  \n",
              "75%        3.282261      2.647250  \n",
              "max     1243.333333      5.000010  "
            ],
            "text/html": [
              "\n",
              "  <div id=\"df-23804d45-113a-4edf-b9c1-13d6e280be59\">\n",
              "    <div class=\"colab-df-container\">\n",
              "      <div>\n",
              "<style scoped>\n",
              "    .dataframe tbody tr th:only-of-type {\n",
              "        vertical-align: middle;\n",
              "    }\n",
              "\n",
              "    .dataframe tbody tr th {\n",
              "        vertical-align: top;\n",
              "    }\n",
              "\n",
              "    .dataframe thead th {\n",
              "        text-align: right;\n",
              "    }\n",
              "</style>\n",
              "<table border=\"1\" class=\"dataframe\">\n",
              "  <thead>\n",
              "    <tr style=\"text-align: right;\">\n",
              "      <th></th>\n",
              "      <th>MedInc</th>\n",
              "      <th>HouseAge</th>\n",
              "      <th>AveRooms</th>\n",
              "      <th>AveBedrms</th>\n",
              "      <th>Population</th>\n",
              "      <th>AveOccup</th>\n",
              "      <th>MedHouseVal</th>\n",
              "    </tr>\n",
              "  </thead>\n",
              "  <tbody>\n",
              "    <tr>\n",
              "      <th>count</th>\n",
              "      <td>20640.000000</td>\n",
              "      <td>20640.000000</td>\n",
              "      <td>20640.000000</td>\n",
              "      <td>20640.000000</td>\n",
              "      <td>20640.000000</td>\n",
              "      <td>20640.000000</td>\n",
              "      <td>20640.000000</td>\n",
              "    </tr>\n",
              "    <tr>\n",
              "      <th>mean</th>\n",
              "      <td>3.870671</td>\n",
              "      <td>28.639486</td>\n",
              "      <td>5.429000</td>\n",
              "      <td>1.096675</td>\n",
              "      <td>1425.476744</td>\n",
              "      <td>3.070655</td>\n",
              "      <td>2.068558</td>\n",
              "    </tr>\n",
              "    <tr>\n",
              "      <th>std</th>\n",
              "      <td>1.899822</td>\n",
              "      <td>12.585558</td>\n",
              "      <td>2.474173</td>\n",
              "      <td>0.473911</td>\n",
              "      <td>1132.462122</td>\n",
              "      <td>10.386050</td>\n",
              "      <td>1.153956</td>\n",
              "    </tr>\n",
              "    <tr>\n",
              "      <th>min</th>\n",
              "      <td>0.499900</td>\n",
              "      <td>1.000000</td>\n",
              "      <td>0.846154</td>\n",
              "      <td>0.333333</td>\n",
              "      <td>3.000000</td>\n",
              "      <td>0.692308</td>\n",
              "      <td>0.149990</td>\n",
              "    </tr>\n",
              "    <tr>\n",
              "      <th>25%</th>\n",
              "      <td>2.563400</td>\n",
              "      <td>18.000000</td>\n",
              "      <td>4.440716</td>\n",
              "      <td>1.006079</td>\n",
              "      <td>787.000000</td>\n",
              "      <td>2.429741</td>\n",
              "      <td>1.196000</td>\n",
              "    </tr>\n",
              "    <tr>\n",
              "      <th>50%</th>\n",
              "      <td>3.534800</td>\n",
              "      <td>29.000000</td>\n",
              "      <td>5.229129</td>\n",
              "      <td>1.048780</td>\n",
              "      <td>1166.000000</td>\n",
              "      <td>2.818116</td>\n",
              "      <td>1.797000</td>\n",
              "    </tr>\n",
              "    <tr>\n",
              "      <th>75%</th>\n",
              "      <td>4.743250</td>\n",
              "      <td>37.000000</td>\n",
              "      <td>6.052381</td>\n",
              "      <td>1.099526</td>\n",
              "      <td>1725.000000</td>\n",
              "      <td>3.282261</td>\n",
              "      <td>2.647250</td>\n",
              "    </tr>\n",
              "    <tr>\n",
              "      <th>max</th>\n",
              "      <td>15.000100</td>\n",
              "      <td>52.000000</td>\n",
              "      <td>141.909091</td>\n",
              "      <td>34.066667</td>\n",
              "      <td>35682.000000</td>\n",
              "      <td>1243.333333</td>\n",
              "      <td>5.000010</td>\n",
              "    </tr>\n",
              "  </tbody>\n",
              "</table>\n",
              "</div>\n",
              "      <button class=\"colab-df-convert\" onclick=\"convertToInteractive('df-23804d45-113a-4edf-b9c1-13d6e280be59')\"\n",
              "              title=\"Convert this dataframe to an interactive table.\"\n",
              "              style=\"display:none;\">\n",
              "        \n",
              "  <svg xmlns=\"http://www.w3.org/2000/svg\" height=\"24px\"viewBox=\"0 0 24 24\"\n",
              "       width=\"24px\">\n",
              "    <path d=\"M0 0h24v24H0V0z\" fill=\"none\"/>\n",
              "    <path d=\"M18.56 5.44l.94 2.06.94-2.06 2.06-.94-2.06-.94-.94-2.06-.94 2.06-2.06.94zm-11 1L8.5 8.5l.94-2.06 2.06-.94-2.06-.94L8.5 2.5l-.94 2.06-2.06.94zm10 10l.94 2.06.94-2.06 2.06-.94-2.06-.94-.94-2.06-.94 2.06-2.06.94z\"/><path d=\"M17.41 7.96l-1.37-1.37c-.4-.4-.92-.59-1.43-.59-.52 0-1.04.2-1.43.59L10.3 9.45l-7.72 7.72c-.78.78-.78 2.05 0 2.83L4 21.41c.39.39.9.59 1.41.59.51 0 1.02-.2 1.41-.59l7.78-7.78 2.81-2.81c.8-.78.8-2.07 0-2.86zM5.41 20L4 18.59l7.72-7.72 1.47 1.35L5.41 20z\"/>\n",
              "  </svg>\n",
              "      </button>\n",
              "      \n",
              "  <style>\n",
              "    .colab-df-container {\n",
              "      display:flex;\n",
              "      flex-wrap:wrap;\n",
              "      gap: 12px;\n",
              "    }\n",
              "\n",
              "    .colab-df-convert {\n",
              "      background-color: #E8F0FE;\n",
              "      border: none;\n",
              "      border-radius: 50%;\n",
              "      cursor: pointer;\n",
              "      display: none;\n",
              "      fill: #1967D2;\n",
              "      height: 32px;\n",
              "      padding: 0 0 0 0;\n",
              "      width: 32px;\n",
              "    }\n",
              "\n",
              "    .colab-df-convert:hover {\n",
              "      background-color: #E2EBFA;\n",
              "      box-shadow: 0px 1px 2px rgba(60, 64, 67, 0.3), 0px 1px 3px 1px rgba(60, 64, 67, 0.15);\n",
              "      fill: #174EA6;\n",
              "    }\n",
              "\n",
              "    [theme=dark] .colab-df-convert {\n",
              "      background-color: #3B4455;\n",
              "      fill: #D2E3FC;\n",
              "    }\n",
              "\n",
              "    [theme=dark] .colab-df-convert:hover {\n",
              "      background-color: #434B5C;\n",
              "      box-shadow: 0px 1px 3px 1px rgba(0, 0, 0, 0.15);\n",
              "      filter: drop-shadow(0px 1px 2px rgba(0, 0, 0, 0.3));\n",
              "      fill: #FFFFFF;\n",
              "    }\n",
              "  </style>\n",
              "\n",
              "      <script>\n",
              "        const buttonEl =\n",
              "          document.querySelector('#df-23804d45-113a-4edf-b9c1-13d6e280be59 button.colab-df-convert');\n",
              "        buttonEl.style.display =\n",
              "          google.colab.kernel.accessAllowed ? 'block' : 'none';\n",
              "\n",
              "        async function convertToInteractive(key) {\n",
              "          const element = document.querySelector('#df-23804d45-113a-4edf-b9c1-13d6e280be59');\n",
              "          const dataTable =\n",
              "            await google.colab.kernel.invokeFunction('convertToInteractive',\n",
              "                                                     [key], {});\n",
              "          if (!dataTable) return;\n",
              "\n",
              "          const docLinkHtml = 'Like what you see? Visit the ' +\n",
              "            '<a target=\"_blank\" href=https://colab.research.google.com/notebooks/data_table.ipynb>data table notebook</a>'\n",
              "            + ' to learn more about interactive tables.';\n",
              "          element.innerHTML = '';\n",
              "          dataTable['output_type'] = 'display_data';\n",
              "          await google.colab.output.renderOutput(dataTable, element);\n",
              "          const docLink = document.createElement('div');\n",
              "          docLink.innerHTML = docLinkHtml;\n",
              "          element.appendChild(docLink);\n",
              "        }\n",
              "      </script>\n",
              "    </div>\n",
              "  </div>\n",
              "  "
            ]
          },
          "metadata": {},
          "execution_count": 50
        }
      ]
    },
    {
      "cell_type": "markdown",
      "source": [
        "The above statistical summary of dataset gives us insights about the distribution of individual features (how feature values vary in the dataset) \n",
        "\n",
        "**We can better understand the feature distributions using graphs / plots**. "
      ],
      "metadata": {
        "id": "ePpAB7xeDJDS"
      }
    },
    {
      "cell_type": "markdown",
      "source": [
        "Visualizing the data distribution of the features."
      ],
      "metadata": {
        "id": "sINMeJm2EQY3"
      }
    },
    {
      "cell_type": "code",
      "source": [
        "#CREATING A DISTRIBUTION PLOT FOR TARGET FEATURE\n",
        "\n",
        "sns.displot(dataset['MedHouseVal'], kde = True)\n",
        "\n",
        "plt.title('MedHouseVal Distribution')\n",
        "plt.xlabel(\"Median house value in ($100,000)\")\n",
        "plt.legend(['MedHouseVal Distribution'], loc = 'best')\n",
        "plt.show()"
      ],
      "metadata": {
        "colab": {
          "base_uri": "https://localhost:8080/",
          "height": 385
        },
        "id": "HhUnpjhkG7a5",
        "outputId": "fa3d7c75-282a-42ff-b8f6-186baf7ad871"
      },
      "execution_count": null,
      "outputs": [
        {
          "output_type": "display_data",
          "data": {
            "text/plain": [
              "<Figure size 360x360 with 1 Axes>"
            ],
            "image/png": "[encoded data removed]"
          },
          "metadata": {
            "needs_background": "light"
          }
        }
      ]
    },
    {
      "cell_type": "markdown",
      "source": [
        "We can clearly see how the distribution does not seem to be normal, but highly right-skewed. If we use Models like Linear Regressor to make learn for skewed data and then make predictions it will not be able to capture the correct relations in data to make accurate predicions.\n",
        "\n",
        "Despite that, let's leave it like that for now, we'll deal with that later in the notebook."
      ],
      "metadata": {
        "id": "sHtxiJRpJLOP"
      }
    },
    {
      "cell_type": "markdown",
      "source": [
        "We can also take a breif look at the distribution of Input features avaiable using plots."
      ],
      "metadata": {
        "id": "bF2M17S-LrJw"
      }
    },
    {
      "cell_type": "code",
      "source": [
        "#VISUALIZING THE DISTRIBUTION IN SELECTED FEATURES EXLUDING MedHouseValues\n",
        "\n",
        "for feature in features_for_EDA[:-1]:\n",
        "    sns.displot(dataset[feature], kde = True)"
      ],
      "metadata": {
        "colab": {
          "base_uri": "https://localhost:8080/",
          "height": 1000
        },
        "id": "rTqWm0fpPw0e",
        "outputId": "ffc8c874-bfb1-44d5-d9e1-4fea6d9eaec3"
      },
      "execution_count": null,
      "outputs": [
        {
          "output_type": "display_data",
          "data": {
            "text/plain": [
              "<Figure size 360x360 with 1 Axes>"
            ],
            "image/png": "[encoded data removed]"
          },
          "metadata": {
            "needs_background": "light"
          }
        },
        {
          "output_type": "display_data",
          "data": {
            "text/plain": [
              "<Figure size 360x360 with 1 Axes>"
            ],
            "image/png": "[encoded data removed]"
          },
          "metadata": {
            "needs_background": "light"
          }
        },
        {
          "output_type": "display_data",
          "data": {
            "text/plain": [
              "<Figure size 360x360 with 1 Axes>"
            ],
            "image/png": "[encoded data removed]"
          },
          "metadata": {
            "needs_background": "light"
          }
        },
        {
          "output_type": "display_data",
          "data": {
            "text/plain": [
              "<Figure size 360x360 with 1 Axes>"
            ],
            "image/png": "[encoded data removed]"
          },
          "metadata": {
            "needs_background": "light"
          }
        },
        {
          "output_type": "display_data",
          "data": {
            "text/plain": [
              "<Figure size 360x360 with 1 Axes>"
            ],
            "image/png": "[encoded data removed]"
          },
          "metadata": {
            "needs_background": "light"
          }
        },
        {
          "output_type": "display_data",
          "data": {
            "text/plain": [
              "<Figure size 360x360 with 1 Axes>"
            ],
            "image/png": "[encoded data removed]"
          },
          "metadata": {
            "needs_background": "light"
          }
        }
      ]
    },
    {
      "cell_type": "markdown",
      "source": [
        "As we can see from the plots above most of the input features (except HouseAge) also contain highly skewed data, which can affect our models performance as it might focus too much on the outlier values and might not be able to learn the general relation and patterns in data.\n",
        "\n",
        "So, We can try to deal with them and make our data distribution closer to normal distribution which can help in some cases to make more accurate predictions (and also generalize better)."
      ],
      "metadata": {
        "id": "quxHTQoBMBDW"
      }
    },
    {
      "cell_type": "markdown",
      "source": [
        "--- \n",
        "##### **Looking at Correlations (between indiviual features and between Input features and Target)**"
      ],
      "metadata": {
        "id": "gnD75sLQODpj"
      }
    },
    {
      "cell_type": "markdown",
      "source": [
        "The correlation matrix is the best way to see all the numerical correlation between features. Let's see which are the feature that correlate most with our target variable.\n",
        "\n",
        "We can also check to see the correlations between the features (if two features are highly corelated we can just use one of them to convey the information needed and we can remove another - feature selection)"
      ],
      "metadata": {
        "id": "DED10gbkOWQL"
      }
    },
    {
      "cell_type": "markdown",
      "source": [
        "We can use the corr() function of Pandas dataframe which returns the Pearson correlation between columns (features) by default."
      ],
      "metadata": {
        "id": "7QeLNbxoRthc"
      }
    },
    {
      "cell_type": "code",
      "source": [
        "#corr() - CORRELATION BETWEEN COLUMNS (FEATURES) - DEFAULT = PEARSON'S COEFFICIENT\n",
        "#CORRELATION MATRIX\n",
        "\n",
        "dataset[features_for_EDA].corr()"
      ],
      "metadata": {
        "colab": {
          "base_uri": "https://localhost:8080/",
          "height": 269
        },
        "id": "JR9dyhz4Kv9F",
        "outputId": "02b63e8f-80ee-4b7c-edc6-aae5579224ef"
      },
      "execution_count": null,
      "outputs": [
        {
          "output_type": "execute_result",
          "data": {
            "text/plain": [
              "               MedInc  HouseAge  AveRooms  AveBedrms  Population  AveOccup  \\\n",
              "MedInc       1.000000 -0.119034  0.326895  -0.062040    0.004834  0.018766   \n",
              "HouseAge    -0.119034  1.000000 -0.153277  -0.077747   -0.296244  0.013191   \n",
              "AveRooms     0.326895 -0.153277  1.000000   0.847621   -0.072213 -0.004852   \n",
              "AveBedrms   -0.062040 -0.077747  0.847621   1.000000   -0.066197 -0.006181   \n",
              "Population   0.004834 -0.296244 -0.072213  -0.066197    1.000000  0.069863   \n",
              "AveOccup     0.018766  0.013191 -0.004852  -0.006181    0.069863  1.000000   \n",
              "MedHouseVal  0.688075  0.105623  0.151948  -0.046701   -0.024650 -0.023737   \n",
              "\n",
              "             MedHouseVal  \n",
              "MedInc          0.688075  \n",
              "HouseAge        0.105623  \n",
              "AveRooms        0.151948  \n",
              "AveBedrms      -0.046701  \n",
              "Population     -0.024650  \n",
              "AveOccup       -0.023737  \n",
              "MedHouseVal     1.000000  "
            ],
            "text/html": [
              "\n",
              "  <div id=\"df-d5a991a5-fac8-4a46-82f5-b549bb0fa6b1\">\n",
              "    <div class=\"colab-df-container\">\n",
              "      <div>\n",
              "<style scoped>\n",
              "    .dataframe tbody tr th:only-of-type {\n",
              "        vertical-align: middle;\n",
              "    }\n",
              "\n",
              "    .dataframe tbody tr th {\n",
              "        vertical-align: top;\n",
              "    }\n",
              "\n",
              "    .dataframe thead th {\n",
              "        text-align: right;\n",
              "    }\n",
              "</style>\n",
              "<table border=\"1\" class=\"dataframe\">\n",
              "  <thead>\n",
              "    <tr style=\"text-align: right;\">\n",
              "      <th></th>\n",
              "      <th>MedInc</th>\n",
              "      <th>HouseAge</th>\n",
              "      <th>AveRooms</th>\n",
              "      <th>AveBedrms</th>\n",
              "      <th>Population</th>\n",
              "      <th>AveOccup</th>\n",
              "      <th>MedHouseVal</th>\n",
              "    </tr>\n",
              "  </thead>\n",
              "  <tbody>\n",
              "    <tr>\n",
              "      <th>MedInc</th>\n",
              "      <td>1.000000</td>\n",
              "      <td>-0.119034</td>\n",
              "      <td>0.326895</td>\n",
              "      <td>-0.062040</td>\n",
              "      <td>0.004834</td>\n",
              "      <td>0.018766</td>\n",
              "      <td>0.688075</td>\n",
              "    </tr>\n",
              "    <tr>\n",
              "      <th>HouseAge</th>\n",
              "      <td>-0.119034</td>\n",
              "      <td>1.000000</td>\n",
              "      <td>-0.153277</td>\n",
              "      <td>-0.077747</td>\n",
              "      <td>-0.296244</td>\n",
              "      <td>0.013191</td>\n",
              "      <td>0.105623</td>\n",
              "    </tr>\n",
              "    <tr>\n",
              "      <th>AveRooms</th>\n",
              "      <td>0.326895</td>\n",
              "      <td>-0.153277</td>\n",
              "      <td>1.000000</td>\n",
              "      <td>0.847621</td>\n",
              "      <td>-0.072213</td>\n",
              "      <td>-0.004852</td>\n",
              "      <td>0.151948</td>\n",
              "    </tr>\n",
              "    <tr>\n",
              "      <th>AveBedrms</th>\n",
              "      <td>-0.062040</td>\n",
              "      <td>-0.077747</td>\n",
              "      <td>0.847621</td>\n",
              "      <td>1.000000</td>\n",
              "      <td>-0.066197</td>\n",
              "      <td>-0.006181</td>\n",
              "      <td>-0.046701</td>\n",
              "    </tr>\n",
              "    <tr>\n",
              "      <th>Population</th>\n",
              "      <td>0.004834</td>\n",
              "      <td>-0.296244</td>\n",
              "      <td>-0.072213</td>\n",
              "      <td>-0.066197</td>\n",
              "      <td>1.000000</td>\n",
              "      <td>0.069863</td>\n",
              "      <td>-0.024650</td>\n",
              "    </tr>\n",
              "    <tr>\n",
              "      <th>AveOccup</th>\n",
              "      <td>0.018766</td>\n",
              "      <td>0.013191</td>\n",
              "      <td>-0.004852</td>\n",
              "      <td>-0.006181</td>\n",
              "      <td>0.069863</td>\n",
              "      <td>1.000000</td>\n",
              "      <td>-0.023737</td>\n",
              "    </tr>\n",
              "    <tr>\n",
              "      <th>MedHouseVal</th>\n",
              "      <td>0.688075</td>\n",
              "      <td>0.105623</td>\n",
              "      <td>0.151948</td>\n",
              "      <td>-0.046701</td>\n",
              "      <td>-0.024650</td>\n",
              "      <td>-0.023737</td>\n",
              "      <td>1.000000</td>\n",
              "    </tr>\n",
              "  </tbody>\n",
              "</table>\n",
              "</div>\n",
              "      <button class=\"colab-df-convert\" onclick=\"convertToInteractive('df-d5a991a5-fac8-4a46-82f5-b549bb0fa6b1')\"\n",
              "              title=\"Convert this dataframe to an interactive table.\"\n",
              "              style=\"display:none;\">\n",
              "        \n",
              "  <svg xmlns=\"http://www.w3.org/2000/svg\" height=\"24px\"viewBox=\"0 0 24 24\"\n",
              "       width=\"24px\">\n",
              "    <path d=\"M0 0h24v24H0V0z\" fill=\"none\"/>\n",
              "    <path d=\"M18.56 5.44l.94 2.06.94-2.06 2.06-.94-2.06-.94-.94-2.06-.94 2.06-2.06.94zm-11 1L8.5 8.5l.94-2.06 2.06-.94-2.06-.94L8.5 2.5l-.94 2.06-2.06.94zm10 10l.94 2.06.94-2.06 2.06-.94-2.06-.94-.94-2.06-.94 2.06-2.06.94z\"/><path d=\"M17.41 7.96l-1.37-1.37c-.4-.4-.92-.59-1.43-.59-.52 0-1.04.2-1.43.59L10.3 9.45l-7.72 7.72c-.78.78-.78 2.05 0 2.83L4 21.41c.39.39.9.59 1.41.59.51 0 1.02-.2 1.41-.59l7.78-7.78 2.81-2.81c.8-.78.8-2.07 0-2.86zM5.41 20L4 18.59l7.72-7.72 1.47 1.35L5.41 20z\"/>\n",
              "  </svg>\n",
              "      </button>\n",
              "      \n",
              "  <style>\n",
              "    .colab-df-container {\n",
              "      display:flex;\n",
              "      flex-wrap:wrap;\n",
              "      gap: 12px;\n",
              "    }\n",
              "\n",
              "    .colab-df-convert {\n",
              "      background-color: #E8F0FE;\n",
              "      border: none;\n",
              "      border-radius: 50%;\n",
              "      cursor: pointer;\n",
              "      display: none;\n",
              "      fill: #1967D2;\n",
              "      height: 32px;\n",
              "      padding: 0 0 0 0;\n",
              "      width: 32px;\n",
              "    }\n",
              "\n",
              "    .colab-df-convert:hover {\n",
              "      background-color: #E2EBFA;\n",
              "      box-shadow: 0px 1px 2px rgba(60, 64, 67, 0.3), 0px 1px 3px 1px rgba(60, 64, 67, 0.15);\n",
              "      fill: #174EA6;\n",
              "    }\n",
              "\n",
              "    [theme=dark] .colab-df-convert {\n",
              "      background-color: #3B4455;\n",
              "      fill: #D2E3FC;\n",
              "    }\n",
              "\n",
              "    [theme=dark] .colab-df-convert:hover {\n",
              "      background-color: #434B5C;\n",
              "      box-shadow: 0px 1px 3px 1px rgba(0, 0, 0, 0.15);\n",
              "      filter: drop-shadow(0px 1px 2px rgba(0, 0, 0, 0.3));\n",
              "      fill: #FFFFFF;\n",
              "    }\n",
              "  </style>\n",
              "\n",
              "      <script>\n",
              "        const buttonEl =\n",
              "          document.querySelector('#df-d5a991a5-fac8-4a46-82f5-b549bb0fa6b1 button.colab-df-convert');\n",
              "        buttonEl.style.display =\n",
              "          google.colab.kernel.accessAllowed ? 'block' : 'none';\n",
              "\n",
              "        async function convertToInteractive(key) {\n",
              "          const element = document.querySelector('#df-d5a991a5-fac8-4a46-82f5-b549bb0fa6b1');\n",
              "          const dataTable =\n",
              "            await google.colab.kernel.invokeFunction('convertToInteractive',\n",
              "                                                     [key], {});\n",
              "          if (!dataTable) return;\n",
              "\n",
              "          const docLinkHtml = 'Like what you see? Visit the ' +\n",
              "            '<a target=\"_blank\" href=https://colab.research.google.com/notebooks/data_table.ipynb>data table notebook</a>'\n",
              "            + ' to learn more about interactive tables.';\n",
              "          element.innerHTML = '';\n",
              "          dataTable['output_type'] = 'display_data';\n",
              "          await google.colab.output.renderOutput(dataTable, element);\n",
              "          const docLink = document.createElement('div');\n",
              "          docLink.innerHTML = docLinkHtml;\n",
              "          element.appendChild(docLink);\n",
              "        }\n",
              "      </script>\n",
              "    </div>\n",
              "  </div>\n",
              "  "
            ]
          },
          "metadata": {},
          "execution_count": 54
        }
      ]
    },
    {
      "cell_type": "markdown",
      "source": [
        "Above we get the correlation matrix between features which tells the correlation using pearson's coefficient.\n",
        "\n",
        "We can better understand this using heatmap visualization."
      ],
      "metadata": {
        "id": "FGTWPjsRTifo"
      }
    },
    {
      "cell_type": "code",
      "source": [
        "#HEATMAP TO VISUALIZE CORRELATION MATRIX\n",
        "\n",
        "sns.heatmap(dataset[features_for_EDA].corr(), annot = True)"
      ],
      "metadata": {
        "colab": {
          "base_uri": "https://localhost:8080/",
          "height": 344
        },
        "id": "Bp7m2_MCTfCU",
        "outputId": "fb88dc60-865a-47ea-9824-571f7eaa71a6"
      },
      "execution_count": null,
      "outputs": [
        {
          "output_type": "execute_result",
          "data": {
            "text/plain": [
              "<matplotlib.axes._subplots.AxesSubplot at 0x7fb601189ac0>"
            ]
          },
          "metadata": {},
          "execution_count": 56
        },
        {
          "output_type": "display_data",
          "data": {
            "text/plain": [
              "<Figure size 432x288 with 2 Axes>"
            ],
            "image/png": "[encoded data removed]"
          },
          "metadata": {
            "needs_background": "light"
          }
        }
      ]
    },
    {
      "cell_type": "markdown",
      "source": [
        "Now that we know which feature (MedInc) correlates most with our target variable we can investigate it more in depth."
      ],
      "metadata": {
        "id": "_mS0-dN7UukR"
      }
    },
    {
      "cell_type": "code",
      "source": [
        "#MedInc - MedHouseVal [Pearson = 0.69]\n",
        "\n",
        "plt.figure(figsize=(12, 8))\n",
        "\n",
        "plt.scatter(data = dataset, x = \"MedInc\", y = \"MedHouseVal\")\n",
        "plt.xlabel(\"MedInc\")\n",
        "plt.ylabel(\"MedHouseVal\")"
      ],
      "metadata": {
        "colab": {
          "base_uri": "https://localhost:8080/",
          "height": 514
        },
        "id": "vNdVOfb9UXkY",
        "outputId": "cc1bcbf8-a013-4f36-cbc6-3efde83f881c"
      },
      "execution_count": null,
      "outputs": [
        {
          "output_type": "execute_result",
          "data": {
            "text/plain": [
              "Text(0, 0.5, 'MedHouseVal')"
            ]
          },
          "metadata": {},
          "execution_count": 62
        },
        {
          "output_type": "display_data",
          "data": {
            "text/plain": [
              "<Figure size 864x576 with 1 Axes>"
            ],
            "image/png": "[encoded data removed]"
          },
          "metadata": {
            "needs_background": "light"
          }
        }
      ]
    },
    {
      "cell_type": "markdown",
      "source": [
        "(There exists a positive correlation) - The general pattern that we can see is that as the median income in block group (MedInc) increases the Median Price of house (MedHouseVal) increases."
      ],
      "metadata": {
        "id": "-GpVj1e6YAqM"
      }
    },
    {
      "cell_type": "markdown",
      "source": [
        "---\n",
        "##### **Geospacial Data (Coordinates) - Longitude and Lattitude features**"
      ],
      "metadata": {
        "id": "41bF5kcXaV4f"
      }
    },
    {
      "cell_type": "markdown",
      "source": [
        "Now we can also take a look at how **Geospacial Data (coordinates) features (Longitude and Lattitude)** can help us predict the Housing prices.\n"
      ],
      "metadata": {
        "id": "Yws89yWVYXGm"
      }
    },
    {
      "cell_type": "code",
      "source": [
        "#PLOT THE COORDINATES TO VISUALIZE A MAP AND HOUSING PRICES AT DIFFERENT LOCATIONS \n",
        "\n",
        "sns.scatterplot(data = dataset, x = \"Longitude\", y = \"Latitude\", size = \"MedHouseVal\", hue = \"MedHouseVal\", palette = \"viridis\", alpha=0.5)\n",
        "\n",
        "plt.legend(title = \"MedHouseVal\", bbox_to_anchor = (1.05, 0.95), loc = \"upper left\")\n",
        "\n",
        "plt.title(\"Median house value depending on\\n the spatial location\")"
      ],
      "metadata": {
        "colab": {
          "base_uri": "https://localhost:8080/",
          "height": 327
        },
        "id": "KVesqqAGYANm",
        "outputId": "66b57d5b-b77f-4e70-c136-bb734d0a249c"
      },
      "execution_count": null,
      "outputs": [
        {
          "output_type": "execute_result",
          "data": {
            "text/plain": [
              "Text(0.5, 1.0, 'Median house value depending on\\n the spatial location')"
            ]
          },
          "metadata": {},
          "execution_count": 66
        },
        {
          "output_type": "display_data",
          "data": {
            "text/plain": [
              "<Figure size 432x288 with 1 Axes>"
            ],
            "image/png": "[encoded data removed]"
          },
          "metadata": {
            "needs_background": "light"
          }
        }
      ]
    },
    {
      "cell_type": "markdown",
      "source": [
        "From the map above, We can see that the location of the House also gives us useful insight as to what could be the Median price of House, Houses of similar price ranges for clusters together on the map and we can use this to get an estimate price based on location."
      ],
      "metadata": {
        "id": "tS_90k2YZhFX"
      }
    },
    {
      "cell_type": "markdown",
      "source": [
        "---\n",
        "### **3. Preprocessing**"
      ],
      "metadata": {
        "id": "UIm3ODYOOctT"
      }
    },
    {
      "cell_type": "markdown",
      "source": [
        "Now that we have some insights about data, we need to preprocess them for the modeling part. The main steps are:\n",
        "\n",
        "* Dealing with Duplicate and Null (NaN) values\n",
        "* Dealing with Categorical features (e.g. Dummy coding)\n",
        "* Dealing with Outlier values\n",
        "* Data Normalization (Plots and Tests)\n",
        "* Feature Scaling (Feature Transformation)\n",
        "* Feature Engineering (Feature Design)\n"
      ],
      "metadata": {
        "id": "Gm36yq5eO__S"
      }
    },
    {
      "cell_type": "markdown",
      "source": [
        "---\n",
        "\n",
        "##### **Dealing with Duplicate and Null (NaN) values**"
      ],
      "metadata": {
        "id": "TYop3UfkOsRJ"
      }
    },
    {
      "cell_type": "markdown",
      "source": [
        "Many Machine Learning Models cannot work with Missing (NaN) values so we need to deal with them before training our models.\n",
        "\n",
        "We can easily check how many values are missing in our dataset with respect to each of the input features."
      ],
      "metadata": {
        "id": "hF2m8d9CPaIY"
      }
    },
    {
      "cell_type": "code",
      "source": [
        "#CHECK NUMBER OF MISSING VALUES IN EACH OF THE FEATURES (COLUMNS)\n",
        "\n",
        "dataset.isnull().sum()"
      ],
      "metadata": {
        "colab": {
          "base_uri": "https://localhost:8080/"
        },
        "id": "vl66BM6iPnHj",
        "outputId": "f836120f-7c48-438f-c2d6-85c6890e635a"
      },
      "execution_count": null,
      "outputs": [
        {
          "output_type": "execute_result",
          "data": {
            "text/plain": [
              "MedInc         0\n",
              "HouseAge       0\n",
              "AveRooms       0\n",
              "AveBedrms      0\n",
              "Population     0\n",
              "AveOccup       0\n",
              "Latitude       0\n",
              "Longitude      0\n",
              "MedHouseVal    0\n",
              "dtype: int64"
            ]
          },
          "metadata": {},
          "execution_count": 12
        }
      ]
    },
    {
      "cell_type": "markdown",
      "source": [
        "There are no missing values in our dataset, as this is a practice dataset it contains no missing values but real-life datasets can have missing values, so will have to deal with them accordingly. "
      ],
      "metadata": {
        "id": "CI0lXNazQRoS"
      }
    },
    {
      "cell_type": "markdown",
      "source": [
        "---\n",
        "##### **Dealing with Categorical features (e.g. Dummy coding)**"
      ],
      "metadata": {
        "id": "o2OUtlyfQrEf"
      }
    },
    {
      "cell_type": "markdown",
      "source": [
        "Catagorical features have data stored in a non-numerical or discrete form, and many machine learning algorithms like linear regression cannot directly work with catagorical data, so we need to Convert them into numerical type. \n",
        "\n",
        "We can use two methods : Ordinal Encoding and One-Hot Encoding to do so.\n",
        "\n",
        "Now let's check if we have any catagorical features in our dataset."
      ],
      "metadata": {
        "id": "zrwohRQIQxhr"
      }
    },
    {
      "cell_type": "code",
      "source": [
        "#CHECK DATA TYPES TO IDENTIFY CATAGORICAL FEATURES\n",
        "\n",
        "dataset.dtypes"
      ],
      "metadata": {
        "colab": {
          "base_uri": "https://localhost:8080/"
        },
        "id": "z_KENq9lRYRQ",
        "outputId": "75f9f390-535a-428e-e049-d54b8997ce8e"
      },
      "execution_count": null,
      "outputs": [
        {
          "output_type": "execute_result",
          "data": {
            "text/plain": [
              "MedInc         float64\n",
              "HouseAge       float64\n",
              "AveRooms       float64\n",
              "AveBedrms      float64\n",
              "Population     float64\n",
              "AveOccup       float64\n",
              "Latitude       float64\n",
              "Longitude      float64\n",
              "MedHouseVal    float64\n",
              "dtype: object"
            ]
          },
          "metadata": {},
          "execution_count": 13
        }
      ]
    },
    {
      "cell_type": "markdown",
      "source": [
        "All of our data (features) are of float (real number) type so we don't need to worry about Catagorical to numerical Encoding."
      ],
      "metadata": {
        "id": "1dT5JXDIRjji"
      }
    },
    {
      "cell_type": "markdown",
      "source": [
        "---\n",
        "\n",
        "##### **Dealing with Outlier values**"
      ],
      "metadata": {
        "id": "GfZChjImRzN_"
      }
    },
    {
      "cell_type": "markdown",
      "source": [
        "There can be some outlier records present in our dataset which can be valid actual records but they do not represent the general data and are more of an exception than norm, some Machine Learning models can be quite heavily affected by the presence of these outliers, so we can try to deal with them to improve performance."
      ],
      "metadata": {
        "id": "AyjSzTbKTD0X"
      }
    },
    {
      "cell_type": "markdown",
      "source": [
        "**NOTE**: We should always remove outliers from data before performing train-test split and before performing normalization (standardization)."
      ],
      "metadata": {
        "id": "8APCNFykS-Ad"
      }
    },
    {
      "cell_type": "markdown",
      "source": [
        "**We can remove outliers from our dataset using Z-score OR using Interquartile range (IQR)**\n",
        "\n",
        "    Outlier = z-score less than -3 or greater than 3. \n",
        "\n",
        "    Outliers = Observations > Q3 + 1.5 * IQR or Q1 – 1.5 * IQR\n",
        "\n",
        "---\n",
        "    \n",
        "We can use Z-score to remove outliers from **Normally distributed** features.\n",
        "\n",
        "And use IQR to remove outliers from features with **Skewed distribution**."
      ],
      "metadata": {
        "id": "6SyKw6urTnH_"
      }
    },
    {
      "cell_type": "markdown",
      "source": [
        "We can also use boxplots to visualize if our feature values contain Outlier values."
      ],
      "metadata": {
        "id": "u-w4ESkwUvdG"
      }
    },
    {
      "cell_type": "code",
      "source": [
        "#THE FEATURES WE ARE CONSIDERING FOR OUTLIER REMOVAL\n",
        "\n",
        "list_of_input_features_for_outliers = ['MedInc', 'HouseAge', 'AveRooms', 'AveBedrms', 'Population', 'AveOccup']"
      ],
      "metadata": {
        "id": "sAQ5li8Kc1Q0"
      },
      "execution_count": null,
      "outputs": []
    },
    {
      "cell_type": "markdown",
      "source": [
        "---\n",
        "\n",
        "###### **Detecting Outliers using Visulalization (Box Plot)**"
      ],
      "metadata": {
        "id": "isK6y1neKY3T"
      }
    },
    {
      "cell_type": "code",
      "source": [
        "#VISUALIZING FEATURE DISTRIBUTIONS AND IDENTIFING OUTLIERS USING BOX-PLOTS\n",
        "\n",
        "fig, axes = plt.subplots(3, 2, figsize = (10, 10))\n",
        "\n",
        "sns.boxplot(data = dataset, x = 'MedInc', ax = axes[0, 0])\n",
        "sns.boxplot(data = dataset, x = 'HouseAge', ax = axes[0, 1])\n",
        "sns.boxplot(data = dataset, x = 'AveRooms', ax = axes[1, 0])\n",
        "sns.boxplot(data = dataset, x = 'AveBedrms', ax = axes[1, 1])\n",
        "sns.boxplot(data = dataset, x = 'Population', ax = axes[2, 0])\n",
        "sns.boxplot(data = dataset, x = 'AveOccup', ax = axes[2, 1])"
      ],
      "metadata": {
        "colab": {
          "base_uri": "https://localhost:8080/",
          "height": 623
        },
        "id": "NXJ9XH1aKLG-",
        "outputId": "1f494b84-953f-40a5-e926-0c7649172772"
      },
      "execution_count": null,
      "outputs": [
        {
          "output_type": "execute_result",
          "data": {
            "text/plain": [
              "<matplotlib.axes._subplots.AxesSubplot at 0x7f316d3f7a90>"
            ]
          },
          "metadata": {},
          "execution_count": 26
        },
        {
          "output_type": "display_data",
          "data": {
            "text/plain": [
              "<Figure size 720x720 with 6 Axes>"
            ],
            "image/png": "[encoded data removed]"
          },
          "metadata": {
            "needs_background": "light"
          }
        }
      ]
    },
    {
      "cell_type": "markdown",
      "source": [
        "Let's analyze the plots one by one: \n",
        "* 'MedInc' - seems to have quite a few outliers.  \n",
        "* 'HouseAge' - there seems to be no outliers.\n",
        "* 'AveRooms' - There seems to 2 clear Outliers and there there a few more.\n",
        "* 'AveBedrms' - also have 2 clear Outliers and then there are few outliers more like 'AveRooms' \n",
        "* 'Population' - we can clearly spot 2 major outliers and there are more less extreme outliers also present.\n",
        "* 'AveOccup' - Most of the data values seems to be very small but there are a few clear outliers."
      ],
      "metadata": {
        "id": "HhZ22zypRaCn"
      }
    },
    {
      "cell_type": "markdown",
      "source": [
        "--- \n",
        "\n",
        "###### **Using IQR**"
      ],
      "metadata": {
        "id": "Xb2T_cA_lMhx"
      }
    },
    {
      "cell_type": "markdown",
      "source": [
        "**Detecting Outliers using IQR**"
      ],
      "metadata": {
        "id": "VUO7WqIfhW0N"
      }
    },
    {
      "cell_type": "markdown",
      "source": [
        "We can also see a count of how many outlier values are there in each feature, there may be also some common records in them so we deal with them together for removal."
      ],
      "metadata": {
        "id": "mkP-SyVyb_q9"
      }
    },
    {
      "cell_type": "code",
      "source": [
        "#FUNCTION TO COUNT THE OUTLIERS IN A PARTICULAR FEATURE\n",
        "\n",
        "def count_outliers_using_IQR(feature_name):\n",
        "    # IQR\n",
        "    Q1 = np.percentile(dataset[feature_name], 25, interpolation = 'midpoint')\n",
        "    Q3 = np.percentile(dataset[feature_name], 75, interpolation = 'midpoint')\n",
        "\n",
        "    IQR = Q3 - Q1\n",
        "\n",
        "    # Above Upper bound\n",
        "    upper = dataset[feature_name] >= (Q3 + 1.5 * IQR)\n",
        "    # Below Lower bound\n",
        "    lower = dataset[feature_name] <= (Q1 - 1.5 * IQR)\n",
        "\n",
        "    print(feature_name, \" : \", len(np.where(upper)[0]) + len(np.where(lower)[0]))"
      ],
      "metadata": {
        "id": "mYGOMoMZcNI2"
      },
      "execution_count": null,
      "outputs": []
    },
    {
      "cell_type": "code",
      "source": [
        "print(\"Number of Outlier values with respect to features : \\n\")\n",
        "\n",
        "for feature in list_of_input_features_for_outliers:\n",
        "    count_outliers_using_IQR(feature)"
      ],
      "metadata": {
        "colab": {
          "base_uri": "https://localhost:8080/"
        },
        "id": "cMprB-tucyy9",
        "outputId": "46699198-e993-4bda-a5d0-666291edeac7"
      },
      "execution_count": null,
      "outputs": [
        {
          "output_type": "stream",
          "name": "stdout",
          "text": [
            "Number of Outlier values with respect to features : \n",
            "\n",
            "MedInc  :  680\n",
            "HouseAge  :  0\n",
            "AveRooms  :  511\n",
            "AveBedrms  :  1424\n",
            "Population  :  1198\n",
            "AveOccup  :  711\n"
          ]
        }
      ]
    },
    {
      "cell_type": "markdown",
      "source": [
        "**Removing Outliers using IQR**"
      ],
      "metadata": {
        "id": "73DrglwYdUss"
      }
    },
    {
      "cell_type": "markdown",
      "source": [
        "Formula \n",
        "\n",
        "\n",
        "> ```\n",
        "IQR = Quartile3 – Quartile1\n",
        "upper = Q3 + 1.5 * IQR\n",
        "lower = Q1 – 1.5 * IQR\n",
        "```\n",
        "\n"
      ],
      "metadata": {
        "id": "WK7ZcJhzcIsA"
      }
    },
    {
      "cell_type": "code",
      "source": [
        "#FUNCTION TO CALCULATE THE MASK THAT MARKS WHICH ELEMENTS ARE OUTSIDE THE LIMITS - OUTLIERS \n",
        "\n",
        "def calc_elements_upper_and_lower_than_IQR(feature_name):\n",
        "    Q1 = np.percentile(dataset[feature_name], 25, interpolation = 'midpoint')\n",
        "    Q3 = np.percentile(dataset[feature_name], 75, interpolation = 'midpoint')\n",
        "\n",
        "    IQR = Q3 - Q1\n",
        "\n",
        "    # Above Upper bound\n",
        "    upper_element_mask = dataset[feature_name] >= (Q3 + 1.5 * IQR)\n",
        "    # Below Lower bound\n",
        "    lower_element_mask = dataset[feature_name] <= (Q1 - 1.5 * IQR)\n",
        "\n",
        "    return upper_element_mask, lower_element_mask"
      ],
      "metadata": {
        "id": "Y-6u3rPDZ1m8"
      },
      "execution_count": null,
      "outputs": []
    },
    {
      "cell_type": "code",
      "source": [
        "#CREATING A MASK - MARKING ALL THE ELEMENTS THAT ARE CONSIDERED OUTLIERS i.e. OUT OF LIMITS\n",
        "\n",
        "#LIST CORRESPONDING TO EACH FEATURE\n",
        "list_of_masks_for_outlier_removal = []\n",
        "\n",
        "for feature in list_of_input_features_for_outliers:\n",
        "    x, y = calc_elements_upper_and_lower_than_IQR(feature)\n",
        "    list_of_masks_for_outlier_removal.append(x)\n",
        "    list_of_masks_for_outlier_removal.append(y)\n",
        "\n",
        "#CREATING A MASK FOR OVERALL DATA RECORDS WITH RESPECT TO ALL THE FEATURES \n",
        "\n",
        "mask_for_outlier_removal_iqr = np.any(list_of_masks_for_outlier_removal, axis = 0)"
      ],
      "metadata": {
        "id": "NBn9aZy8am4t"
      },
      "execution_count": null,
      "outputs": []
    },
    {
      "cell_type": "code",
      "source": [
        "# OUTLIER POSITIONS \n",
        "\n",
        "list_of_records_with_outliers_iqr = np.where(mask_for_outlier_removal_iqr)"
      ],
      "metadata": {
        "id": "ElHtGSNze9t7"
      },
      "execution_count": null,
      "outputs": []
    },
    {
      "cell_type": "code",
      "source": [
        "#NUMBER OF TOTAL OUTLIERS\n",
        "\n",
        "len(list_of_records_with_outliers_iqr[0])"
      ],
      "metadata": {
        "colab": {
          "base_uri": "https://localhost:8080/"
        },
        "id": "KU5cALrNhrzq",
        "outputId": "6470f262-84d6-420a-9bed-1b621081bf03"
      },
      "execution_count": null,
      "outputs": [
        {
          "output_type": "execute_result",
          "data": {
            "text/plain": [
              "3800"
            ]
          },
          "metadata": {},
          "execution_count": 32
        }
      ]
    },
    {
      "cell_type": "markdown",
      "source": [
        "We have 3800 records that are classified as Outliers using IQR Method. "
      ],
      "metadata": {
        "id": "8xXDNYEFfUnQ"
      }
    },
    {
      "cell_type": "code",
      "source": [
        "# CREATING A NEW DATASET WITH OUTLIER VALUES REMOVED USING IQR\n",
        "\n",
        "dataset_clean_iqr = dataset.drop(list_of_records_with_outliers_iqr[0])"
      ],
      "metadata": {
        "id": "5PA9GU5_kATL"
      },
      "execution_count": null,
      "outputs": []
    },
    {
      "cell_type": "code",
      "source": [
        "dataset_clean_iqr.shape"
      ],
      "metadata": {
        "colab": {
          "base_uri": "https://localhost:8080/"
        },
        "id": "K_6dbtzCkU9n",
        "outputId": "5bfe1535-8832-41cc-f173-66aabec1f800"
      },
      "execution_count": null,
      "outputs": [
        {
          "output_type": "execute_result",
          "data": {
            "text/plain": [
              "(16840, 9)"
            ]
          },
          "metadata": {},
          "execution_count": 34
        }
      ]
    },
    {
      "cell_type": "markdown",
      "source": [
        "Now we have a dataset that does not contain outlier values, we can try to see if this impoves the performance and genralize better."
      ],
      "metadata": {
        "id": "BfrIIiuqkjat"
      }
    },
    {
      "cell_type": "markdown",
      "source": [
        "---\n",
        "###### **Using Z-Score**"
      ],
      "metadata": {
        "id": "8jYmCG4rlIs4"
      }
    },
    {
      "cell_type": "markdown",
      "source": [
        "Formula \n",
        "\n",
        ">```\n",
        "Zscore = (data_point - mean) / std. deviation\n",
        "```\n",
        "\n"
      ],
      "metadata": {
        "id": "pX_zB93ZZFCh"
      }
    },
    {
      "cell_type": "code",
      "source": [
        "# IMPORTING LIBRARY NEEDED FOR Z-SCORE CALCULATION AND DEFINING THRESHOLD VALUE\n",
        "\n",
        "from scipy import stats\n",
        "threshold = 3"
      ],
      "metadata": {
        "id": "4hf8fUs3opt3"
      },
      "execution_count": null,
      "outputs": []
    },
    {
      "cell_type": "code",
      "source": [
        "# DEFINING THE FUNCTION TO CALULATE THE Z-SCORE VLAUE\n",
        "# Position of the outlier\n",
        "# where (z > threshold)\n",
        "\n",
        "def calc_z_score_mask(feature_name):\n",
        "    z_score = np.abs(stats.zscore(dataset[feature_name]))\n",
        "    return z_score > threshold"
      ],
      "metadata": {
        "id": "niIjvf_gGKKw"
      },
      "execution_count": null,
      "outputs": []
    },
    {
      "cell_type": "code",
      "source": [
        "#CREATING A MASK - MARKING ALL THE ELEMENTS THAT ARE CONSIDERED OUTLIERS i.e. OUT OF LIMITS\n",
        "\n",
        "#LIST CORRESPONDING TO EACH FEATURE\n",
        "list_of_masks_for_outlier_removal_z = []\n",
        "\n",
        "for feature in list_of_input_features_for_outliers:\n",
        "    feature_mask = calc_z_score_mask(feature)\n",
        "    list_of_masks_for_outlier_removal_z.append(feature_mask)\n",
        "\n",
        "#CREATING A MASK FOR OVERALL DATA RECORDS WITH RESPECT TO ALL THE FEATURES \n",
        "\n",
        "mask_for_outlier_removal_z = np.any(list_of_masks_for_outlier_removal_z, axis = 0)"
      ],
      "metadata": {
        "id": "FFqFL8m5pQVP"
      },
      "execution_count": null,
      "outputs": []
    },
    {
      "cell_type": "code",
      "source": [
        "# OUTLIER POSITIONS \n",
        "\n",
        "list_of_records_with_outliers_z = np.where(mask_for_outlier_removal_z)"
      ],
      "metadata": {
        "id": "pOQK8jNnqQ-i"
      },
      "execution_count": null,
      "outputs": []
    },
    {
      "cell_type": "code",
      "source": [
        "#NUMBER OF TOTAL OUTLIERS\n",
        "\n",
        "len(list_of_records_with_outliers_z[0])"
      ],
      "metadata": {
        "colab": {
          "base_uri": "https://localhost:8080/"
        },
        "id": "MVS7-i2DqX2E",
        "outputId": "4fc5f7c0-e6b0-4710-f8a3-67b4c93deba2"
      },
      "execution_count": null,
      "outputs": [
        {
          "output_type": "execute_result",
          "data": {
            "text/plain": [
              "846"
            ]
          },
          "metadata": {},
          "execution_count": 39
        }
      ]
    },
    {
      "cell_type": "markdown",
      "source": [
        "We have 846 records that are classified as Outliers using Z-Score Method. "
      ],
      "metadata": {
        "id": "86aYGBzPqyvZ"
      }
    },
    {
      "cell_type": "code",
      "source": [
        "# CREATING A NEW DATASET WITH OUTLIER VALUES REMOVED USING Z-SCORE\n",
        "\n",
        "dataset_clean_z = dataset.drop(list_of_records_with_outliers_z[0])"
      ],
      "metadata": {
        "id": "E6sLfsZQN3iZ"
      },
      "execution_count": null,
      "outputs": []
    },
    {
      "cell_type": "code",
      "source": [
        "dataset_clean_z.shape"
      ],
      "metadata": {
        "colab": {
          "base_uri": "https://localhost:8080/"
        },
        "id": "a4zXeWqNkXi2",
        "outputId": "7fee2d33-1782-46d6-a394-87b0c16cb539"
      },
      "execution_count": null,
      "outputs": [
        {
          "output_type": "execute_result",
          "data": {
            "text/plain": [
              "(19794, 9)"
            ]
          },
          "metadata": {},
          "execution_count": 41
        }
      ]
    },
    {
      "cell_type": "markdown",
      "source": [
        "Now we have a dataset that does not contain outlier values w.r.t Z-Score, we can try to see if this impoves the performance and genralize better."
      ],
      "metadata": {
        "id": "MEypT0MKrkcG"
      }
    },
    {
      "cell_type": "markdown",
      "source": [
        "---\n",
        "\n",
        "##### **Seperating Target and Features**"
      ],
      "metadata": {
        "id": "GRT14Mg9gbm-"
      }
    },
    {
      "cell_type": "markdown",
      "source": [
        "we can seperate our input features (X) and target / output feature (y)"
      ],
      "metadata": {
        "id": "dd9-FB3Jhd5S"
      }
    },
    {
      "cell_type": "code",
      "source": [
        "y_target = dataset['MedHouseVal']\n",
        "X_features = dataset.drop(['MedHouseVal'], axis = 1)"
      ],
      "metadata": {
        "id": "E39-krXjgqzo"
      },
      "execution_count": 60,
      "outputs": []
    },
    {
      "cell_type": "markdown",
      "source": [
        "---\n",
        "##### **Target feature Normalization**"
      ],
      "metadata": {
        "id": "4MR44bGfsEwA"
      }
    },
    {
      "cell_type": "markdown",
      "source": [
        "In the EDA Phase, we saw that the distribution of our target variable is not a normal distribution but it is skewed which can affect the performance of many learning algorithms.\n",
        "\n",
        "So let's try to tranform our target distribution into a normal one. To do this we use a log transformation. We will use qq-plot to see the transformation effect."
      ],
      "metadata": {
        "id": "s8mmkUfysVa7"
      }
    },
    {
      "cell_type": "code",
      "source": [
        "#IMPORTING LIBRARIES TO PERFORM NORMALIZATION \n",
        "\n",
        "from scipy.stats import norm\n",
        "import scipy.stats as stats\n",
        "import statsmodels.api as sm"
      ],
      "metadata": {
        "id": "Mz58tY-IellA"
      },
      "execution_count": 61,
      "outputs": []
    },
    {
      "cell_type": "code",
      "source": [
        "# MedHouseVal BEFORE TRANSFORMATION\n",
        "\n",
        "fig, ax = plt.subplots(1,2, figsize= (15,5))\n",
        "fig.suptitle(\" qq-plot & distribution SalePrice \", fontsize= 15)\n",
        "\n",
        "sm.qqplot(y_target, stats.t, distargs=(4,), fit = True, line = \"45\", ax = ax[0])\n",
        "\n",
        "sns.distplot(y_target, kde = True, hist = True, fit = norm, ax = ax[1])\n",
        "\n",
        "plt.show()"
      ],
      "metadata": {
        "colab": {
          "base_uri": "https://localhost:8080/",
          "height": 425
        },
        "id": "bcZP5b7Nco-x",
        "outputId": "57334148-9b3d-4222-96a0-17096d2930d0"
      },
      "execution_count": 62,
      "outputs": [
        {
          "output_type": "stream",
          "name": "stderr",
          "text": [
            "/usr/local/lib/python3.8/dist-packages/seaborn/distributions.py:2619: FutureWarning: `distplot` is a deprecated function and will be removed in a future version. Please adapt your code to use either `displot` (a figure-level function with similar flexibility) or `histplot` (an axes-level function for histograms).\n",
            "  warnings.warn(msg, FutureWarning)\n"
          ]
        },
        {
          "output_type": "display_data",
          "data": {
            "text/plain": [
              "<Figure size 1080x360 with 2 Axes>"
            ],
            "image/png": "[encoded data removed]"
          },
          "metadata": {
            "needs_background": "light"
          }
        }
      ]
    },
    {
      "cell_type": "code",
      "source": [
        "# MedHouseVal after transformation\n",
        "\n",
        "y_target_log = np.log1p(y_target)\n",
        "\n",
        "fig, ax = plt.subplots(1,2, figsize= (15,5))\n",
        "fig.suptitle(\"qq-plot & distribution SalePrice \", fontsize= 15)\n",
        "\n",
        "sm.qqplot(y_target_log, stats.t, distargs=(4,), fit = True, line = \"45\", ax = ax[0])\n",
        "sns.distplot(y_target_log, kde = True, hist = True, fit = norm, ax = ax[1])\n",
        "plt.show()"
      ],
      "metadata": {
        "colab": {
          "base_uri": "https://localhost:8080/",
          "height": 425
        },
        "id": "B00oeixXdrev",
        "outputId": "cfaa8f95-7bf3-4cd0-b86f-e056667abbdf"
      },
      "execution_count": 63,
      "outputs": [
        {
          "output_type": "stream",
          "name": "stderr",
          "text": [
            "/usr/local/lib/python3.8/dist-packages/seaborn/distributions.py:2619: FutureWarning: `distplot` is a deprecated function and will be removed in a future version. Please adapt your code to use either `displot` (a figure-level function with similar flexibility) or `histplot` (an axes-level function for histograms).\n",
            "  warnings.warn(msg, FutureWarning)\n"
          ]
        },
        {
          "output_type": "display_data",
          "data": {
            "text/plain": [
              "<Figure size 1080x360 with 2 Axes>"
            ],
            "image/png": "[encoded data removed]"
          },
          "metadata": {
            "needs_background": "light"
          }
        }
      ]
    },
    {
      "cell_type": "markdown",
      "source": [
        "The data distribution of our target variable has more normal distributution than before, (except the part where we are limiting the price to be capped at 500,000 dollars, so more expensive houses are also labeled as 500,000 houses)"
      ],
      "metadata": {
        "id": "uYyBzaG2hvgl"
      }
    },
    {
      "cell_type": "markdown",
      "source": [
        "##### **Feature Engineering**"
      ],
      "metadata": {
        "id": "YFj84JT7Vzo6"
      }
    },
    {
      "cell_type": "markdown",
      "source": [
        "Let's create some new features combining the ones that we already have. These could help us to increase the performance of the model!"
      ],
      "metadata": {
        "id": "kPkTtBbjV4Dn"
      }
    },
    {
      "cell_type": "code",
      "source": [],
      "metadata": {
        "id": "jFsv-5jzV_4i"
      },
      "execution_count": null,
      "outputs": []
    },
    {
      "cell_type": "markdown",
      "source": [
        "---\n",
        "##### **Splitting Dataset into train and test sets**"
      ],
      "metadata": {
        "id": "NOeV2gc-jYHx"
      }
    },
    {
      "cell_type": "markdown",
      "source": [
        "To evaluate our model and see how well our Model Generalize to new data, we need to split the data into train and test sets. So we can test how our model performs on data never seen before."
      ],
      "metadata": {
        "id": "UFGs8xBGjgE-"
      }
    },
    {
      "cell_type": "code",
      "source": [
        "# TRAIN TEST SPLIT\n",
        "\n",
        "from sklearn.model_selection import train_test_split\n",
        "\n",
        "X_train, X_test, y_train, y_test = train_test_split(X_features, y_target, test_size = 0.2, random_state = 1)"
      ],
      "metadata": {
        "id": "hzFWSwpjjpk2"
      },
      "execution_count": 64,
      "outputs": []
    },
    {
      "cell_type": "markdown",
      "source": [
        "---\n",
        "##### **Feature Scaling (Feature Transformation)**"
      ],
      "metadata": {
        "id": "eHf-Wu_YjEM8"
      }
    },
    {
      "cell_type": "markdown",
      "source": [
        "**Standard Scaling (Standardize the dataset)**\n",
        "\n",
        "We perform the scaling on the input features so that all the features have a comparable range, and the features with larger values don't become the only prominant feature in pridicting the value, and this alos helps the learing algorithms (gradient descent) to run faster."
      ],
      "metadata": {
        "id": "9akO6aNNjRoh"
      }
    },
    {
      "cell_type": "code",
      "source": [
        "#STANDARDIZE THE DATASET\n",
        "\n",
        "from sklearn.preprocessing import StandardScaler\n",
        "\n",
        "scaler = StandardScaler()\n",
        "\n",
        "#SCALING THE TRAIN DATA - FIT AND TRANSFORM\n",
        "\n",
        "X_train = scaler.fit_transform(X_train)\n",
        "\n",
        "#TRANSFORM (SCALE) TEST DATA USING SAME SCALER FITTED USED TRAIN SET   \n",
        "\n",
        "X_test = scaler.transform(X_test)"
      ],
      "metadata": {
        "id": "_3J8SqBVeb6V"
      },
      "execution_count": 65,
      "outputs": []
    },
    {
      "cell_type": "markdown",
      "source": [
        "Save our standard scaler to be used later to perform same scaling / transformation on new data, so that our model can make predictions on that."
      ],
      "metadata": {
        "id": "PWwouSKmljgE"
      }
    },
    {
      "cell_type": "code",
      "source": [
        "pickle.dump(scaler, open(\"scaler.pkl\", 'wb')) #here wb = write byte"
      ],
      "metadata": {
        "id": "bpI2vFwhlhNC"
      },
      "execution_count": 66,
      "outputs": []
    },
    {
      "cell_type": "markdown",
      "source": [
        "---\n",
        "\n",
        "### **4. Modeling**"
      ],
      "metadata": {
        "id": "o_h7EaSlnn8v"
      }
    },
    {
      "cell_type": "markdown",
      "source": [
        "##### **Specifying Evaluation Metric R squared (using Cross-Validation)**"
      ],
      "metadata": {
        "id": "S5g6cIZ6f6tV"
      }
    },
    {
      "cell_type": "markdown",
      "source": [
        "To check the quality and accuracy of our predictions we will use the R square to evaluate our model.\n",
        "\n",
        "we will use R square score in cross-validation square to evaluate how well our model will generalize for future unseen values"
      ],
      "metadata": {
        "id": "9QolPfZkgWNP"
      }
    },
    {
      "cell_type": "code",
      "source": [
        "#FUNCTION TO CALCULATE THE EVALUATION SCORE USING CROSS VALIDATION AND R SQAURE SCORING\n",
        "from sklearn.model_selection import cross_val_score\n",
        "\n",
        "def calculate_eval_metric(model, X, y, cv = 3):\n",
        "    scores = cross_val_score(model, X, y, cv = cv, scoring = 'r2')\n",
        "    print(\"Evaluation score on 3 cross-validation sets : \", scores)\n",
        "    print(\"Average R squared score : \", scores.mean())\n",
        "    return scores.mean()"
      ],
      "metadata": {
        "id": "zNJSedm-PlTN"
      },
      "execution_count": null,
      "outputs": []
    },
    {
      "cell_type": "markdown",
      "source": [
        "Dictionary to store Cross - Evaluation Metrics for each Model "
      ],
      "metadata": {
        "id": "IQwYjM1hVAUl"
      }
    },
    {
      "cell_type": "code",
      "source": [
        "#DICTIONARY TO STORE CV SCORES\n",
        "cv_scores = {}"
      ],
      "metadata": {
        "id": "ZRYLIXfGVKal"
      },
      "execution_count": null,
      "outputs": []
    },
    {
      "cell_type": "markdown",
      "source": [
        "---\n",
        "##### **Model Training** - trying multiple models and hyperparameters"
      ],
      "metadata": {
        "id": "4m6yE7RBRMiP"
      }
    },
    {
      "cell_type": "markdown",
      "source": [
        "---\n",
        "###### **Linear Regression**"
      ],
      "metadata": {
        "id": "XH718tOBRf4O"
      }
    },
    {
      "cell_type": "markdown",
      "source": [
        "Linear Regression can act as a baseline Model to get an understanding of how well we can perform using a simple model without much fine tuning"
      ],
      "metadata": {
        "id": "HQbp7otzTFny"
      }
    },
    {
      "cell_type": "code",
      "source": [
        "#IMPORTING LINEAR REGRESSOR IMPLEMENTATION FROM SKLEARN\n",
        "\n",
        "from sklearn.linear_model import LinearRegression"
      ],
      "metadata": {
        "id": "qN1ZuhesRMQR"
      },
      "execution_count": null,
      "outputs": []
    },
    {
      "cell_type": "code",
      "source": [
        "#CREATING A MODEL OBJECT AND TRAINING \n",
        "\n",
        "linear_regression_model = LinearRegression()\n",
        "\n",
        "cv_scores['linear_regression_model'] = calculate_eval_metric(linear_regression_model, X_train, y_train)"
      ],
      "metadata": {
        "colab": {
          "base_uri": "https://localhost:8080/"
        },
        "id": "4brfUuBkSHL5",
        "outputId": "0a7468d1-012e-4980-ec2d-a23a9d4c1b37"
      },
      "execution_count": null,
      "outputs": [
        {
          "output_type": "stream",
          "name": "stdout",
          "text": [
            "Evaluation score on 3 cross-validation sets :  [0.61733889 0.60654907 0.5905632 ]\n",
            "Average R squared score :  0.6048170562554777\n"
          ]
        }
      ]
    },
    {
      "cell_type": "markdown",
      "source": [
        "---\n",
        "###### **Polynomial Regression**"
      ],
      "metadata": {
        "id": "scuAmJZ9ZnIA"
      }
    },
    {
      "cell_type": "markdown",
      "source": [
        "We can try to create polynomial features inorder to learn more non-linear (complex relation ship between features)"
      ],
      "metadata": {
        "id": "D8Pjpk2MhCNz"
      }
    },
    {
      "cell_type": "code",
      "source": [
        "#CREATING POLYNOMIAL FEATURES TO LEARN MORE COMPLEX RELATIONS BETWEEN FEATURES\n",
        "\n",
        "from sklearn.preprocessing import PolynomialFeatures\n",
        "\n",
        "#specify degree of 3 for polynomial regression model\n",
        "#include bias=False means don't force y-intercept to equal zero\n",
        "\n",
        "poly = PolynomialFeatures(degree = 3, include_bias = False, interaction_only = True)\n",
        "\n",
        "#CREATE POLYNOMIAL FEATURES FOR ALL FEATURES EXCEPT THE COORDINATES\n",
        "X_train_temp = X_train[:, :-2]\n",
        "poly_X_train = poly.fit_transform(X_train_temp)\n",
        "\n",
        "#CONCAT THE COORDINATE FEATURES \n",
        "\n",
        "poly_X_train = np.concatenate((poly_X_train, X_train[:, -2:]), axis = 1)"
      ],
      "metadata": {
        "id": "MMMmEy_6Zpqo"
      },
      "execution_count": 117,
      "outputs": []
    },
    {
      "cell_type": "code",
      "source": [
        "X_train.shape"
      ],
      "metadata": {
        "colab": {
          "base_uri": "https://localhost:8080/"
        },
        "id": "bMRxgEDDbiII",
        "outputId": "f1cbfd68-3692-48ef-abe2-d6df8748c22e"
      },
      "execution_count": 118,
      "outputs": [
        {
          "output_type": "execute_result",
          "data": {
            "text/plain": [
              "(16512, 8)"
            ]
          },
          "metadata": {},
          "execution_count": 118
        }
      ]
    },
    {
      "cell_type": "code",
      "source": [
        "poly_X_train.shape"
      ],
      "metadata": {
        "colab": {
          "base_uri": "https://localhost:8080/"
        },
        "id": "gtEpPDnraaxI",
        "outputId": "a22ff118-754a-4ab1-8b8b-363218d3050b"
      },
      "execution_count": 119,
      "outputs": [
        {
          "output_type": "execute_result",
          "data": {
            "text/plain": [
              "(16512, 43)"
            ]
          },
          "metadata": {},
          "execution_count": 119
        }
      ]
    },
    {
      "cell_type": "code",
      "source": [
        "#CREATING A MODEL OBJECT AND TRAINING \n",
        "\n",
        "polynomial_regression_model = LinearRegression()\n",
        "\n",
        "cv_scores['polynomial_regression_model'] = calculate_eval_metric(polynomial_regression_model, poly_X_train, y_train)"
      ],
      "metadata": {
        "colab": {
          "base_uri": "https://localhost:8080/"
        },
        "id": "ktFjyq2VZ6hd",
        "outputId": "ab675796-f82c-4050-ef33-2810b83b4be1"
      },
      "execution_count": 120,
      "outputs": [
        {
          "output_type": "stream",
          "name": "stdout",
          "text": [
            "Evaluation score on 3 cross-validation sets :  [   0.51319899 -100.3940004    -4.14467619]\n",
            "Average R squared score :  -34.675159200163826\n"
          ]
        }
      ]
    },
    {
      "cell_type": "markdown",
      "source": [
        "Model seems to perform very poorly. This might be a result of overfitting."
      ],
      "metadata": {
        "id": "kg81Ea94hRSc"
      }
    },
    {
      "cell_type": "markdown",
      "source": [
        "---\n",
        "###### **Ridge Regression**"
      ],
      "metadata": {
        "id": "V5cG825oXASP"
      }
    },
    {
      "cell_type": "markdown",
      "source": [
        "ridge regression is the l2 regularized Polynomial / Linear Regression - It can be helpful to reduce Overfitting "
      ],
      "metadata": {
        "id": "isDr1uzlXFIV"
      }
    },
    {
      "cell_type": "code",
      "source": [
        "#IMPORT RIDGE REGRESSION IMPLIMENTATION FROM SKLEARN\n",
        "\n",
        "from sklearn.linear_model import Ridge"
      ],
      "metadata": {
        "id": "RLX7bGi_iDez"
      },
      "execution_count": 126,
      "outputs": []
    },
    {
      "cell_type": "code",
      "source": [
        "poly_ridge_regression_model = Ridge(alpha = 2500.0)\n",
        "\n",
        "cv_scores['poly_ridge_regression_model'] = calculate_eval_metric(poly_ridge_regression_model, poly_X_train, y_train)"
      ],
      "metadata": {
        "id": "V2ya238PVXCx",
        "colab": {
          "base_uri": "https://localhost:8080/"
        },
        "outputId": "7767685e-4f48-4a96-8c87-b43faf2635ca"
      },
      "execution_count": 127,
      "outputs": [
        {
          "output_type": "stream",
          "name": "stdout",
          "text": [
            "Evaluation score on 3 cross-validation sets :  [0.54003682 0.40483983 0.53270562]\n",
            "Average R squared score :  0.4925274246450928\n"
          ]
        }
      ]
    },
    {
      "cell_type": "code",
      "source": [
        "ridge_regression_model = Ridge(alpha = 10.0)\n",
        "\n",
        "cv_scores[\"ridge_regression_model\"] = calculate_eval_metric(ridge_regression_model, X_train, y_train)"
      ],
      "metadata": {
        "colab": {
          "base_uri": "https://localhost:8080/"
        },
        "id": "J-8MHTrycMin",
        "outputId": "7c0f5e7f-37dd-440f-b52a-a404f3089be3"
      },
      "execution_count": 134,
      "outputs": [
        {
          "output_type": "stream",
          "name": "stdout",
          "text": [
            "Evaluation score on 3 cross-validation sets :  [0.61717619 0.60642186 0.59115334]\n",
            "Average R squared score :  0.6049171307366464\n"
          ]
        }
      ]
    },
    {
      "cell_type": "markdown",
      "source": [
        "---\n",
        "###### **Decision Tree Regressor**"
      ],
      "metadata": {
        "id": "Bwvw0eOaikKE"
      }
    },
    {
      "cell_type": "code",
      "source": [
        "from sklearn.tree import DecisionTreeRegressor\n",
        "\n",
        "decision_tree_model = DecisionTreeRegressor(random_state = 0)\n",
        "\n",
        "cv_scores[\"decision_tree_model\"] = calculate_eval_metric(decision_tree_model, X_train, y_train)"
      ],
      "metadata": {
        "colab": {
          "base_uri": "https://localhost:8080/"
        },
        "id": "lxXDDnK9iz2n",
        "outputId": "94652f50-e09d-4bcc-a68c-2376d0f211be"
      },
      "execution_count": 137,
      "outputs": [
        {
          "output_type": "stream",
          "name": "stdout",
          "text": [
            "Evaluation score on 3 cross-validation sets :  [0.6292367  0.55985191 0.59136255]\n",
            "Average R squared score :  0.593483722209434\n"
          ]
        }
      ]
    },
    {
      "cell_type": "code",
      "source": [
        "#PARAMETER TUNING \n",
        "\n",
        "#TRYING DIFFERENT VALUES OF MAX_DEPTH \n",
        "\n",
        "for depth in [2, 4, 6, 8, 10, 12]:\n",
        "    decision_tree_model_depth = DecisionTreeRegressor(random_state = 0, max_depth = depth)\n",
        "\n",
        "    cv_scores[\"decision_tree_model_depth\", depth] = calculate_eval_metric(decision_tree_model_depth, X_train, y_train)"
      ],
      "metadata": {
        "colab": {
          "base_uri": "https://localhost:8080/"
        },
        "id": "NJ2WCJRjkN1Z",
        "outputId": "f8b72547-552a-46b7-def3-c6aeca368626"
      },
      "execution_count": 142,
      "outputs": [
        {
          "output_type": "stream",
          "name": "stdout",
          "text": [
            "Evaluation score on 3 cross-validation sets :  [0.44816492 0.42954666 0.44545706]\n",
            "Average R squared score :  0.44105621127826095\n",
            "Evaluation score on 3 cross-validation sets :  [0.57585727 0.55652765 0.57489747]\n",
            "Average R squared score :  0.5690941288023251\n",
            "Evaluation score on 3 cross-validation sets :  [0.65708645 0.62742877 0.6540113 ]\n",
            "Average R squared score :  0.6461755081549374\n",
            "Evaluation score on 3 cross-validation sets :  [0.69626366 0.66989515 0.67986131]\n",
            "Average R squared score :  0.6820067052741757\n",
            "Evaluation score on 3 cross-validation sets :  [0.68647535 0.66354374 0.68702813]\n",
            "Average R squared score :  0.6790157396768074\n",
            "Evaluation score on 3 cross-validation sets :  [0.6864275  0.63599426 0.6615508 ]\n",
            "Average R squared score :  0.6613241838056646\n"
          ]
        }
      ]
    },
    {
      "cell_type": "code",
      "source": [
        "cv_scores"
      ],
      "metadata": {
        "colab": {
          "base_uri": "https://localhost:8080/"
        },
        "id": "e3xv8lnVksMq",
        "outputId": "2e6faa6a-db3d-469b-d90e-af50d874cdaf"
      },
      "execution_count": 143,
      "outputs": [
        {
          "output_type": "execute_result",
          "data": {
            "text/plain": [
              "{'linear_regression_model': 0.6048170562554777,\n",
              " 'polynomial_regression_model': -34.675159200163826,\n",
              " 'ridge_regression_model': 0.6049171307366464,\n",
              " 'poly_ridge_regression_model': 0.4925274246450928,\n",
              " 'decision_tree_model': 0.593483722209434,\n",
              " ('decision_tree_model_depth', 2): 0.44105621127826095,\n",
              " ('decision_tree_model_depth', 4): 0.5690941288023251,\n",
              " ('decision_tree_model_depth', 6): 0.6461755081549374,\n",
              " ('decision_tree_model_depth', 8): 0.6820067052741757,\n",
              " ('decision_tree_model_depth', 10): 0.6790157396768074,\n",
              " ('decision_tree_model_depth', 12): 0.6613241838056646}"
            ]
          },
          "metadata": {},
          "execution_count": 143
        }
      ]
    },
    {
      "cell_type": "markdown",
      "source": [
        "from above we can observe that the max_depth value of 8 works best and generalize better than others "
      ],
      "metadata": {
        "id": "f4UgUiEvlBN7"
      }
    },
    {
      "cell_type": "markdown",
      "source": [
        "---\n",
        "###### **Random Forest Regressor**"
      ],
      "metadata": {
        "id": "zmLlCtD3lRRx"
      }
    },
    {
      "cell_type": "code",
      "source": [
        "from sklearn.ensemble import RandomForestRegressor"
      ],
      "metadata": {
        "id": "XeZh--Kakv45"
      },
      "execution_count": 144,
      "outputs": []
    },
    {
      "cell_type": "code",
      "source": [
        "random_forest_regressor_model = RandomForestRegressor(n_estimators = 100, max_depth = 8, random_state = 0)\n",
        "\n",
        "cv_scores[\"random_forest_regressor_model\"] = calculate_eval_metric(random_forest_regressor_model, X_train, y_train)"
      ],
      "metadata": {
        "colab": {
          "base_uri": "https://localhost:8080/"
        },
        "id": "DR5JistYmcQH",
        "outputId": "7e9b146b-d686-4fb5-89fc-1d10b22721e3"
      },
      "execution_count": 145,
      "outputs": [
        {
          "output_type": "stream",
          "name": "stdout",
          "text": [
            "Evaluation score on 3 cross-validation sets :  [0.76016949 0.74570302 0.747854  ]\n",
            "Average R squared score :  0.7512421711769676\n"
          ]
        }
      ]
    },
    {
      "cell_type": "markdown",
      "source": [
        "Random forest gives the best performance out of every other model"
      ],
      "metadata": {
        "id": "fh99qRQtnJG5"
      }
    },
    {
      "cell_type": "code",
      "source": [
        "#TRYING DIFFERENT VALUES FOR N_ESTIMATORS IN TRAINING OUR MODEL \n",
        "\n",
        "for estimators in [80, 100, 120]:\n",
        "    random_forest_regressor_model_estimators = RandomForestRegressor(n_estimators = estimators, max_depth = 8, random_state = 0)\n",
        "\n",
        "    cv_scores[\"random_forest_regressor_model_estimators\", estimators] = calculate_eval_metric(random_forest_regressor_model_estimators, X_train, y_train)"
      ],
      "metadata": {
        "colab": {
          "base_uri": "https://localhost:8080/"
        },
        "id": "2jPXc3--nD4s",
        "outputId": "2a5f6520-e4b3-4a8b-c4ae-7afc42365b25"
      },
      "execution_count": 146,
      "outputs": [
        {
          "output_type": "stream",
          "name": "stdout",
          "text": [
            "Evaluation score on 3 cross-validation sets :  [0.75947895 0.7444624  0.74759133]\n",
            "Average R squared score :  0.7505108924375108\n",
            "Evaluation score on 3 cross-validation sets :  [0.76016949 0.74570302 0.747854  ]\n",
            "Average R squared score :  0.7512421711769676\n",
            "Evaluation score on 3 cross-validation sets :  [0.76075865 0.74723152 0.74797942]\n",
            "Average R squared score :  0.7519898651687122\n"
          ]
        }
      ]
    },
    {
      "cell_type": "code",
      "source": [
        "cv_scores"
      ],
      "metadata": {
        "colab": {
          "base_uri": "https://localhost:8080/"
        },
        "id": "SbAnwmU0pPfI",
        "outputId": "eec45812-0c6e-46de-ccef-3fd7f9cc5e59"
      },
      "execution_count": 147,
      "outputs": [
        {
          "output_type": "execute_result",
          "data": {
            "text/plain": [
              "{'linear_regression_model': 0.6048170562554777,\n",
              " 'polynomial_regression_model': -34.675159200163826,\n",
              " 'ridge_regression_model': 0.6049171307366464,\n",
              " 'poly_ridge_regression_model': 0.4925274246450928,\n",
              " 'decision_tree_model': 0.593483722209434,\n",
              " ('decision_tree_model_depth', 2): 0.44105621127826095,\n",
              " ('decision_tree_model_depth', 4): 0.5690941288023251,\n",
              " ('decision_tree_model_depth', 6): 0.6461755081549374,\n",
              " ('decision_tree_model_depth', 8): 0.6820067052741757,\n",
              " ('decision_tree_model_depth', 10): 0.6790157396768074,\n",
              " ('decision_tree_model_depth', 12): 0.6613241838056646,\n",
              " 'random_forest_regressor_model': 0.7512421711769676,\n",
              " ('random_forest_regressor_model_estimators', 80): 0.7505108924375108,\n",
              " ('random_forest_regressor_model_estimators', 100): 0.7512421711769676,\n",
              " ('random_forest_regressor_model_estimators', 120): 0.7519898651687122}"
            ]
          },
          "metadata": {},
          "execution_count": 147
        }
      ]
    },
    {
      "cell_type": "markdown",
      "source": [
        "more estimators in random forest almost always result in better performance as we can confirm here, but we will stick with 100 n_estimators due to time constraints in training and because increasing estimators does not result in a major improvement."
      ],
      "metadata": {
        "id": "8ffFKD1HpPEK"
      }
    },
    {
      "cell_type": "markdown",
      "source": [
        "---\n",
        "###### **Gradient Boosting Regressor**"
      ],
      "metadata": {
        "id": "o29bb8VRqCe4"
      }
    },
    {
      "cell_type": "code",
      "source": [
        "from sklearn.ensemble import GradientBoostingRegressor"
      ],
      "metadata": {
        "id": "PYouCOkeqO6A"
      },
      "execution_count": 148,
      "outputs": []
    },
    {
      "cell_type": "code",
      "source": [
        "gradient_boosting_model = GradientBoostingRegressor(random_state = 0, n_estimators = 100, learning_rate = 0.1, max_depth = 8)\n",
        "\n",
        "cv_scores[\"gradient_boosting_model\"] = calculate_eval_metric(gradient_boosting_model, X_train, y_train)"
      ],
      "metadata": {
        "colab": {
          "base_uri": "https://localhost:8080/"
        },
        "id": "_l5ISTUeqlnY",
        "outputId": "c3af12c3-09d4-4bbd-8fec-815610ccd1ea"
      },
      "execution_count": 149,
      "outputs": [
        {
          "output_type": "stream",
          "name": "stdout",
          "text": [
            "Evaluation score on 3 cross-validation sets :  [0.83041307 0.83215497 0.818246  ]\n",
            "Average R squared score :  0.8269380107026487\n"
          ]
        }
      ]
    },
    {
      "cell_type": "markdown",
      "source": [
        "Gradient Boosted Regressor results in best performance out of any model yet."
      ],
      "metadata": {
        "id": "afNp1cBvrRFg"
      }
    },
    {
      "cell_type": "markdown",
      "source": [
        "---\n",
        "###### **eXtreme Gradient Boosting Regressor (XGBoost)**"
      ],
      "metadata": {
        "id": "5lkrCICqrhIG"
      }
    },
    {
      "cell_type": "code",
      "source": [
        "import xgboost as xgb"
      ],
      "metadata": {
        "id": "RUS0Vqoprw4f"
      },
      "execution_count": 150,
      "outputs": []
    },
    {
      "cell_type": "code",
      "source": [
        "xgb_model = xgb.XGBRegressor(max_depth = 8, n_estimators = 100, random_state = 0)\n",
        "\n",
        "cv_scores[\"xgb_model\"] = calculate_eval_metric(xgb_model, X_train, y_train)"
      ],
      "metadata": {
        "colab": {
          "base_uri": "https://localhost:8080/"
        },
        "id": "u-o2TMEsr2mG",
        "outputId": "db6eb828-cdc2-4831-a4b5-8ce457b285a1"
      },
      "execution_count": 153,
      "outputs": [
        {
          "output_type": "stream",
          "name": "stdout",
          "text": [
            "[04:54:09] WARNING: /workspace/src/objective/regression_obj.cu:152: reg:linear is now deprecated in favor of reg:squarederror.\n",
            "[04:54:12] WARNING: /workspace/src/objective/regression_obj.cu:152: reg:linear is now deprecated in favor of reg:squarederror.\n",
            "[04:54:15] WARNING: /workspace/src/objective/regression_obj.cu:152: reg:linear is now deprecated in favor of reg:squarederror.\n",
            "Evaluation score on 3 cross-validation sets :  [0.83280003 0.83361391 0.82231405]\n",
            "Average R squared score :  0.8295759945972049\n"
          ]
        }
      ]
    },
    {
      "cell_type": "markdown",
      "source": [
        "---\n",
        "###### **Support Vector Regression**"
      ],
      "metadata": {
        "id": "4yZoPwG0u0Wm"
      }
    },
    {
      "cell_type": "code",
      "source": [
        "from sklearn.svm import SVR"
      ],
      "metadata": {
        "id": "wQy5IoB7uz-w"
      },
      "execution_count": 154,
      "outputs": []
    },
    {
      "cell_type": "code",
      "source": [
        "svr_model = SVR()\n",
        "\n",
        "cv_scores[\"svr_model\"] = calculate_eval_metric(svr_model, X_train, y_train)"
      ],
      "metadata": {
        "colab": {
          "base_uri": "https://localhost:8080/"
        },
        "id": "g4vltGHnuDYO",
        "outputId": "0f611cba-7950-441f-be18-5d23ca7c13b6"
      },
      "execution_count": 155,
      "outputs": [
        {
          "output_type": "stream",
          "name": "stdout",
          "text": [
            "Evaluation score on 3 cross-validation sets :  [0.73671607 0.72975087 0.72730831]\n",
            "Average R squared score :  0.7312584168808836\n"
          ]
        }
      ]
    },
    {
      "cell_type": "markdown",
      "source": [
        "---\n",
        "##### **Model Selection** (by comparing evaluation metrics)"
      ],
      "metadata": {
        "id": "IKde2tR0xib9"
      }
    },
    {
      "cell_type": "markdown",
      "source": [
        "Let's Take a look at the evaluation (r squared) score performance of different Models on our training data"
      ],
      "metadata": {
        "id": "3AwApmjaxrb9"
      }
    },
    {
      "cell_type": "code",
      "source": [
        "cv_scores"
      ],
      "metadata": {
        "colab": {
          "base_uri": "https://localhost:8080/"
        },
        "id": "eK7Pe69yxkod",
        "outputId": "9892a67a-8ba7-4f3e-c33c-9e552cb08024"
      },
      "execution_count": 156,
      "outputs": [
        {
          "output_type": "execute_result",
          "data": {
            "text/plain": [
              "{'linear_regression_model': 0.6048170562554777,\n",
              " 'polynomial_regression_model': -34.675159200163826,\n",
              " 'ridge_regression_model': 0.6049171307366464,\n",
              " 'poly_ridge_regression_model': 0.4925274246450928,\n",
              " 'decision_tree_model': 0.593483722209434,\n",
              " ('decision_tree_model_depth', 2): 0.44105621127826095,\n",
              " ('decision_tree_model_depth', 4): 0.5690941288023251,\n",
              " ('decision_tree_model_depth', 6): 0.6461755081549374,\n",
              " ('decision_tree_model_depth', 8): 0.6820067052741757,\n",
              " ('decision_tree_model_depth', 10): 0.6790157396768074,\n",
              " ('decision_tree_model_depth', 12): 0.6613241838056646,\n",
              " 'random_forest_regressor_model': 0.7512421711769676,\n",
              " ('random_forest_regressor_model_estimators', 80): 0.7505108924375108,\n",
              " ('random_forest_regressor_model_estimators', 100): 0.7512421711769676,\n",
              " ('random_forest_regressor_model_estimators', 120): 0.7519898651687122,\n",
              " 'gradient_boosting_model': 0.8269380107026487,\n",
              " 'xgb_model': 0.8295759945972049,\n",
              " 'svr_model': 0.7312584168808836}"
            ]
          },
          "metadata": {},
          "execution_count": 156
        }
      ]
    },
    {
      "cell_type": "markdown",
      "source": [
        "from above data we can observe that the gradient boosting ('gradient_boosting' and 'xgb') models are able to provide the best performance.\n",
        "\n",
        "We will use Gradient Boosting Regressor for making predictions on new data."
      ],
      "metadata": {
        "id": "8uPJYy9Dx_jF"
      }
    },
    {
      "cell_type": "code",
      "source": [
        "from sklearn.ensemble import GradientBoostingRegressor\n",
        "\n",
        "#BOOSTING MODEL\n",
        "gradient_boosting_model = GradientBoostingRegressor(random_state = 0, n_estimators = 100, learning_rate = 0.1, max_depth = 8)\n",
        "\n",
        "#FIT THE MODEL USING THE COMPLETE TRAINING DATA FOR BETTER PERFORMANCE\n",
        "gradient_boosting_model.fit(X_train, y_train)"
      ],
      "metadata": {
        "colab": {
          "base_uri": "https://localhost:8080/"
        },
        "id": "XkITWpD3zaTr",
        "outputId": "c60f0f48-b0a2-4084-8be2-ae06ab9e700f"
      },
      "execution_count": 161,
      "outputs": [
        {
          "output_type": "execute_result",
          "data": {
            "text/plain": [
              "GradientBoostingRegressor(max_depth=8, random_state=0)"
            ]
          },
          "metadata": {},
          "execution_count": 161
        }
      ]
    },
    {
      "cell_type": "code",
      "source": [
        "#EVALUATION SCORE (R SQUARED) ON TRAIN DATA - HOW WELL OUR MODEL PERFORMS ON TRAINING DATA\n",
        "gradient_boosting_model.score(X_train, y_train)"
      ],
      "metadata": {
        "colab": {
          "base_uri": "https://localhost:8080/"
        },
        "id": "wOz8ielO0moD",
        "outputId": "eae6ca6d-a0ac-4b3e-a1b8-84abdef90df1"
      },
      "execution_count": 164,
      "outputs": [
        {
          "output_type": "execute_result",
          "data": {
            "text/plain": [
              "0.9543701442570848"
            ]
          },
          "metadata": {},
          "execution_count": 164
        }
      ]
    },
    {
      "cell_type": "code",
      "source": [
        "#EVALUATION SCORE ON TEST DATA TO SEE HOW WELL OUR MODEL GENERALIZE TO NEW DATA\n",
        "gradient_boosting_model.score(X_test, y_test)"
      ],
      "metadata": {
        "colab": {
          "base_uri": "https://localhost:8080/"
        },
        "id": "yRS3v2WG08sD",
        "outputId": "3a8b00e9-eb26-4ba7-baa9-86079c7a612a"
      },
      "execution_count": 163,
      "outputs": [
        {
          "output_type": "execute_result",
          "data": {
            "text/plain": [
              "0.8349827250092899"
            ]
          },
          "metadata": {},
          "execution_count": 163
        }
      ]
    },
    {
      "cell_type": "markdown",
      "source": [
        "---\n",
        "##### **Learn Feature Importance and Relations**"
      ],
      "metadata": {
        "id": "2U5mfGNS2LuE"
      }
    },
    {
      "cell_type": "code",
      "source": [
        "#IMPORTANCE OF DIFFERENT FEATURES IN OUR MODEL\n",
        "list_of_features = [\"MedInc\", \"HouseAge\", \"AveRooms\", \"AveBedrms\", \"Population\", \"AveOccup\", \"Latitude\", \"Longitude\"]\n",
        "feature_imp = gradient_boosting_model.feature_importances_\n",
        "\n",
        "feature_importance = pd.DataFrame(list_of_features, columns = [\"Features\"])\n",
        "feature_importance[\"Importance\"] = feature_imp\n",
        "\n",
        "feature_importance"
      ],
      "metadata": {
        "colab": {
          "base_uri": "https://localhost:8080/",
          "height": 300
        },
        "id": "vhwYiXtW2rV0",
        "outputId": "c84b2278-63a2-4e3e-f90c-9ad5f016721e"
      },
      "execution_count": 168,
      "outputs": [
        {
          "output_type": "execute_result",
          "data": {
            "text/plain": [
              "     Features  Importance\n",
              "0      MedInc    0.529809\n",
              "1    HouseAge    0.044990\n",
              "2    AveRooms    0.033840\n",
              "3   AveBedrms    0.020110\n",
              "4  Population    0.018274\n",
              "5    AveOccup    0.135122\n",
              "6    Latitude    0.108023\n",
              "7   Longitude    0.109831"
            ],
            "text/html": [
              "\n",
              "  <div id=\"df-39904e16-b1eb-4003-8543-7bba0167ef9c\">\n",
              "    <div class=\"colab-df-container\">\n",
              "      <div>\n",
              "<style scoped>\n",
              "    .dataframe tbody tr th:only-of-type {\n",
              "        vertical-align: middle;\n",
              "    }\n",
              "\n",
              "    .dataframe tbody tr th {\n",
              "        vertical-align: top;\n",
              "    }\n",
              "\n",
              "    .dataframe thead th {\n",
              "        text-align: right;\n",
              "    }\n",
              "</style>\n",
              "<table border=\"1\" class=\"dataframe\">\n",
              "  <thead>\n",
              "    <tr style=\"text-align: right;\">\n",
              "      <th></th>\n",
              "      <th>Features</th>\n",
              "      <th>Importance</th>\n",
              "    </tr>\n",
              "  </thead>\n",
              "  <tbody>\n",
              "    <tr>\n",
              "      <th>0</th>\n",
              "      <td>MedInc</td>\n",
              "      <td>0.529809</td>\n",
              "    </tr>\n",
              "    <tr>\n",
              "      <th>1</th>\n",
              "      <td>HouseAge</td>\n",
              "      <td>0.044990</td>\n",
              "    </tr>\n",
              "    <tr>\n",
              "      <th>2</th>\n",
              "      <td>AveRooms</td>\n",
              "      <td>0.033840</td>\n",
              "    </tr>\n",
              "    <tr>\n",
              "      <th>3</th>\n",
              "      <td>AveBedrms</td>\n",
              "      <td>0.020110</td>\n",
              "    </tr>\n",
              "    <tr>\n",
              "      <th>4</th>\n",
              "      <td>Population</td>\n",
              "      <td>0.018274</td>\n",
              "    </tr>\n",
              "    <tr>\n",
              "      <th>5</th>\n",
              "      <td>AveOccup</td>\n",
              "      <td>0.135122</td>\n",
              "    </tr>\n",
              "    <tr>\n",
              "      <th>6</th>\n",
              "      <td>Latitude</td>\n",
              "      <td>0.108023</td>\n",
              "    </tr>\n",
              "    <tr>\n",
              "      <th>7</th>\n",
              "      <td>Longitude</td>\n",
              "      <td>0.109831</td>\n",
              "    </tr>\n",
              "  </tbody>\n",
              "</table>\n",
              "</div>\n",
              "      <button class=\"colab-df-convert\" onclick=\"convertToInteractive('df-39904e16-b1eb-4003-8543-7bba0167ef9c')\"\n",
              "              title=\"Convert this dataframe to an interactive table.\"\n",
              "              style=\"display:none;\">\n",
              "        \n",
              "  <svg xmlns=\"http://www.w3.org/2000/svg\" height=\"24px\"viewBox=\"0 0 24 24\"\n",
              "       width=\"24px\">\n",
              "    <path d=\"M0 0h24v24H0V0z\" fill=\"none\"/>\n",
              "    <path d=\"M18.56 5.44l.94 2.06.94-2.06 2.06-.94-2.06-.94-.94-2.06-.94 2.06-2.06.94zm-11 1L8.5 8.5l.94-2.06 2.06-.94-2.06-.94L8.5 2.5l-.94 2.06-2.06.94zm10 10l.94 2.06.94-2.06 2.06-.94-2.06-.94-.94-2.06-.94 2.06-2.06.94z\"/><path d=\"M17.41 7.96l-1.37-1.37c-.4-.4-.92-.59-1.43-.59-.52 0-1.04.2-1.43.59L10.3 9.45l-7.72 7.72c-.78.78-.78 2.05 0 2.83L4 21.41c.39.39.9.59 1.41.59.51 0 1.02-.2 1.41-.59l7.78-7.78 2.81-2.81c.8-.78.8-2.07 0-2.86zM5.41 20L4 18.59l7.72-7.72 1.47 1.35L5.41 20z\"/>\n",
              "  </svg>\n",
              "      </button>\n",
              "      \n",
              "  <style>\n",
              "    .colab-df-container {\n",
              "      display:flex;\n",
              "      flex-wrap:wrap;\n",
              "      gap: 12px;\n",
              "    }\n",
              "\n",
              "    .colab-df-convert {\n",
              "      background-color: #E8F0FE;\n",
              "      border: none;\n",
              "      border-radius: 50%;\n",
              "      cursor: pointer;\n",
              "      display: none;\n",
              "      fill: #1967D2;\n",
              "      height: 32px;\n",
              "      padding: 0 0 0 0;\n",
              "      width: 32px;\n",
              "    }\n",
              "\n",
              "    .colab-df-convert:hover {\n",
              "      background-color: #E2EBFA;\n",
              "      box-shadow: 0px 1px 2px rgba(60, 64, 67, 0.3), 0px 1px 3px 1px rgba(60, 64, 67, 0.15);\n",
              "      fill: #174EA6;\n",
              "    }\n",
              "\n",
              "    [theme=dark] .colab-df-convert {\n",
              "      background-color: #3B4455;\n",
              "      fill: #D2E3FC;\n",
              "    }\n",
              "\n",
              "    [theme=dark] .colab-df-convert:hover {\n",
              "      background-color: #434B5C;\n",
              "      box-shadow: 0px 1px 3px 1px rgba(0, 0, 0, 0.15);\n",
              "      filter: drop-shadow(0px 1px 2px rgba(0, 0, 0, 0.3));\n",
              "      fill: #FFFFFF;\n",
              "    }\n",
              "  </style>\n",
              "\n",
              "      <script>\n",
              "        const buttonEl =\n",
              "          document.querySelector('#df-39904e16-b1eb-4003-8543-7bba0167ef9c button.colab-df-convert');\n",
              "        buttonEl.style.display =\n",
              "          google.colab.kernel.accessAllowed ? 'block' : 'none';\n",
              "\n",
              "        async function convertToInteractive(key) {\n",
              "          const element = document.querySelector('#df-39904e16-b1eb-4003-8543-7bba0167ef9c');\n",
              "          const dataTable =\n",
              "            await google.colab.kernel.invokeFunction('convertToInteractive',\n",
              "                                                     [key], {});\n",
              "          if (!dataTable) return;\n",
              "\n",
              "          const docLinkHtml = 'Like what you see? Visit the ' +\n",
              "            '<a target=\"_blank\" href=https://colab.research.google.com/notebooks/data_table.ipynb>data table notebook</a>'\n",
              "            + ' to learn more about interactive tables.';\n",
              "          element.innerHTML = '';\n",
              "          dataTable['output_type'] = 'display_data';\n",
              "          await google.colab.output.renderOutput(dataTable, element);\n",
              "          const docLink = document.createElement('div');\n",
              "          docLink.innerHTML = docLinkHtml;\n",
              "          element.appendChild(docLink);\n",
              "        }\n",
              "      </script>\n",
              "    </div>\n",
              "  </div>\n",
              "  "
            ]
          },
          "metadata": {},
          "execution_count": 168
        }
      ]
    },
    {
      "cell_type": "code",
      "source": [
        "plt.figure(figsize = (12,8))\n",
        "sns.barplot(feature_importance['Importance'],feature_importance['Features'], orient = 'h')\n",
        "plt.show()"
      ],
      "metadata": {
        "colab": {
          "base_uri": "https://localhost:8080/",
          "height": 552
        },
        "id": "zIQUwWod3R-p",
        "outputId": "37178e9d-676f-4324-b568-6bbb25e82d81"
      },
      "execution_count": 169,
      "outputs": [
        {
          "output_type": "stream",
          "name": "stderr",
          "text": [
            "/usr/local/lib/python3.8/dist-packages/seaborn/_decorators.py:36: FutureWarning: Pass the following variables as keyword args: x, y. From version 0.12, the only valid positional argument will be `data`, and passing other arguments without an explicit keyword will result in an error or misinterpretation.\n",
            "  warnings.warn(\n"
          ]
        },
        {
          "output_type": "display_data",
          "data": {
            "text/plain": [
              "<Figure size 864x576 with 1 Axes>"
            ],
            "image/png": "[encoded data removed]"
          },
          "metadata": {
            "needs_background": "light"
          }
        }
      ]
    },
    {
      "cell_type": "code",
      "source": [
        "!pip install shap\n",
        "\n",
        "import shap\n",
        "\n",
        "explainer = shap.TreeExplainer(gradient_boosting_model)\n",
        "shap_values = explainer.shap_values(X_train)"
      ],
      "metadata": {
        "colab": {
          "base_uri": "https://localhost:8080/"
        },
        "id": "BZhDXAU14a1d",
        "outputId": "7bd881b3-4d37-4503-e658-1e01604e3006"
      },
      "execution_count": 171,
      "outputs": [
        {
          "output_type": "stream",
          "name": "stdout",
          "text": [
            "Looking in indexes: https://pypi.org/simple, https://us-python.pkg.dev/colab-wheels/public/simple/\n",
            "Collecting shap\n",
            "  Downloading shap-0.41.0-cp38-cp38-manylinux_2_12_x86_64.manylinux2010_x86_64.whl (575 kB)\n",
            "\u001b[2K     \u001b[90m━━━━━━━━━━━━━━━━━━━━━━━━━━━━━━━━━━━━━━\u001b[0m \u001b[32m575.9/575.9 KB\u001b[0m \u001b[31m13.1 MB/s\u001b[0m eta \u001b[36m0:00:00\u001b[0m\n",
            "\u001b[?25hRequirement already satisfied: tqdm>4.25.0 in /usr/local/lib/python3.8/dist-packages (from shap) (4.64.1)\n",
            "Requirement already satisfied: pandas in /usr/local/lib/python3.8/dist-packages (from shap) (1.3.5)\n",
            "Requirement already satisfied: numba in /usr/local/lib/python3.8/dist-packages (from shap) (0.56.4)\n",
            "Requirement already satisfied: scipy in /usr/local/lib/python3.8/dist-packages (from shap) (1.7.3)\n",
            "Requirement already satisfied: scikit-learn in /usr/local/lib/python3.8/dist-packages (from shap) (1.0.2)\n",
            "Requirement already satisfied: numpy in /usr/local/lib/python3.8/dist-packages (from shap) (1.21.6)\n",
            "Requirement already satisfied: cloudpickle in /usr/local/lib/python3.8/dist-packages (from shap) (2.2.1)\n",
            "Requirement already satisfied: packaging>20.9 in /usr/local/lib/python3.8/dist-packages (from shap) (23.0)\n",
            "Collecting slicer==0.0.7\n",
            "  Downloading slicer-0.0.7-py3-none-any.whl (14 kB)\n",
            "Requirement already satisfied: setuptools in /usr/local/lib/python3.8/dist-packages (from numba->shap) (57.4.0)\n",
            "Requirement already satisfied: llvmlite<0.40,>=0.39.0dev0 in /usr/local/lib/python3.8/dist-packages (from numba->shap) (0.39.1)\n",
            "Requirement already satisfied: importlib-metadata in /usr/local/lib/python3.8/dist-packages (from numba->shap) (6.0.0)\n",
            "Requirement already satisfied: pytz>=2017.3 in /usr/local/lib/python3.8/dist-packages (from pandas->shap) (2022.7.1)\n",
            "Requirement already satisfied: python-dateutil>=2.7.3 in /usr/local/lib/python3.8/dist-packages (from pandas->shap) (2.8.2)\n",
            "Requirement already satisfied: joblib>=0.11 in /usr/local/lib/python3.8/dist-packages (from scikit-learn->shap) (1.2.0)\n",
            "Requirement already satisfied: threadpoolctl>=2.0.0 in /usr/local/lib/python3.8/dist-packages (from scikit-learn->shap) (3.1.0)\n",
            "Requirement already satisfied: six>=1.5 in /usr/local/lib/python3.8/dist-packages (from python-dateutil>=2.7.3->pandas->shap) (1.15.0)\n",
            "Requirement already satisfied: zipp>=0.5 in /usr/local/lib/python3.8/dist-packages (from importlib-metadata->numba->shap) (3.12.1)\n",
            "Installing collected packages: slicer, shap\n",
            "Successfully installed shap-0.41.0 slicer-0.0.7\n"
          ]
        }
      ]
    },
    {
      "cell_type": "code",
      "source": [
        "shap.summary_plot(shap_values, X_train)"
      ],
      "metadata": {
        "colab": {
          "base_uri": "https://localhost:8080/",
          "height": 348
        },
        "id": "rgPO9nSV5GkJ",
        "outputId": "c2d0f0ff-42f2-4829-afa2-6c048bbf5d86"
      },
      "execution_count": 172,
      "outputs": [
        {
          "output_type": "display_data",
          "data": {
            "text/plain": [
              "<Figure size 576x338.4 with 2 Axes>"
            ],
            "image/png": "[encoded data removed]"
          },
          "metadata": {
            "needs_background": "light"
          }
        }
      ]
    },
    {
      "cell_type": "markdown",
      "source": [
        "From above analysis we can conculde that the features 'MedInc', 'Latitude', 'Longitude' and 'AveOccup' contribute significantly more in producing the final predictions that other features."
      ],
      "metadata": {
        "id": "SKEf409956ub"
      }
    },
    {
      "cell_type": "markdown",
      "source": [
        "---\n",
        "##### **Prediction**"
      ],
      "metadata": {
        "id": "DQ-R-NOz9cTv"
      }
    },
    {
      "cell_type": "markdown",
      "source": [
        "first we have to standerdize the new data"
      ],
      "metadata": {
        "id": "KYPSLnw99we_"
      }
    },
    {
      "cell_type": "code",
      "source": [
        "x_pred = cal_housing_dataset.data.loc[0].values.reshape(1, -1)\n",
        "x_pred"
      ],
      "metadata": {
        "colab": {
          "base_uri": "https://localhost:8080/"
        },
        "id": "njKNEh_a9ybf",
        "outputId": "c24c2cae-f477-4225-d679-c511bb4a16df"
      },
      "execution_count": 189,
      "outputs": [
        {
          "output_type": "execute_result",
          "data": {
            "text/plain": [
              "array([[   8.3252    ,   41.        ,    6.98412698,    1.02380952,\n",
              "         322.        ,    2.55555556,   37.88      , -122.23      ]])"
            ]
          },
          "metadata": {},
          "execution_count": 189
        }
      ]
    },
    {
      "cell_type": "code",
      "source": [
        "#STANDERDISE THE INPUT\n",
        "x_pred = scaler.transform(x_pred)"
      ],
      "metadata": {
        "colab": {
          "base_uri": "https://localhost:8080/"
        },
        "id": "8TcJyLqf9n5s",
        "outputId": "b9e45a60-54cb-45de-cd1c-3795322f7253"
      },
      "execution_count": 191,
      "outputs": [
        {
          "output_type": "stream",
          "name": "stderr",
          "text": [
            "X does not have valid feature names, but StandardScaler was fitted with feature names\n"
          ]
        }
      ]
    },
    {
      "cell_type": "code",
      "source": [
        "#PREDICTION ON DATA \n",
        "gradient_boosting_model.predict(x_pred)"
      ],
      "metadata": {
        "colab": {
          "base_uri": "https://localhost:8080/"
        },
        "id": "WVj-28VEHTM4",
        "outputId": "64bd6033-30b6-4108-a423-9300966b1acc"
      },
      "execution_count": 197,
      "outputs": [
        {
          "output_type": "execute_result",
          "data": {
            "text/plain": [
              "array([4.50939797])"
            ]
          },
          "metadata": {},
          "execution_count": 197
        }
      ]
    },
    {
      "cell_type": "code",
      "source": [
        "#ACTUAL VALUE\n",
        "\n",
        "cal_housing_dataset.target[0]"
      ],
      "metadata": {
        "colab": {
          "base_uri": "https://localhost:8080/"
        },
        "id": "KIOYnDDfILft",
        "outputId": "ffb77c03-6ba1-4989-c8d0-50d1cd297be0"
      },
      "execution_count": 193,
      "outputs": [
        {
          "output_type": "execute_result",
          "data": {
            "text/plain": [
              "4.526"
            ]
          },
          "metadata": {},
          "execution_count": 193
        }
      ]
    },
    {
      "cell_type": "markdown",
      "source": [
        "---\n",
        "### **5. Deployment**"
      ],
      "metadata": {
        "id": "2jk5ind1JZlq"
      }
    },
    {
      "cell_type": "markdown",
      "source": [
        "##### **Exporting the trained model to be used for later predictions. (by storing model object as byte file - Pickling)]**"
      ],
      "metadata": {
        "id": "9n67YekN7ZHE"
      }
    },
    {
      "cell_type": "markdown",
      "source": [
        "pickle is a serialized format file - to be deployed on web servers "
      ],
      "metadata": {
        "id": "sZ0VxjAx7cLM"
      }
    },
    {
      "cell_type": "code",
      "source": [
        "pickle.dump(gradient_boosting_model, open(\"gradient_boosting_model.pkl\", 'wb') ) #here wb = write byte"
      ],
      "metadata": {
        "id": "mnYOqTzk7-PW"
      },
      "execution_count": 198,
      "outputs": []
    },
    {
      "cell_type": "markdown",
      "source": [
        "Load and use the pickle file (model object)"
      ],
      "metadata": {
        "id": "R-ZcY9x98jOf"
      }
    },
    {
      "cell_type": "code",
      "source": [
        "pickled_model = pickle.load(open(\"gradient_boosting_model.pkl\", \"rb\")) #here rb = read byte"
      ],
      "metadata": {
        "id": "S7ro1O0K8iZI"
      },
      "execution_count": 199,
      "outputs": []
    },
    {
      "cell_type": "markdown",
      "source": [
        "making a pridiction using the loaded pickled_model"
      ],
      "metadata": {
        "id": "tmoCPXfj9AdM"
      }
    },
    {
      "cell_type": "code",
      "source": [
        "## Prediction\n",
        "pickled_model.predict(scaler.transform(cal_housing_dataset.data.loc[0].values.reshape(1, -1)))"
      ],
      "metadata": {
        "colab": {
          "base_uri": "https://localhost:8080/"
        },
        "id": "_9B-ZsjG89l0",
        "outputId": "3670bbb1-f396-44a8-fcf2-be96bdf6ecf5"
      },
      "execution_count": 200,
      "outputs": [
        {
          "output_type": "stream",
          "name": "stderr",
          "text": [
            "X does not have valid feature names, but StandardScaler was fitted with feature names\n"
          ]
        },
        {
          "output_type": "execute_result",
          "data": {
            "text/plain": [
              "array([4.50939797])"
            ]
          },
          "metadata": {},
          "execution_count": 200
        }
      ]
    },
    {
      "cell_type": "markdown",
      "source": [
        "the prediction is same as one made before"
      ],
      "metadata": {
        "id": "KrcKEVe99Qfq"
      }
    }
  ]
}